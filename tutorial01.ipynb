{
 "cells": [
  {
   "cell_type": "markdown",
   "metadata": {},
   "source": [
    "# Five Simple Examples"
   ]
  },
  {
   "cell_type": "markdown",
   "metadata": {},
   "source": [
    "## 1. Define a positive definite quadratic form\n",
    "This script is written based on [torch tutorial](http://torch.ch/docs/five-simple-examples.html#_)."
   ]
  },
  {
   "cell_type": "code",
   "execution_count": 1,
   "metadata": {
    "collapsed": false
   },
   "outputs": [],
   "source": [
    "require 'torch';"
   ]
  },
  {
   "cell_type": "code",
   "execution_count": 2,
   "metadata": {
    "collapsed": false
   },
   "outputs": [],
   "source": [
    "torch.manualSeed(1234)"
   ]
  },
  {
   "cell_type": "markdown",
   "metadata": {},
   "source": [
    "choose a dimension"
   ]
  },
  {
   "cell_type": "code",
   "execution_count": 3,
   "metadata": {
    "collapsed": true
   },
   "outputs": [],
   "source": [
    "N = 5"
   ]
  },
  {
   "cell_type": "markdown",
   "metadata": {},
   "source": [
    "create a random NxN matrix"
   ]
  },
  {
   "cell_type": "code",
   "execution_count": 4,
   "metadata": {
    "collapsed": true
   },
   "outputs": [],
   "source": [
    "A = torch.rand(N, N)"
   ]
  },
  {
   "cell_type": "markdown",
   "metadata": {},
   "source": [
    "make it symmetric positive"
   ]
  },
  {
   "cell_type": "code",
   "execution_count": 5,
   "metadata": {
    "collapsed": true
   },
   "outputs": [],
   "source": [
    "A = A*A:t()"
   ]
  },
  {
   "cell_type": "markdown",
   "metadata": {},
   "source": [
    "make it definite"
   ]
  },
  {
   "cell_type": "code",
   "execution_count": 6,
   "metadata": {
    "collapsed": false
   },
   "outputs": [
    {
     "data": {
      "text/plain": [
       " 1.5328  2.0026  0.8125  1.4990  1.0839\n",
       " 2.0026  2.9366  1.3434  2.1571  1.5836\n",
       " 0.8125  1.3434  0.8568  0.6775  0.8827\n",
       " 1.4990  2.1571  0.6775  2.3895  0.8894\n",
       " 1.0839  1.5836  0.8827  0.8894  1.0843\n",
       "[torch.DoubleTensor of size 5x5]\n",
       "\n"
      ]
     },
     "execution_count": 6,
     "metadata": {},
     "output_type": "execute_result"
    }
   ],
   "source": [
    "A:add(0.001, torch.eye(N))"
   ]
  },
  {
   "cell_type": "markdown",
   "metadata": {},
   "source": [
    "add a linear term"
   ]
  },
  {
   "cell_type": "code",
   "execution_count": 7,
   "metadata": {
    "collapsed": true
   },
   "outputs": [],
   "source": [
    "b = torch.rand(N)"
   ]
  },
  {
   "cell_type": "markdown",
   "metadata": {},
   "source": [
    "create the quadratic form"
   ]
  },
  {
   "cell_type": "code",
   "execution_count": 8,
   "metadata": {
    "collapsed": true
   },
   "outputs": [],
   "source": [
    "function J(x)\n",
    "    return 0.5*x:dot(A*x)-b:dot(x)\n",
    "end"
   ]
  },
  {
   "cell_type": "code",
   "execution_count": 9,
   "metadata": {
    "collapsed": false
   },
   "outputs": [],
   "source": [
    "print(J(torch.rand(N)))"
   ]
  },
  {
   "cell_type": "markdown",
   "metadata": {},
   "source": [
    "## 2. Find the exact minimum"
   ]
  },
  {
   "cell_type": "code",
   "execution_count": 10,
   "metadata": {
    "collapsed": false
   },
   "outputs": [
    {
     "data": {
      "text/plain": [
       "J(x^*) = -3.13684\t\n"
      ]
     },
     "execution_count": 10,
     "metadata": {},
     "output_type": "execute_result"
    }
   ],
   "source": [
    "xs = torch.inverse(A)*b\n",
    "print(string.format('J(x^*) = %g', J(xs)))"
   ]
  },
  {
   "cell_type": "markdown",
   "metadata": {},
   "source": [
    "## 3. Search the minimum by gradient descent"
   ]
  },
  {
   "cell_type": "code",
   "execution_count": 11,
   "metadata": {
    "collapsed": true
   },
   "outputs": [],
   "source": [
    "function dJ(x)\n",
    "    return A*x-b\n",
    "end"
   ]
  },
  {
   "cell_type": "code",
   "execution_count": 12,
   "metadata": {
    "collapsed": true
   },
   "outputs": [],
   "source": [
    "x = torch.rand(N)"
   ]
  },
  {
   "cell_type": "code",
   "execution_count": 13,
   "metadata": {
    "collapsed": false
   },
   "outputs": [
    {
     "data": {
      "text/plain": [
       "at iter 100 J(x) = -0.400242\t\n"
      ]
     },
     "execution_count": 13,
     "metadata": {},
     "output_type": "execute_result"
    },
    {
     "data": {
      "text/plain": [
       "at iter 200 J(x) = -0.617016\t\n",
       "at iter 300 J(x) = -0.791958\t\n"
      ]
     },
     "execution_count": 13,
     "metadata": {},
     "output_type": "execute_result"
    },
    {
     "data": {
      "text/plain": [
       "at iter 400 J(x) = -0.943902\t\n",
       "at iter 500 J(x) = -1.078578\t\n"
      ]
     },
     "execution_count": 13,
     "metadata": {},
     "output_type": "execute_result"
    },
    {
     "data": {
      "text/plain": [
       "at iter 600 J(x) = -1.199210\t\n",
       "at iter 700 J(x) = -1.308112\t\n"
      ]
     },
     "execution_count": 13,
     "metadata": {},
     "output_type": "execute_result"
    },
    {
     "data": {
      "text/plain": [
       "at iter 800 J(x) = -1.407067\t\n",
       "at iter 900 J(x) = -1.497486\t\n",
       "at iter 1000 J(x) = -1.580506\t\n"
      ]
     },
     "execution_count": 13,
     "metadata": {},
     "output_type": "execute_result"
    },
    {
     "data": {
      "text/plain": [
       "at iter 1100 J(x) = -1.657063\t\n",
       "at iter 1200 J(x) = -1.727931\t\n"
      ]
     },
     "execution_count": 13,
     "metadata": {},
     "output_type": "execute_result"
    },
    {
     "data": {
      "text/plain": [
       "at iter 1300 J(x) = -1.793762\t\n",
       "at iter 1400 J(x) = -1.855110\t\n",
       "at iter 1500 J(x) = -1.912446\t"
      ]
     },
     "execution_count": 13,
     "metadata": {},
     "output_type": "execute_result"
    },
    {
     "data": {
      "text/plain": [
       "\n",
       "at iter 1600 J(x) = -1.966178\t\n",
       "at iter 1700 J(x) = -2.016656\t\n"
      ]
     },
     "execution_count": 13,
     "metadata": {},
     "output_type": "execute_result"
    },
    {
     "data": {
      "text/plain": [
       "at iter 1800 J(x) = -2.064186\t\n",
       "at iter 1900 J(x) = -2.109035\t\n"
      ]
     },
     "execution_count": 13,
     "metadata": {},
     "output_type": "execute_result"
    },
    {
     "data": {
      "text/plain": [
       "at iter 2000 J(x) = -2.151435\t\n",
       "at iter 2100 J(x) = -2.191593\t\n",
       "at iter 2200 J(x) = -2.229689\t\n"
      ]
     },
     "execution_count": 13,
     "metadata": {},
     "output_type": "execute_result"
    },
    {
     "data": {
      "text/plain": [
       "at iter 2300 J(x) = -2.265882\t\n",
       "at iter 2400 J(x) = -2.300317\t\n"
      ]
     },
     "execution_count": 13,
     "metadata": {},
     "output_type": "execute_result"
    },
    {
     "data": {
      "text/plain": [
       "at iter 2500 J(x) = -2.333117\t\n",
       "at iter 2600 J(x) = -2.364398\t\n"
      ]
     },
     "execution_count": 13,
     "metadata": {},
     "output_type": "execute_result"
    },
    {
     "data": {
      "text/plain": [
       "at iter 2700 J(x) = -2.394260\t\n",
       "at iter 2800 J(x) = -2.422794\t\n"
      ]
     },
     "execution_count": 13,
     "metadata": {},
     "output_type": "execute_result"
    },
    {
     "data": {
      "text/plain": [
       "at iter 2900 J(x) = -2.450083\t\n",
       "at iter 3000 J(x) = -2.476200\t\n"
      ]
     },
     "execution_count": 13,
     "metadata": {},
     "output_type": "execute_result"
    },
    {
     "data": {
      "text/plain": [
       "at iter 3100 J(x) = -2.501213\t\n",
       "at iter 3200 J(x) = -2.525185\t\n"
      ]
     },
     "execution_count": 13,
     "metadata": {},
     "output_type": "execute_result"
    },
    {
     "data": {
      "text/plain": [
       "at iter 3300 J(x) = -2.548171\t\n",
       "at iter 3400 J(x) = -2.570223\t\n"
      ]
     },
     "execution_count": 13,
     "metadata": {},
     "output_type": "execute_result"
    },
    {
     "data": {
      "text/plain": [
       "at iter 3500 J(x) = -2.591389\t\n",
       "at iter 3600 J(x) = -2.611713\t\n"
      ]
     },
     "execution_count": 13,
     "metadata": {},
     "output_type": "execute_result"
    },
    {
     "data": {
      "text/plain": [
       "at iter 3700 J(x) = -2.631234\t\n",
       "at iter 3800 J(x) = -2.649992\t\n"
      ]
     },
     "execution_count": 13,
     "metadata": {},
     "output_type": "execute_result"
    },
    {
     "data": {
      "text/plain": [
       "at iter 3900 J(x) = -2.668021\t\n",
       "at iter 4000 J(x) = -2.685353\t\n"
      ]
     },
     "execution_count": 13,
     "metadata": {},
     "output_type": "execute_result"
    },
    {
     "data": {
      "text/plain": [
       "at iter 4100 J(x) = -2.702021\t\n",
       "at iter 4200 J(x) = -2.718053\t\n"
      ]
     },
     "execution_count": 13,
     "metadata": {},
     "output_type": "execute_result"
    },
    {
     "data": {
      "text/plain": [
       "at iter 4300 J(x) = -2.733476\t\n",
       "at iter 4400 J(x) = -2.748315\t\n"
      ]
     },
     "execution_count": 13,
     "metadata": {},
     "output_type": "execute_result"
    },
    {
     "data": {
      "text/plain": [
       "at iter 4500 J(x) = -2.762595\t\n",
       "at iter 4600 J(x) = -2.776339\t\n",
       "at iter 4700 J(x) = -2.789569\t\n"
      ]
     },
     "execution_count": 13,
     "metadata": {},
     "output_type": "execute_result"
    },
    {
     "data": {
      "text/plain": [
       "at iter 4800 J(x) = -2.802305\t\n",
       "at iter 4900 J(x) = -2.814566\t\n"
      ]
     },
     "execution_count": 13,
     "metadata": {},
     "output_type": "execute_result"
    },
    {
     "data": {
      "text/plain": [
       "at iter 5000 J(x) = -2.826372\t\n",
       "at iter 5100 J(x) = -2.837740\t\n"
      ]
     },
     "execution_count": 13,
     "metadata": {},
     "output_type": "execute_result"
    },
    {
     "data": {
      "text/plain": [
       "at iter 5200 J(x) = -2.848687\t\n",
       "at iter 5300 J(x) = -2.859230\t\n"
      ]
     },
     "execution_count": 13,
     "metadata": {},
     "output_type": "execute_result"
    },
    {
     "data": {
      "text/plain": [
       "at iter 5400 J(x) = -2.869384\t\n",
       "at iter 5500 J(x) = -2.879163\t\n"
      ]
     },
     "execution_count": 13,
     "metadata": {},
     "output_type": "execute_result"
    },
    {
     "data": {
      "text/plain": [
       "at iter 5600 J(x) = -2.888583\t\n",
       "at iter 5700 J(x) = -2.897655\t\n"
      ]
     },
     "execution_count": 13,
     "metadata": {},
     "output_type": "execute_result"
    },
    {
     "data": {
      "text/plain": [
       "at iter 5800 J(x) = -2.906395\t\n",
       "at iter 5900 J(x) = -2.914814\t\n"
      ]
     },
     "execution_count": 13,
     "metadata": {},
     "output_type": "execute_result"
    },
    {
     "data": {
      "text/plain": [
       "at iter 6000 J(x) = -2.922923\t\n",
       "at iter 6100 J(x) = -2.930736\t\n"
      ]
     },
     "execution_count": 13,
     "metadata": {},
     "output_type": "execute_result"
    },
    {
     "data": {
      "text/plain": [
       "at iter 6200 J(x) = -2.938262\t\n",
       "at iter 6300 J(x) = -2.945512\t\n"
      ]
     },
     "execution_count": 13,
     "metadata": {},
     "output_type": "execute_result"
    },
    {
     "data": {
      "text/plain": [
       "at iter 6400 J(x) = -2.952497\t\n",
       "at iter 6500 J(x) = -2.959226\t\n"
      ]
     },
     "execution_count": 13,
     "metadata": {},
     "output_type": "execute_result"
    },
    {
     "data": {
      "text/plain": [
       "at iter 6600 J(x) = -2.965709\t\n",
       "at iter 6700 J(x) = -2.971955\t\n"
      ]
     },
     "execution_count": 13,
     "metadata": {},
     "output_type": "execute_result"
    },
    {
     "data": {
      "text/plain": [
       "at iter 6800 J(x) = -2.977973\t\n",
       "at iter 6900 J(x) = -2.983771\t\n"
      ]
     },
     "execution_count": 13,
     "metadata": {},
     "output_type": "execute_result"
    },
    {
     "data": {
      "text/plain": [
       "at iter 7000 J(x) = -2.989357\t\n"
      ]
     },
     "execution_count": 13,
     "metadata": {},
     "output_type": "execute_result"
    },
    {
     "data": {
      "text/plain": [
       "at iter 7100 J(x) = -2.994738\t\n"
      ]
     },
     "execution_count": 13,
     "metadata": {},
     "output_type": "execute_result"
    },
    {
     "data": {
      "text/plain": [
       "at iter 7200 J(x) = -2.999924\t\n"
      ]
     },
     "execution_count": 13,
     "metadata": {},
     "output_type": "execute_result"
    },
    {
     "data": {
      "text/plain": [
       "at iter 7300 J(x) = -3.004919\t\n"
      ]
     },
     "execution_count": 13,
     "metadata": {},
     "output_type": "execute_result"
    },
    {
     "data": {
      "text/plain": [
       "at iter 7400 J(x) = -3.009733\t\n"
      ]
     },
     "execution_count": 13,
     "metadata": {},
     "output_type": "execute_result"
    },
    {
     "data": {
      "text/plain": [
       "at iter 7500 J(x) = -3.014370\t\n",
       "at iter 7600 J(x) = -3.018839\t\n"
      ]
     },
     "execution_count": 13,
     "metadata": {},
     "output_type": "execute_result"
    },
    {
     "data": {
      "text/plain": [
       "at iter 7700 J(x) = -3.023144\t\n",
       "at iter 7800 J(x) = -3.027292\t\n",
       "at iter 7900 J(x) = -3.031288\t\n"
      ]
     },
     "execution_count": 13,
     "metadata": {},
     "output_type": "execute_result"
    },
    {
     "data": {
      "text/plain": [
       "at iter 8000 J(x) = -3.035139\t\n",
       "at iter 8100 J(x) = -3.038849\t\n",
       "at iter 8200 J(x) = -3.042424\t\n"
      ]
     },
     "execution_count": 13,
     "metadata": {},
     "output_type": "execute_result"
    },
    {
     "data": {
      "text/plain": [
       "at iter 8300 J(x) = -3.045868\t\n",
       "at iter 8400 J(x) = -3.049187\t\n"
      ]
     },
     "execution_count": 13,
     "metadata": {},
     "output_type": "execute_result"
    },
    {
     "data": {
      "text/plain": [
       "at iter 8500 J(x) = -3.052385\t\n",
       "at iter 8600 J(x) = -3.055465\t\n",
       "at iter 8700 J(x) = -3.058434\t\n"
      ]
     },
     "execution_count": 13,
     "metadata": {},
     "output_type": "execute_result"
    },
    {
     "data": {
      "text/plain": [
       "at iter 8800 J(x) = -3.061294\t\n",
       "at iter 8900 J(x) = -3.064050\t\n"
      ]
     },
     "execution_count": 13,
     "metadata": {},
     "output_type": "execute_result"
    },
    {
     "data": {
      "text/plain": [
       "at iter 9000 J(x) = -3.066705\t\n",
       "at iter 9100 J(x) = -3.069264\t\n",
       "at iter 9200 J(x) = -3.071729\t\n"
      ]
     },
     "execution_count": 13,
     "metadata": {},
     "output_type": "execute_result"
    },
    {
     "data": {
      "text/plain": [
       "at iter 9300 J(x) = -3.074104\t\n",
       "at iter 9400 J(x) = -3.076392\t\n"
      ]
     },
     "execution_count": 13,
     "metadata": {},
     "output_type": "execute_result"
    },
    {
     "data": {
      "text/plain": [
       "at iter 9500 J(x) = -3.078598\t\n",
       "at iter 9600 J(x) = -3.080722\t\n",
       "at iter 9700 J(x) = -3.082769\t\n"
      ]
     },
     "execution_count": 13,
     "metadata": {},
     "output_type": "execute_result"
    },
    {
     "data": {
      "text/plain": [
       "at iter 9800 J(x) = -3.084742\t\n",
       "at iter 9900 J(x) = -3.086642\t\n",
       "at iter 10000 J(x) = -3.088473\t\n"
      ]
     },
     "execution_count": 13,
     "metadata": {},
     "output_type": "execute_result"
    },
    {
     "data": {
      "text/plain": [
       "at iter 10100 J(x) = -3.090238\t\n",
       "at iter 10200 J(x) = -3.091938\t\n"
      ]
     },
     "execution_count": 13,
     "metadata": {},
     "output_type": "execute_result"
    },
    {
     "data": {
      "text/plain": [
       "at iter 10300 J(x) = -3.093576\t\n",
       "at iter 10400 J(x) = -3.095154\t\n",
       "at iter 10500 J(x) = -3.096674\t\n"
      ]
     },
     "execution_count": 13,
     "metadata": {},
     "output_type": "execute_result"
    },
    {
     "data": {
      "text/plain": [
       "at iter 10600 J(x) = -3.098140\t\n",
       "at iter 10700 J(x) = -3.099551\t\n",
       "at iter 10800 J(x) = -3.100912\t\n"
      ]
     },
     "execution_count": 13,
     "metadata": {},
     "output_type": "execute_result"
    },
    {
     "data": {
      "text/plain": [
       "at iter 10900 J(x) = -3.102222\t\n",
       "at iter 11000 J(x) = -3.103485\t\n",
       "at iter 11100 J(x) = -3.104702\t\n"
      ]
     },
     "execution_count": 13,
     "metadata": {},
     "output_type": "execute_result"
    },
    {
     "data": {
      "text/plain": [
       "at iter 11200 J(x) = -3.105874\t\n",
       "at iter 11300 J(x) = -3.107004\t\n"
      ]
     },
     "execution_count": 13,
     "metadata": {},
     "output_type": "execute_result"
    },
    {
     "data": {
      "text/plain": [
       "at iter 11400 J(x) = -3.108092\t\n",
       "at iter 11500 J(x) = -3.109141\t\n",
       "at iter 11600 J(x) = -3.110151\t\n"
      ]
     },
     "execution_count": 13,
     "metadata": {},
     "output_type": "execute_result"
    },
    {
     "data": {
      "text/plain": [
       "at iter 11700 J(x) = -3.111125\t\n",
       "at iter 11800 J(x) = -3.112063\t\n",
       "at iter 11900 J(x) = -3.112967\t"
      ]
     },
     "execution_count": 13,
     "metadata": {},
     "output_type": "execute_result"
    },
    {
     "data": {
      "text/plain": [
       "\n",
       "at iter 12000 J(x) = -3.113838\t\n",
       "at iter 12100 J(x) = -3.114677\t\n"
      ]
     },
     "execution_count": 13,
     "metadata": {},
     "output_type": "execute_result"
    },
    {
     "data": {
      "text/plain": [
       "at iter 12200 J(x) = -3.115486\t\n",
       "at iter 12300 J(x) = -3.116265\t\n"
      ]
     },
     "execution_count": 13,
     "metadata": {},
     "output_type": "execute_result"
    },
    {
     "data": {
      "text/plain": [
       "at iter 12400 J(x) = -3.117015\t\n",
       "at iter 12500 J(x) = -3.117738\t\n"
      ]
     },
     "execution_count": 13,
     "metadata": {},
     "output_type": "execute_result"
    },
    {
     "data": {
      "text/plain": [
       "at iter 12600 J(x) = -3.118435\t\n",
       "at iter 12700 J(x) = -3.119107\t\n"
      ]
     },
     "execution_count": 13,
     "metadata": {},
     "output_type": "execute_result"
    },
    {
     "data": {
      "text/plain": [
       "at iter 12800 J(x) = -3.119754\t\n",
       "at iter 12900 J(x) = -3.120377\t\n",
       "at iter 13000 J(x) = -3.120978\t\n"
      ]
     },
     "execution_count": 13,
     "metadata": {},
     "output_type": "execute_result"
    },
    {
     "data": {
      "text/plain": [
       "at iter 13100 J(x) = -3.121556\t\n",
       "at iter 13200 J(x) = -3.122114\t\n"
      ]
     },
     "execution_count": 13,
     "metadata": {},
     "output_type": "execute_result"
    },
    {
     "data": {
      "text/plain": [
       "at iter 13300 J(x) = -3.122651\t\n",
       "at iter 13400 J(x) = -3.123169\t\n"
      ]
     },
     "execution_count": 13,
     "metadata": {},
     "output_type": "execute_result"
    },
    {
     "data": {
      "text/plain": [
       "at iter 13500 J(x) = -3.123668\t\n",
       "at iter 13600 J(x) = -3.124148\t\n",
       "at iter 13700 J(x) = -3.124611\t\n"
      ]
     },
     "execution_count": 13,
     "metadata": {},
     "output_type": "execute_result"
    },
    {
     "data": {
      "text/plain": [
       "at iter 13800 J(x) = -3.125057\t\n",
       "at iter 13900 J(x) = -3.125487\t\n"
      ]
     },
     "execution_count": 13,
     "metadata": {},
     "output_type": "execute_result"
    },
    {
     "data": {
      "text/plain": [
       "at iter 14000 J(x) = -3.125902\t\n",
       "at iter 14100 J(x) = -3.126301\t\n"
      ]
     },
     "execution_count": 13,
     "metadata": {},
     "output_type": "execute_result"
    },
    {
     "data": {
      "text/plain": [
       "at iter 14200 J(x) = -3.126685\t\n",
       "at iter 14300 J(x) = -3.127056\t\n"
      ]
     },
     "execution_count": 13,
     "metadata": {},
     "output_type": "execute_result"
    },
    {
     "data": {
      "text/plain": [
       "at iter 14400 J(x) = -3.127413\t\n",
       "at iter 14500 J(x) = -3.127757\t\n"
      ]
     },
     "execution_count": 13,
     "metadata": {},
     "output_type": "execute_result"
    },
    {
     "data": {
      "text/plain": [
       "at iter 14600 J(x) = -3.128088\t\n",
       "at iter 14700 J(x) = -3.128407\t\n",
       "at iter 14800 J(x) = -3.128715\t\n"
      ]
     },
     "execution_count": 13,
     "metadata": {},
     "output_type": "execute_result"
    },
    {
     "data": {
      "text/plain": [
       "at iter 14900 J(x) = -3.129012\t\n",
       "at iter 15000 J(x) = -3.129297\t\n"
      ]
     },
     "execution_count": 13,
     "metadata": {},
     "output_type": "execute_result"
    },
    {
     "data": {
      "text/plain": [
       "at iter 15100 J(x) = -3.129573\t\n",
       "at iter 15200 J(x) = -3.129838\t\n"
      ]
     },
     "execution_count": 13,
     "metadata": {},
     "output_type": "execute_result"
    },
    {
     "data": {
      "text/plain": [
       "at iter 15300 J(x) = -3.130093\t\n",
       "at iter 15400 J(x) = -3.130339\t\n"
      ]
     },
     "execution_count": 13,
     "metadata": {},
     "output_type": "execute_result"
    },
    {
     "data": {
      "text/plain": [
       "at iter 15500 J(x) = -3.130577\t\n",
       "at iter 15600 J(x) = -3.130805\t\n"
      ]
     },
     "execution_count": 13,
     "metadata": {},
     "output_type": "execute_result"
    },
    {
     "data": {
      "text/plain": [
       "at iter 15700 J(x) = -3.131025\t\n",
       "at iter 15800 J(x) = -3.131238\t\n"
      ]
     },
     "execution_count": 13,
     "metadata": {},
     "output_type": "execute_result"
    },
    {
     "data": {
      "text/plain": [
       "at iter 15900 J(x) = -3.131442\t\n",
       "at iter 16000 J(x) = -3.131639\t\n"
      ]
     },
     "execution_count": 13,
     "metadata": {},
     "output_type": "execute_result"
    },
    {
     "data": {
      "text/plain": [
       "at iter 16100 J(x) = -3.131829\t\n",
       "at iter 16200 J(x) = -3.132012\t\n",
       "at iter 16300 J(x) = -3.132188\t\n"
      ]
     },
     "execution_count": 13,
     "metadata": {},
     "output_type": "execute_result"
    },
    {
     "data": {
      "text/plain": [
       "at iter 16400 J(x) = -3.132358\t\n",
       "at iter 16500 J(x) = -3.132521\t\n"
      ]
     },
     "execution_count": 13,
     "metadata": {},
     "output_type": "execute_result"
    },
    {
     "data": {
      "text/plain": [
       "at iter 16600 J(x) = -3.132679\t\n",
       "at iter 16700 J(x) = -3.132831\t\n"
      ]
     },
     "execution_count": 13,
     "metadata": {},
     "output_type": "execute_result"
    },
    {
     "data": {
      "text/plain": [
       "at iter 16800 J(x) = -3.132977\t\n",
       "at iter 16900 J(x) = -3.133118\t\n"
      ]
     },
     "execution_count": 13,
     "metadata": {},
     "output_type": "execute_result"
    },
    {
     "data": {
      "text/plain": [
       "at iter 17000 J(x) = -3.133254\t\n",
       "at iter 17100 J(x) = -3.133385\t\n"
      ]
     },
     "execution_count": 13,
     "metadata": {},
     "output_type": "execute_result"
    },
    {
     "data": {
      "text/plain": [
       "at iter 17200 J(x) = -3.133511\t\n",
       "at iter 17300 J(x) = -3.133633\t\n"
      ]
     },
     "execution_count": 13,
     "metadata": {},
     "output_type": "execute_result"
    },
    {
     "data": {
      "text/plain": [
       "at iter 17400 J(x) = -3.133750\t\n",
       "at iter 17500 J(x) = -3.133863\t\n"
      ]
     },
     "execution_count": 13,
     "metadata": {},
     "output_type": "execute_result"
    },
    {
     "data": {
      "text/plain": [
       "at iter 17600 J(x) = -3.133971\t\n",
       "at iter 17700 J(x) = -3.134076\t\n",
       "at iter 17800 J(x) = -3.134177\t\n"
      ]
     },
     "execution_count": 13,
     "metadata": {},
     "output_type": "execute_result"
    },
    {
     "data": {
      "text/plain": [
       "at iter 17900 J(x) = -3.134274\t\n",
       "at iter 18000 J(x) = -3.134368\t\n"
      ]
     },
     "execution_count": 13,
     "metadata": {},
     "output_type": "execute_result"
    },
    {
     "data": {
      "text/plain": [
       "at iter 18100 J(x) = -3.134458\t\n",
       "at iter 18200 J(x) = -3.134545\t\n"
      ]
     },
     "execution_count": 13,
     "metadata": {},
     "output_type": "execute_result"
    },
    {
     "data": {
      "text/plain": [
       "at iter 18300 J(x) = -3.134629\t\n",
       "at iter 18400 J(x) = -3.134710\t\n"
      ]
     },
     "execution_count": 13,
     "metadata": {},
     "output_type": "execute_result"
    },
    {
     "data": {
      "text/plain": [
       "at iter 18500 J(x) = -3.134788\t\n",
       "at iter 18600 J(x) = -3.134863\t\n"
      ]
     },
     "execution_count": 13,
     "metadata": {},
     "output_type": "execute_result"
    },
    {
     "data": {
      "text/plain": [
       "at iter 18700 J(x) = -3.134935\t\n",
       "at iter 18800 J(x) = -3.135004\t\n"
      ]
     },
     "execution_count": 13,
     "metadata": {},
     "output_type": "execute_result"
    },
    {
     "data": {
      "text/plain": [
       "at iter 18900 J(x) = -3.135072\t\n",
       "at iter 19000 J(x) = -3.135136\t\n"
      ]
     },
     "execution_count": 13,
     "metadata": {},
     "output_type": "execute_result"
    },
    {
     "data": {
      "text/plain": [
       "at iter 19100 J(x) = -3.135198\t\n",
       "at iter 19200 J(x) = -3.135258\t\n"
      ]
     },
     "execution_count": 13,
     "metadata": {},
     "output_type": "execute_result"
    },
    {
     "data": {
      "text/plain": [
       "at iter 19300 J(x) = -3.135316\t\n",
       "at iter 19400 J(x) = -3.135372\t\n"
      ]
     },
     "execution_count": 13,
     "metadata": {},
     "output_type": "execute_result"
    },
    {
     "data": {
      "text/plain": [
       "at iter 19500 J(x) = -3.135426\t\n",
       "at iter 19600 J(x) = -3.135477\t\n",
       "at iter 19700 J(x) = -3.135527\t\n"
      ]
     },
     "execution_count": 13,
     "metadata": {},
     "output_type": "execute_result"
    },
    {
     "data": {
      "text/plain": [
       "at iter 19800 J(x) = -3.135575\t\n",
       "at iter 19900 J(x) = -3.135621\t\n"
      ]
     },
     "execution_count": 13,
     "metadata": {},
     "output_type": "execute_result"
    }
   ],
   "source": [
    "lr = 0.01\n",
    "for i=1,20000 do\n",
    "    x = x - dJ(x)*lr\n",
    "    -- we print the value of the objective function at each iteration    \n",
    "    if i%100==0 then\n",
    "        print(string.format('at iter %d J(x) = %f', i, J(x)))\n",
    "    end\n",
    "end"
   ]
  },
  {
   "cell_type": "markdown",
   "metadata": {},
   "source": [
    "## 4. Using the optim package"
   ]
  },
  {
   "cell_type": "markdown",
   "metadata": {},
   "source": [
    "be sure that optim package is installed\n",
    "\n",
    "    luarocks install optim"
   ]
  },
  {
   "cell_type": "markdown",
   "metadata": {},
   "source": [
    "#### A word on local variables"
   ]
  },
  {
   "cell_type": "code",
   "execution_count": 14,
   "metadata": {
    "collapsed": true
   },
   "outputs": [],
   "source": [
    "local A = torch.rand(N, N)"
   ]
  },
  {
   "cell_type": "code",
   "execution_count": 15,
   "metadata": {
    "collapsed": false
   },
   "outputs": [
    {
     "data": {
      "text/plain": [
       " 0.0406  0.1438  0.5481  0.7043  0.4626\n",
       " 0.7046  0.3765  0.2188  0.3279  0.9249\n",
       " 0.8135  0.4421  0.6466  0.9093  0.0474\n",
       " 0.0598  0.9950  0.1843  0.6892  0.0474\n",
       " 0.9295  0.6749  0.9181  0.5946  0.9753\n",
       "[torch.DoubleTensor of size 5x5]\n",
       "\n",
       " 1.5328  2.0026  0.8125  1.4990  1.0839\n",
       " 2.0026  2.9366  1.3434  2.1571  1.5836\n",
       " 0.8125  1.3434  0.8568  0.6775  0.8827\n",
       " 1.4990  2.1571  0.6775  2.3895  0.8894\n",
       " 1.0839  1.5836  0.8827  0.8894  1.0843\n",
       "[torch.DoubleTensor of size 5x5]\n",
       "\n"
      ]
     },
     "execution_count": 15,
     "metadata": {},
     "output_type": "execute_result"
    }
   ],
   "source": [
    "do\n",
    "    local A = torch.rand(N, N)\n",
    "    print (A)\n",
    "end\n",
    "print(A)"
   ]
  },
  {
   "cell_type": "markdown",
   "metadata": {},
   "source": [
    "#### Defining a closure with an upvalue"
   ]
  },
  {
   "cell_type": "code",
   "execution_count": 16,
   "metadata": {
    "collapsed": true
   },
   "outputs": [],
   "source": [
    "do\n",
    "    local neval = 0\n",
    "    function JdJ(x)\n",
    "        local Jx = J(x)\n",
    "        neval = neval + 1\n",
    "        if neval%10==0 then\n",
    "            print(string.format('after %d evaluations J(x) = %f', neval, Jx))\n",
    "        end\n",
    "        return Jx, dJ(x)\n",
    "    end\n",
    "end"
   ]
  },
  {
   "cell_type": "markdown",
   "metadata": {},
   "source": [
    "#### Training with optim"
   ]
  },
  {
   "cell_type": "code",
   "execution_count": 17,
   "metadata": {
    "collapsed": false
   },
   "outputs": [],
   "source": [
    "require 'optim';"
   ]
  },
  {
   "cell_type": "code",
   "execution_count": 18,
   "metadata": {
    "collapsed": true
   },
   "outputs": [],
   "source": [
    "state = {\n",
    "    verbose = true,\n",
    "    maxiter = 100\n",
    "}"
   ]
  },
  {
   "cell_type": "code",
   "execution_count": 19,
   "metadata": {
    "collapsed": false
   },
   "outputs": [
    {
     "data": {
      "text/plain": [
       "after 10 evaluations J(x) = -1.644136\t\n",
       "after 20 evaluations J(x) = -2.383109\t\n"
      ]
     },
     "execution_count": 19,
     "metadata": {},
     "output_type": "execute_result"
    }
   ],
   "source": [
    "x = torch.rand(N)\n",
    "optim.cg(JdJ, x, state)"
   ]
  },
  {
   "cell_type": "markdown",
   "metadata": {},
   "source": [
    "## 5. Plot"
   ]
  },
  {
   "cell_type": "markdown",
   "metadata": {},
   "source": [
    "be sure that gnuplot is installed\n",
    "\n",
    "    luarocks install gnuplot"
   ]
  },
  {
   "cell_type": "code",
   "execution_count": 20,
   "metadata": {
    "collapsed": true
   },
   "outputs": [],
   "source": [
    "evaluations = {}\n",
    "time = {}\n",
    "timer = torch.Timer()\n",
    "neval = 0\n",
    "function JdJ(x)\n",
    "    local Jx = J(x)\n",
    "    neval = neval + 1\n",
    "    if neval%100==0 then\n",
    "        print(string.format('after %d evaluations, J(x) = %f', neval, Jx))\n",
    "    end\n",
    "    table.insert(evaluations, Jx)\n",
    "    table.insert(time, timer:time().real)\n",
    "    return Jx, dJ(x)\n",
    "end"
   ]
  },
  {
   "cell_type": "code",
   "execution_count": 21,
   "metadata": {
    "collapsed": false
   },
   "outputs": [],
   "source": [
    "state = {\n",
    "    verbose = true,\n",
    "    maxiter = 100\n",
    "}\n",
    "\n",
    "x0 = torch.rand(N)\n",
    "cgx = x0:clone() -- make a copy of x0\n",
    "timer:reset()\n",
    "optim.cg(JdJ, cgx, state)\n",
    "\n",
    "-- we convert the evaluations and time tables to tensors for plotting:\n",
    "cgtime = torch.Tensor(time)\n",
    "cgevaluations = torch.Tensor(evaluations)"
   ]
  },
  {
   "cell_type": "markdown",
   "metadata": {},
   "source": [
    "#### Add support for stochastic gradient descent"
   ]
  },
  {
   "cell_type": "code",
   "execution_count": 22,
   "metadata": {
    "collapsed": false
   },
   "outputs": [
    {
     "data": {
      "text/plain": [
       "after 100 evaluations, J(x) = 0.492915\t\n",
       "after 200 evaluations, J(x) = -0.080036\t\n"
      ]
     },
     "execution_count": 22,
     "metadata": {},
     "output_type": "execute_result"
    },
    {
     "data": {
      "text/plain": [
       "after 300 evaluations, J(x) = -0.229424\t\n"
      ]
     },
     "execution_count": 22,
     "metadata": {},
     "output_type": "execute_result"
    },
    {
     "data": {
      "text/plain": [
       "after 400 evaluations, J(x) = -0.283657\t\n"
      ]
     },
     "execution_count": 22,
     "metadata": {},
     "output_type": "execute_result"
    },
    {
     "data": {
      "text/plain": [
       "after 500 evaluations, J(x) = -0.316195\t\n"
      ]
     },
     "execution_count": 22,
     "metadata": {},
     "output_type": "execute_result"
    },
    {
     "data": {
      "text/plain": [
       "after 600 evaluations, J(x) = -0.343486\t\n",
       "after 700 evaluations, J(x) = -0.369220\t\n"
      ]
     },
     "execution_count": 22,
     "metadata": {},
     "output_type": "execute_result"
    },
    {
     "data": {
      "text/plain": [
       "after 800 evaluations, J(x) = -0.394238\t\n"
      ]
     },
     "execution_count": 22,
     "metadata": {},
     "output_type": "execute_result"
    },
    {
     "data": {
      "text/plain": [
       "after 900 evaluations, J(x) = -0.418741\t\n"
      ]
     },
     "execution_count": 22,
     "metadata": {},
     "output_type": "execute_result"
    },
    {
     "data": {
      "text/plain": [
       "after 1000 evaluations, J(x) = -0.442785\t\n"
      ]
     },
     "execution_count": 22,
     "metadata": {},
     "output_type": "execute_result"
    }
   ],
   "source": [
    "evaluations = {}\n",
    "time = {}\n",
    "neval = 0\n",
    "state = {\n",
    "    lr = 0.1\n",
    "}\n",
    "\n",
    "-- we start from the same starting point than for CG\n",
    "x = x0:clone()\n",
    "\n",
    "-- reset the timer!\n",
    "timer:reset()\n",
    "\n",
    "-- note that SGD optimizer requires us to do the loop\n",
    "for i=1,1000 do\n",
    "    optim.sgd(JdJ, x, state)\n",
    "    table.insert(evaluations, Jx)\n",
    "end\n",
    "\n",
    "sgdtime = torch.Tensor(time)\n",
    "sgdevaluations = torch.Tensor(evaluations)"
   ]
  },
  {
   "cell_type": "markdown",
   "metadata": {},
   "source": [
    "#### Final plot"
   ]
  },
  {
   "cell_type": "code",
   "execution_count": 23,
   "metadata": {
    "collapsed": false
   },
   "outputs": [
    {
     "data": {
      "text/plain": [
       "{\n",
       "  close : function: 0x4131f738\n",
       "  raw : function: 0x4131d4b8\n",
       "  axis : function: 0x4131d490\n",
       "  figure : function: 0x4131cf28\n",
       "  setgnuplotexe : function: 0x4131f498\n",
       "  plot : function: 0x4131d4d8\n",
       "  zlabel : function: 0x4131d0e8\n",
       "  svgfigure : function: 0x4131cd08\n",
       "  histc : function: 0x40400a10\n",
       "  setterm : function: 0x4131f500\n",
       "  figprint : function: 0x4131f4c8\n",
       "  xlabel : function: 0x4131d098\n",
       "  hist : function: 0x4131d698\n",
       "  imagesc : function: 0x4131d610\n",
       "  grid : function: 0x4131d138\n",
       "  epsfigure : function: 0x4131cbf8\n",
       "  pngfigure : function: 0x4131cd30\n",
       "  pdffigure : function: 0x4131cd58\n",
       "  bar : function: 0x4131d678\n",
       "  movelegend : function: 0x4131d160\n",
       "  splot : function: 0x4131d540\n",
       "  scatter3 : function: 0x4131d5a8\n",
       "  ylabel : function: 0x4131d0c0\n",
       "  closeall : function: 0x4131f760\n",
       "  plotflush : function: 0x4131cf50\n",
       "  title : function: 0x4131d110\n",
       "}\n"
      ]
     },
     "execution_count": 23,
     "metadata": {},
     "output_type": "execute_result"
    }
   ],
   "source": [
    "require 'gnuplot';"
   ]
  },
  {
   "cell_type": "code",
   "execution_count": 24,
   "metadata": {
    "collapsed": true
   },
   "outputs": [],
   "source": [
    "gnuplot.figure(1)\n",
    "gnuplot.title('CG loss miinimisation over time')\n",
    "gnuplot.plot(cgtime, sgevaluations)\n",
    "\n",
    "gnuplot.figure(2)\n",
    "gnuplot.title('SGD loss minimisation over time')\n",
    "gnuplot.plot(sgdtime, sgdevaluations)"
   ]
  },
  {
   "cell_type": "code",
   "execution_count": 25,
   "metadata": {
    "collapsed": false
   },
   "outputs": [],
   "source": [
    "gnuplot.pngfigure('plot.png')\n",
    "gnuplot.plot(\n",
    "    {'CG', cgtime, cgevaluations, '-'},\n",
    "    {'SGD', sgdtime, sgdevaluations, '-'}\n",
    ")\n",
    "gnuplot.xlabel('time (s)')\n",
    "gnuplot.ylabel('J(x)')\n",
    "gnuplot.plotflush()"
   ]
  },
  {
   "cell_type": "markdown",
   "metadata": {
    "collapsed": true
   },
   "source": [
    "<img src='plot.png' width=100%>"
   ]
  },
  {
   "cell_type": "code",
   "execution_count": null,
   "metadata": {
    "collapsed": true
   },
   "outputs": [],
   "source": []
  }
 ],
 "metadata": {
  "kernelspec": {
   "display_name": "iTorch",
   "language": "lua",
   "name": "itorch"
  },
  "language_info": {
   "name": "lua",
   "version": "20100"
  }
 },
 "nbformat": 4,
 "nbformat_minor": 0
}
