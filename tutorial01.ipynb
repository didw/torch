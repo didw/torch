{
 "cells": [
  {
   "cell_type": "markdown",
   "metadata": {},
   "source": [
    "# Five Simple Examples"
   ]
  },
  {
   "cell_type": "markdown",
   "metadata": {},
   "source": [
    "## 1. Define a positive definite quadratic form\n",
    "This script is written based on [torch tutorial](http://torch.ch/docs/five-simple-examples.html#_)."
   ]
  },
  {
   "cell_type": "code",
   "execution_count": 33,
   "metadata": {
    "collapsed": false
   },
   "outputs": [
    {
     "data": {
      "text/plain": [
       "{\n",
       "  deserialize : function: 0x408dee30\n",
       "  cat : function: 0x40d02fe8\n",
       "  cdata : function: 0x40cfdb18\n",
       "  newmetatable : function: 0x4198f5d8\n",
       "  atan2 : function: 0x40cf5328\n",
       "  random : function: 0x40d03010\n",
       "  zero : function: 0x40cfa878\n",
       "  logNormal : function: 0x40d033a0\n",
       "  totable : function: 0x40ef8860\n",
       "  getnumcores : function: 0x4198f2f8\n",
       "  cross : function: 0x40d017e8\n",
       "  deserializeFromStorage : function: 0x408dee10\n",
       "  inverse : function: 0x419945e0\n",
       "  updateerrorhandlers : function: 0x4198f740\n",
       "  isTypeOf : function: 0x408eb050\n",
       "  ByteStorage : table: 0x4041a350\n",
       "  prod : function: 0x40419560\n",
       "  ger : function: 0x40ced920\n",
       "  eq : function: 0x408da980\n",
       "  getnumthreads : function: 0x4198f2a8\n",
       "  ByteTensor : table: 0x41999530\n",
       "  Timer : table: 0x4199b0f0\n",
       "  addmv : function: 0x40ced948\n",
       "  match : function: 0x40418478\n",
       "  Allocator : table: 0x40d001b8\n",
       "  "
      ]
     },
     "execution_count": 33,
     "metadata": {},
     "output_type": "execute_result"
    },
    {
     "data": {
      "text/plain": [
       "xcorr2 : function: 0x4199f110\n",
       "  neg : function: 0x404193c8\n",
       "  histc : function: 0x408daae8\n",
       "  bernoulli : function: 0x40d03060\n",
       "  MemoryFile : table: 0x419a11f8\n",
       "  Storage : table: 0x419987b0\n",
       "  ge : function: 0x408da958\n",
       "  kthvalue : function: 0x40d018d8\n",
       "  geometric : function: 0x40d03038\n",
       "  sin : function: 0x40cfff88\n",
       "  ones : function: 0x408d8790\n",
       "  baddbmm : function: 0x40ced998\n",
       "  fill : function: 0x408d8740\n",
       "  linspace : function: 0x408dab88\n",
       "  sum : function: 0x40419538\n",
       "  DoubleTensor : table: 0x419a0618\n",
       "  orgqr : function: 0x4199ada8\n",
       "  test : function: 0x40ef8818\n",
       "  cmul : function: 0x404184a0\n",
       "  getconstructortable : function: 0x4198f348\n",
       "  version : function: 0x4198f6c8\n",
       "  mean : function: 0x408daa70\n",
       "  exp : function: 0x40cffee8\n",
       "  addcdiv : function: 0x408eb5c8\n",
       "  mm : function: 0x408eb618\n",
       "  xcorr3 : function: 0x419a0320\n",
       "  ShortTensor : table: 0x4199bb00\n",
       "  lt : function: 0x419a0ad0\n",
       "  triu : function: 0x40d02fc0\n",
       "  repeatTensor : function: 0x40d03320\n",
       "  eye : function: 0x40d01838\n",
       "  mul : function: 0x408cdae0\n",
       "  sqrt : function: 0x408d2d20\n",
       "  LongTensor : table: 0x4199e228\n",
       "  isequal : function: 0x4198f540\n",
       "  floor : function: 0x408de4a0\n",
       "  mv : function: 0x408eb5f0\n",
       "  isTensor : function: 0x40ef8880\n",
       "  csub : function: 0x408cdab8\n",
       "  gesv : function: 0x40d04cf0\n",
       "  cos : function: 0x40cfff10\n",
       "  LongStorage : table: 0x41996cb0\n",
       "  Tester : table: 0x40e34178\n",
       "  data : function: 0x40cfdad8\n",
       "  Tensor : table: 0x419a0618\n",
       "  diag : function: 0x40d01810\n",
       "  std : function: 0x408daac0\n",
       "  CmdLine : table: 0x40cf4f28\n",
       " "
      ]
     },
     "execution_count": 33,
     "metadata": {},
     "output_type": "execute_result"
    },
    {
     "data": {
      "text/plain": [
       " loadobj : function: 0x408dedb0\n",
       "  conv3 : function: 0x4199f8f0\n",
       "  saveobj : function: 0x408ded90\n",
       "  tril : function: 0x40d02f98\n",
       "  rand : function: 0x40ce9d38\n",
       "  uniform : function: 0x408e9088\n",
       "  all : function: 0x408da9f8\n",
       "  renorm : function: 0x408dab38\n",
       "  serialize : function: 0x408dedd0\n",
       "  load : function: 0x408dedb0\n",
       "  scatter : function: 0x408cda40\n",
       "  save : function: 0x408ded90\n",
       "  addbmm : function: 0x40ced970\n",
       "  permute : function: 0x408e5ae0\n",
       "  symeig : function: 0x4198f768\n",
       "  chunk : function: 0x40ce5e68\n",
       "  clamp : function: 0x40418450\n",
       "  split : function: 0x40ce5e48\n",
       "  viewAs : function: 0x40ce5e28\n",
       "  view : function: 0x40ce5de8\n",
       "  metatype : function: 0x4198f650\n",
       "  expandAs : function: 0x40d03300\n",
       "  expand : function: 0x40d032e0\n",
       "  manualSeed : function: 0x408e9a10\n",
       "  add : function: 0x408cda90\n",
       "  zeros : function: 0x408d8768\n",
       "  median : function: 0x40d02f70\n",
       "  cosh : function: 0x40cfff60\n",
       "  pushudata : function: 0x4198f6a0\n",
       "  setdefaulttensortype : function: 0x408ea180\n",
       "  class : function: 0x40417128\n",
       "  geqrf : function: 0x4199a5c8\n",
       "  packageLuaPath : function: 0x40ceda00\n",
       "  max : function: 0x404195b0\n",
       "  seed : function: 0x40ce9790\n",
       "  updatethreadlocals : function: 0x408cda20\n",
       "  setRNGState : function: 0x40415fb8\n",
       "  getRNGState : function: 0x408ea1c8\n",
       "  initialSeed : function: 0x40423950\n",
       "  conv2 : function: 0x40d030d8\n",
       "  dist : function: 0x408dab60\n",
       "  _gen : torch.Generator\n",
       "  ShortStorage : table: 0x41995188\n",
       "  Generator : table: 0x40cf58f0\n",
       "  IntTensor : table: 0x4199d018\n",
       "  bmm : function: 0x40ced8f8\n",
       "  ormqr : function: 0x4199b7d8\n",
       "  gt : function: 0x40d03100\n",
       "  log1p : function: 0x40cffec0\n",
       "  include : function: 0x40cef8b0\n",
       "  qr : function: 0x41998960\n",
       "  gather : function: 0x408d87e0\n",
       "  nonzero : function: 0x408da9d0\n",
       "  FloatStorage : table: 0x41997a30\n",
       "  cmin : function: 0x404195d8\n",
       " "
      ]
     },
     "execution_count": 33,
     "metadata": {},
     "output_type": "execute_result"
    },
    {
     "data": {
      "text/plain": [
       " svd : function: 0x419937e8\n",
       "  any : function: 0x408daa20\n",
       "  IntStorage : table: 0x41995f30\n",
       "  dot : function: 0x408cda68\n",
       "  range : function: 0x40d01860\n",
       "  eig : function: 0x41992ec0\n",
       "  addr : function: 0x4199ff30\n",
       "  trtrs : function: 0x41990e98\n",
       "  PipeFile : table: 0x4199ebc0\n",
       "  tan : function: 0x40d00000\n",
       "  exponential : function: 0x40d044c0\n",
       "  serializeToStorage : function: 0x408dedf0\n",
       "  normal : function: 0x40d02350\n",
       "  multinomial : function: 0x408e8e88\n",
       "  var : function: 0x408daa98\n",
       "  randn : function: 0x408dcb40\n",
       "  setmetatable : function: 0x4198f600\n",
       "  sinh : function: 0x40cfffd8\n",
       "  cauchy : function: 0x40d03198\n",
       "  ne : function: 0x408da9a8\n",
       "  pow : function: 0x40cf5370\n",
       "  ceil : function: 0x408e4210\n",
       "  potrf : function: 0x41995360\n",
       "  DoubleStorage : table: 0x419987b0\n",
       "  CharStorage : table: 0x419943e0\n",
       "  asin : function: 0x40cfffb0\n",
       "  tanh : function: 0x408e4580\n",
       "  atan : function: 0x41996e60\n",
       "  cdiv : function: 0x408eb578\n",
       "  addcmul : function: 0x408eb5a0\n",
       "  pointer : function: 0x4198f6f0\n",
       "  type : function: 0x408ead08\n",
       "  sign : function: 0x40d030b0\n",
       "  div : function: 0x40418428\n",
       "  mode : function: 0x40d01900\n",
       "  toc : function: 0x4198f140\n",
       "  norm : function: 0x408dab10\n",
       "  typename : function: 0x4198f4f8\n",
       "  tic : function: 0x4198f090\n",
       "  gels : function: 0x40d04f38\n",
       "  getmetatable : function: 0x4198f628\n",
       "  getdefaulttensortype : function: 0x40d03698\n",
       "  isStorage : function: 0x40ef88a0\n",
       "  logspace : function: 0x40cffe70\n",
       "  factory : function: 0x4198f320\n",
       "  CharTensor : table: 0x4199a8f0\n",
       "  setnumthreads : function: 0x4198f190\n",
       "  FloatTensor : table: 0x4199f438\n",
       "  reshape : function: 0x408d87b8\n",
       "  cumprod : function: 0x40419510\n",
       "  potri : function: 0x41997be0\n",
       "  File : table: 0x41991db0\n",
       "  setenv : function: 0x4198f5b0\n",
       "  addmm : function: 0x4199e9a8\n",
       "  getenv : function: 0x4198f568\n",
       "  acos : function: 0x40cfff38\n",
       "  "
      ]
     },
     "execution_count": 33,
     "metadata": {},
     "output_type": "execute_result"
    },
    {
     "data": {
      "text/plain": [
       "numel : function: 0x40ced9c0\n",
       "  cpow : function: 0x404184c8\n",
       "  min : function: 0x40419588\n",
       "  cmax : function: 0x40d01798\n",
       "  trace : function: 0x40d017c0\n",
       "  squeeze : function: 0x40d03088\n",
       "  sort : function: 0x40d018b0\n",
       "  cumsum : function: 0x4199b2e8\n",
       "  le : function: 0x4199a188\n",
       "  DiskFile : table: 0x4199dbd0\n",
       "  round : function: 0x408e4058\n",
       "  randperm : function: 0x40d01888\n",
       "  isatty : function: 0x4198f048\n",
       "  abs : function: 0x408daa48\n",
       "  setheaptracking : function: 0x4198f718\n",
       "  potrs : function: 0x419960e0\n",
       "  log : function: 0x40cffe98\n",
       "}\n"
      ]
     },
     "execution_count": 33,
     "metadata": {},
     "output_type": "execute_result"
    }
   ],
   "source": [
    "require 'torch'"
   ]
  },
  {
   "cell_type": "code",
   "execution_count": 5,
   "metadata": {
    "collapsed": false
   },
   "outputs": [
    {
     "data": {
      "text/plain": [
       "\n"
      ]
     },
     "execution_count": 5,
     "metadata": {},
     "output_type": "execute_result"
    }
   ],
   "source": [
    "torch.manualSeed(1234)"
   ]
  },
  {
   "cell_type": "markdown",
   "metadata": {},
   "source": [
    "choose a dimension"
   ]
  },
  {
   "cell_type": "code",
   "execution_count": 6,
   "metadata": {
    "collapsed": true
   },
   "outputs": [],
   "source": [
    "N = 5"
   ]
  },
  {
   "cell_type": "markdown",
   "metadata": {},
   "source": [
    "create a random NxN matrix"
   ]
  },
  {
   "cell_type": "code",
   "execution_count": 7,
   "metadata": {
    "collapsed": true
   },
   "outputs": [],
   "source": [
    "A = torch.rand(N, N)"
   ]
  },
  {
   "cell_type": "markdown",
   "metadata": {},
   "source": [
    "make it symmetric positive"
   ]
  },
  {
   "cell_type": "code",
   "execution_count": 8,
   "metadata": {
    "collapsed": true
   },
   "outputs": [],
   "source": [
    "A = A*A:t()"
   ]
  },
  {
   "cell_type": "markdown",
   "metadata": {},
   "source": [
    "make it definite"
   ]
  },
  {
   "cell_type": "code",
   "execution_count": 10,
   "metadata": {
    "collapsed": false
   },
   "outputs": [
    {
     "data": {
      "text/plain": [
       " 1.5328  2.0026  0.8125  1.4990  1.0839\n",
       " 2.0026  2.9366  1.3434  2.1571  1.5836\n",
       " 0.8125  1.3434  0.8568  0.6775  0.8827\n",
       " 1.4990  2.1571  0.6775  2.3895  0.8894\n",
       " 1.0839  1.5836  0.8827  0.8894  1.0843\n",
       "[torch.DoubleTensor of size 5x5]\n",
       "\n"
      ]
     },
     "execution_count": 10,
     "metadata": {},
     "output_type": "execute_result"
    }
   ],
   "source": [
    "A:add(0.001, torch.eye(N))"
   ]
  },
  {
   "cell_type": "markdown",
   "metadata": {},
   "source": [
    "add a linear term"
   ]
  },
  {
   "cell_type": "code",
   "execution_count": 11,
   "metadata": {
    "collapsed": true
   },
   "outputs": [],
   "source": [
    "b = torch.rand(N)"
   ]
  },
  {
   "cell_type": "markdown",
   "metadata": {},
   "source": [
    "create the quadratic form"
   ]
  },
  {
   "cell_type": "code",
   "execution_count": 12,
   "metadata": {
    "collapsed": true
   },
   "outputs": [],
   "source": [
    "function J(x)\n",
    "    return 0.5*x:dot(A*x)-b:dot(x)\n",
    "end"
   ]
  },
  {
   "cell_type": "code",
   "execution_count": 13,
   "metadata": {
    "collapsed": false
   },
   "outputs": [
    {
     "data": {
      "text/plain": [
       "0.72191523289161\t\n"
      ]
     },
     "execution_count": 13,
     "metadata": {},
     "output_type": "execute_result"
    }
   ],
   "source": [
    "print(J(torch.rand(N)))"
   ]
  },
  {
   "cell_type": "markdown",
   "metadata": {},
   "source": [
    "## 2. Find the exact minimum"
   ]
  },
  {
   "cell_type": "code",
   "execution_count": 14,
   "metadata": {
    "collapsed": false
   },
   "outputs": [
    {
     "data": {
      "text/plain": [
       "J(x^*) = -3.13684\t\n"
      ]
     },
     "execution_count": 14,
     "metadata": {},
     "output_type": "execute_result"
    }
   ],
   "source": [
    "xs = torch.inverse(A)*b\n",
    "print(string.format('J(x^*) = %g', J(xs)))"
   ]
  },
  {
   "cell_type": "markdown",
   "metadata": {},
   "source": [
    "## 3. Search the minimum by gradient descent"
   ]
  },
  {
   "cell_type": "code",
   "execution_count": 15,
   "metadata": {
    "collapsed": true
   },
   "outputs": [],
   "source": [
    "function dJ(x)\n",
    "    return A*x-b\n",
    "end"
   ]
  },
  {
   "cell_type": "code",
   "execution_count": 26,
   "metadata": {
    "collapsed": true
   },
   "outputs": [],
   "source": [
    "x = torch.rand(N)"
   ]
  },
  {
   "cell_type": "code",
   "execution_count": 27,
   "metadata": {
    "collapsed": false
   },
   "outputs": [
    {
     "data": {
      "text/plain": [
       "at iter 10 J(x) = 1.217481\t\n",
       "at iter 20 J(x) = 0.340623\t\n",
       "at iter 30 J(x) = 0.107645\t\n",
       "at iter 40 J(x) = 0.015400\t\n",
       "at iter 50 J(x) = -0.043495\t\n",
       "at iter 60 J(x) = -0.092364\t\n",
       "at iter 70 J(x) = -0.136605\t\n",
       "at iter 80 J(x) = -0.177735\t\n",
       "at iter 90 J(x) = -0.216378\t\n",
       "at iter 100 J(x) = -0.252920\t\n",
       "at iter 110 J(x) = -0.287648\t\n"
      ]
     },
     "execution_count": 27,
     "metadata": {},
     "output_type": "execute_result"
    },
    {
     "data": {
      "text/plain": [
       "at iter 120 J(x) = -0.320796\t\n",
       "at iter 130 J(x) = -0.352554\t\n",
       "at iter 140 J(x) = -0.383083\t\n",
       "at iter 150 J(x) = -0.412515\t\n",
       "at iter 160 J(x) = -0.440961\t\n",
       "at iter 170 J(x) = -0.468513\t\n",
       "at iter 180 J(x) = -0.495252\t\n",
       "at iter 190 J(x) = -0.521243\t\n",
       "at iter 200 J(x) = -0.546545\t\n",
       "at iter 210 J(x) = -0.571205\t\n",
       "at iter 220 J(x) = -0.595267\t\n",
       "at iter 230 J(x) = -0.618767\t\n",
       "at iter 240 J(x) = -0.641737\t\n",
       "at iter 250 J(x) = -0.664206\t\n",
       "at iter 260 J(x) = -0.686198\t\n",
       "at iter 270 J(x) = -0.707738\t\n"
      ]
     },
     "execution_count": 27,
     "metadata": {},
     "output_type": "execute_result"
    },
    {
     "data": {
      "text/plain": [
       "at iter 280 J(x) = -0.728844\t\n",
       "at iter 290 J(x) = -0.749535\t\n",
       "at iter 300 J(x) = -0.769828\t\n",
       "at iter 310 J(x) = -0.789738\t\n",
       "at iter 320 J(x) = -0.809280\t\n",
       "at iter 330 J(x) = -0.828467\t\n",
       "at iter 340 J(x) = -0.847310\t\n",
       "at iter 350 J(x) = -0.865822\t\n",
       "at iter 360 J(x) = -0.884013\t\n",
       "at iter 370 J(x) = -0.901894\t\n",
       "at iter 380 J(x) = -0.919473\t\n",
       "at iter 390 J(x) = -0.936760\t\n",
       "at iter 400 J(x) = -0.953765\t\n",
       "at iter 410 J(x) = -0.970494\t\n",
       "at iter 420 J(x) = -0.986956\t\n",
       "at iter 430 J(x) = -1.003159\t\n"
      ]
     },
     "execution_count": 27,
     "metadata": {},
     "output_type": "execute_result"
    },
    {
     "data": {
      "text/plain": [
       "at iter 440 J(x) = -1.019109\t\n",
       "at iter 450 J(x) = -1.034814\t\n",
       "at iter 460 J(x) = -1.050280\t\n",
       "at iter 470 J(x) = -1.065514\t\n",
       "at iter 480 J(x) = -1.080522\t\n",
       "at iter 490 J(x) = -1.095309\t\n",
       "at iter 500 J(x) = -1.109882\t\n",
       "at iter 510 J(x) = -1.124246\t\n",
       "at iter 520 J(x) = -1.138405\t\n",
       "at iter 530 J(x) = -1.152366\t\n",
       "at iter 540 J(x) = -1.166133\t\n",
       "at iter 550 J(x) = -1.179711\t\n",
       "at iter 560 J(x) = -1.193105\t\n",
       "at iter 570 J(x) = -1.206318\t\n",
       "at iter 580 J(x) = -1.219355\t\n",
       "at iter 590 J(x) = -1.232221\t\n"
      ]
     },
     "execution_count": 27,
     "metadata": {},
     "output_type": "execute_result"
    },
    {
     "data": {
      "text/plain": [
       "at iter 600 J(x) = -1.244919\t\n",
       "at iter 610 J(x) = -1.257453\t\n",
       "at iter 620 J(x) = -1.269827\t\n",
       "at iter 630 J(x) = -1.282045\t\n",
       "at iter 640 J(x) = -1.294109\t\n",
       "at iter 650 J(x) = -1.306024\t\n",
       "at iter 660 J(x) = -1.317793\t\n",
       "at iter 670 J(x) = -1.329418\t\n",
       "at iter 680 J(x) = -1.340904\t\n",
       "at iter 690 J(x) = -1.352252\t\n",
       "at iter 700 J(x) = -1.363466\t\n",
       "at iter 710 J(x) = -1.374549\t\n",
       "at iter 720 J(x) = -1.385503\t\n",
       "at iter 730 J(x) = -1.396331\t\n",
       "at iter 740 J(x) = -1.407035\t\n",
       "at iter 750 J(x) = -1.417619\t\n"
      ]
     },
     "execution_count": 27,
     "metadata": {},
     "output_type": "execute_result"
    },
    {
     "data": {
      "text/plain": [
       "at iter 760 J(x) = -1.428084\t\n",
       "at iter 770 J(x) = -1.438433\t\n",
       "at iter 780 J(x) = -1.448668\t\n",
       "at iter 790 J(x) = -1.458791\t\n",
       "at iter 800 J(x) = -1.468804\t\n",
       "at iter 810 J(x) = -1.478710\t\n",
       "at iter 820 J(x) = -1.488510\t\n",
       "at iter 830 J(x) = -1.498207\t\n",
       "at iter 840 J(x) = -1.507803\t\n",
       "at iter 850 J(x) = -1.517298\t\n",
       "at iter 860 J(x) = -1.526696\t\n",
       "at iter 870 J(x) = -1.535997\t\n",
       "at iter 880 J(x) = -1.545204\t\n",
       "at iter 890 J(x) = -1.554319\t\n",
       "at iter 900 J(x) = -1.563342\t\n",
       "at iter 910 J(x) = -1.572275\t\n"
      ]
     },
     "execution_count": 27,
     "metadata": {},
     "output_type": "execute_result"
    },
    {
     "data": {
      "text/plain": [
       "at iter 920 J(x) = -1.581120\t\n",
       "at iter 930 J(x) = -1.589879\t\n",
       "at iter 940 J(x) = -1.598553\t\n",
       "at iter 950 J(x) = -1.607143\t\n",
       "at iter 960 J(x) = -1.615651\t\n",
       "at iter 970 J(x) = -1.624079\t\n",
       "at iter 980 J(x) = -1.632426\t\n",
       "at iter 990 J(x) = -1.640695\t\n",
       "at iter 1000 J(x) = -1.648888\t\n",
       "at iter 1010 J(x) = -1.657004\t\n",
       "at iter 1020 J(x) = -1.665046\t\n",
       "at iter 1030 J(x) = -1.673014\t\n",
       "at iter 1040 J(x) = -1.680911\t\n",
       "at iter 1050 J(x) = -1.688736\t\n",
       "at iter 1060 J(x) = -1.696491\t\n",
       "at iter 1070 J(x) = -1.704177\t\n"
      ]
     },
     "execution_count": 27,
     "metadata": {},
     "output_type": "execute_result"
    },
    {
     "data": {
      "text/plain": [
       "at iter 1080 J(x) = -1.711795\t\n",
       "at iter 1090 J(x) = -1.719346\t\n",
       "at iter 1100 J(x) = -1.726831\t\n",
       "at iter 1110 J(x) = -1.734252\t\n",
       "at iter 1120 J(x) = -1.741608\t\n",
       "at iter 1130 J(x) = -1.748901\t\n",
       "at iter 1140 J(x) = -1.756132\t\n",
       "at iter 1150 J(x) = -1.763302\t\n",
       "at iter 1160 J(x) = -1.770411\t\n",
       "at iter 1170 J(x) = -1.777461\t\n",
       "at iter 1180 J(x) = -1.784453\t\n",
       "at iter 1190 J(x) = -1.791386\t\n",
       "at iter 1200 J(x) = -1.798262\t\n",
       "at iter 1210 J(x) = -1.805082\t\n",
       "at iter 1220 J(x) = -1.811847\t\n",
       "at iter 1230 J(x) = -1.818557\t\n"
      ]
     },
     "execution_count": 27,
     "metadata": {},
     "output_type": "execute_result"
    },
    {
     "data": {
      "text/plain": [
       "at iter 1240 J(x) = -1.825212\t\n",
       "at iter 1250 J(x) = -1.831815\t\n",
       "at iter 1260 J(x) = -1.838365\t\n",
       "at iter 1270 J(x) = -1.844863\t\n",
       "at iter 1280 J(x) = -1.851309\t\n",
       "at iter 1290 J(x) = -1.857706\t\n",
       "at iter 1300 J(x) = -1.864052\t\n",
       "at iter 1310 J(x) = -1.870349\t\n",
       "at iter 1320 J(x) = -1.876598\t\n",
       "at iter 1330 J(x) = -1.882798\t\n",
       "at iter 1340 J(x) = -1.888952\t\n",
       "at iter 1350 J(x) = -1.895058\t\n",
       "at iter 1360 J(x) = -1.901119\t\n",
       "at iter 1370 J(x) = -1.907133\t\n",
       "at iter 1380 J(x) = -1.913103\t\n",
       "at iter 1390 J(x) = -1.919028\t\n"
      ]
     },
     "execution_count": 27,
     "metadata": {},
     "output_type": "execute_result"
    },
    {
     "data": {
      "text/plain": [
       "at iter 1400 J(x) = -1.924910\t\n",
       "at iter 1410 J(x) = -1.930747\t\n",
       "at iter 1420 J(x) = -1.936543\t\n",
       "at iter 1430 J(x) = -1.942295\t\n",
       "at iter 1440 J(x) = -1.948006\t\n",
       "at iter 1450 J(x) = -1.953676\t\n",
       "at iter 1460 J(x) = -1.959304\t\n",
       "at iter 1470 J(x) = -1.964893\t\n",
       "at iter 1480 J(x) = -1.970441\t\n",
       "at iter 1490 J(x) = -1.975950\t\n",
       "at iter 1500 J(x) = -1.981420\t\n",
       "at iter 1510 J(x) = -1.986852\t\n",
       "at iter 1520 J(x) = -1.992246\t\n",
       "at iter 1530 J(x) = -1.997601\t\n",
       "at iter 1540 J(x) = -2.002920\t\n",
       "at iter 1550 J(x) = -2.008202\t\n"
      ]
     },
     "execution_count": 27,
     "metadata": {},
     "output_type": "execute_result"
    },
    {
     "data": {
      "text/plain": [
       "at iter 1560 J(x) = -2.013448\t\n",
       "at iter 1570 J(x) = -2.018657\t\n",
       "at iter 1580 J(x) = -2.023831\t\n",
       "at iter 1590 J(x) = -2.028970\t\n",
       "at iter 1600 J(x) = -2.034075\t\n",
       "at iter 1610 J(x) = -2.039144\t\n",
       "at iter 1620 J(x) = -2.044180\t\n",
       "at iter 1630 J(x) = -2.049182\t\n",
       "at iter 1640 J(x) = -2.054151\t\n",
       "at iter 1650 J(x) = -2.059087\t\n",
       "at iter 1660 J(x) = -2.063991\t\n",
       "at iter 1670 J(x) = -2.068862\t\n",
       "at iter 1680 J(x) = -2.073702\t\n",
       "at iter 1690 J(x) = -2.078510\t\n",
       "at iter 1700 J(x) = -2.083286\t\n",
       "at iter 1710 J(x) = -2.088032\t\n"
      ]
     },
     "execution_count": 27,
     "metadata": {},
     "output_type": "execute_result"
    },
    {
     "data": {
      "text/plain": [
       "at iter 1720 J(x) = -2.092748\t\n",
       "at iter 1730 J(x) = -2.097433\t\n",
       "at iter 1740 J(x) = -2.102088\t\n",
       "at iter 1750 J(x) = -2.106714\t\n",
       "at iter 1760 J(x) = -2.111310\t\n",
       "at iter 1770 J(x) = -2.115878\t\n",
       "at iter 1780 J(x) = -2.120417\t\n",
       "at iter 1790 J(x) = -2.124927\t\n",
       "at iter 1800 J(x) = -2.129409\t\n",
       "at iter 1810 J(x) = -2.133864\t\n",
       "at iter 1820 J(x) = -2.138291\t\n",
       "at iter 1830 J(x) = -2.142690\t\n",
       "at iter 1840 J(x) = -2.147063\t\n",
       "at iter 1850 J(x) = -2.151409\t\n",
       "at iter 1860 J(x) = -2.155729\t\n",
       "at iter 1870 J(x) = -2.160022\t\n"
      ]
     },
     "execution_count": 27,
     "metadata": {},
     "output_type": "execute_result"
    },
    {
     "data": {
      "text/plain": [
       "at iter 1880 J(x) = -2.164289\t\n",
       "at iter 1890 J(x) = -2.168531\t\n",
       "at iter 1900 J(x) = -2.172747\t\n",
       "at iter 1910 J(x) = -2.176938\t\n",
       "at iter 1920 J(x) = -2.181104\t\n",
       "at iter 1930 J(x) = -2.185246\t\n",
       "at iter 1940 J(x) = -2.189362\t\n",
       "at iter 1950 J(x) = -2.193455\t\n",
       "at iter 1960 J(x) = -2.197524\t\n",
       "at iter 1970 J(x) = -2.201569\t\n",
       "at iter 1980 J(x) = -2.205590\t\n",
       "at iter 1990 J(x) = -2.209588\t\n",
       "at iter 2000 J(x) = -2.213563\t\n",
       "at iter 2010 J(x) = -2.217514\t\n",
       "at iter 2020 J(x) = -2.221444\t\n",
       "at iter 2030 J(x) = -2.225350\t\n"
      ]
     },
     "execution_count": 27,
     "metadata": {},
     "output_type": "execute_result"
    },
    {
     "data": {
      "text/plain": [
       "at iter 2040 J(x) = -2.229235\t\n",
       "at iter 2050 J(x) = -2.233097\t\n",
       "at iter 2060 J(x) = -2.236937\t\n",
       "at iter 2070 J(x) = -2.240756\t\n",
       "at iter 2080 J(x) = -2.244553\t\n",
       "at iter 2090 J(x) = -2.248329\t\n",
       "at iter 2100 J(x) = -2.252084\t\n",
       "at iter 2110 J(x) = -2.255818\t\n",
       "at iter 2120 J(x) = -2.259531\t\n",
       "at iter 2130 J(x) = -2.263224\t\n",
       "at iter 2140 J(x) = -2.266896\t\n",
       "at iter 2150 J(x) = -2.270548\t\n",
       "at iter 2160 J(x) = -2.274180\t\n",
       "at iter 2170 J(x) = -2.277792\t\n",
       "at iter 2180 J(x) = -2.281385\t\n",
       "at iter 2190 J(x) = -2.284958\t\n"
      ]
     },
     "execution_count": 27,
     "metadata": {},
     "output_type": "execute_result"
    },
    {
     "data": {
      "text/plain": [
       "at iter 2200 J(x) = -2.288512\t\n",
       "at iter 2210 J(x) = -2.292046\t\n",
       "at iter 2220 J(x) = -2.295562\t\n",
       "at iter 2230 J(x) = -2.299058\t\n",
       "at iter 2240 J(x) = -2.302536\t\n",
       "at iter 2250 J(x) = -2.305996\t\n",
       "at iter 2260 J(x) = -2.309437\t\n",
       "at iter 2270 J(x) = -2.312860\t\n",
       "at iter 2280 J(x) = -2.316264\t\n",
       "at iter 2290 J(x) = -2.319651\t\n",
       "at iter 2300 J(x) = -2.323020\t\n",
       "at iter 2310 J(x) = -2.326372\t\n",
       "at iter 2320 J(x) = -2.329706\t\n",
       "at iter 2330 J(x) = -2.333022\t\n",
       "at iter 2340 J(x) = -2.336322\t\n",
       "at iter 2350 J(x) = -2.339604\t\n"
      ]
     },
     "execution_count": 27,
     "metadata": {},
     "output_type": "execute_result"
    },
    {
     "data": {
      "text/plain": [
       "at iter 2360 J(x) = -2.342869\t\n",
       "at iter 2370 J(x) = -2.346118\t\n",
       "at iter 2380 J(x) = -2.349350\t\n",
       "at iter 2390 J(x) = -2.352565\t\n",
       "at iter 2400 J(x) = -2.355764\t\n",
       "at iter 2410 J(x) = -2.358947\t\n",
       "at iter 2420 J(x) = -2.362114\t\n",
       "at iter 2430 J(x) = -2.365264\t\n",
       "at iter 2440 J(x) = -2.368399\t\n",
       "at iter 2450 J(x) = -2.371518\t\n",
       "at iter 2460 J(x) = -2.374621\t\n",
       "at iter 2470 J(x) = -2.377709\t\n",
       "at iter 2480 J(x) = -2.380782\t\n",
       "at iter 2490 J(x) = -2.383839\t\n",
       "at iter 2500 J(x) = -2.386881\t\n"
      ]
     },
     "execution_count": 27,
     "metadata": {},
     "output_type": "execute_result"
    },
    {
     "data": {
      "text/plain": [
       "at iter 2510 J(x) = -2.389907\t\n",
       "at iter 2520 J(x) = -2.392919\t\n",
       "at iter 2530 J(x) = -2.395916\t\n",
       "at iter 2540 J(x) = -2.398899\t\n",
       "at iter 2550 J(x) = -2.401866\t\n",
       "at iter 2560 J(x) = -2.404820\t\n",
       "at iter 2570 J(x) = -2.407759\t\n",
       "at iter 2580 J(x) = -2.410683\t\n",
       "at iter 2590 J(x) = -2.413593\t\n"
      ]
     },
     "execution_count": 27,
     "metadata": {},
     "output_type": "execute_result"
    },
    {
     "data": {
      "text/plain": [
       "at iter 2600 J(x) = -2.416490\t\n"
      ]
     },
     "execution_count": 27,
     "metadata": {},
     "output_type": "execute_result"
    },
    {
     "data": {
      "text/plain": [
       "at iter 2610 J(x) = -2.419372\t\n",
       "at iter 2620 J(x) = -2.422240\t\n",
       "at iter 2630 J(x) = -2.425095\t\n"
      ]
     },
     "execution_count": 27,
     "metadata": {},
     "output_type": "execute_result"
    },
    {
     "data": {
      "text/plain": [
       "at iter 2640 J(x) = -2.427936\t\n",
       "at iter 2650 J(x) = -2.430763\t\n",
       "at iter 2660 J(x) = -2.433577\t\n"
      ]
     },
     "execution_count": 27,
     "metadata": {},
     "output_type": "execute_result"
    },
    {
     "data": {
      "text/plain": [
       "at iter 2670 J(x) = -2.436378\t\n",
       "at iter 2680 J(x) = -2.439165\t\n"
      ]
     },
     "execution_count": 27,
     "metadata": {},
     "output_type": "execute_result"
    },
    {
     "data": {
      "text/plain": [
       "at iter 2690 J(x) = -2.441939\t\n",
       "at iter 2700 J(x) = -2.444700\t\n",
       "at iter 2710 J(x) = -2.447447\t\n"
      ]
     },
     "execution_count": 27,
     "metadata": {},
     "output_type": "execute_result"
    },
    {
     "data": {
      "text/plain": [
       "at iter 2720 J(x) = -2.450182\t\n",
       "at iter 2730 J(x) = -2.452904\t\n"
      ]
     },
     "execution_count": 27,
     "metadata": {},
     "output_type": "execute_result"
    },
    {
     "data": {
      "text/plain": [
       "at iter 2740 J(x) = -2.455614\t\n",
       "at iter 2750 J(x) = -2.458310\t\n",
       "at iter 2760 J(x) = -2.460995\t\n"
      ]
     },
     "execution_count": 27,
     "metadata": {},
     "output_type": "execute_result"
    },
    {
     "data": {
      "text/plain": [
       "at iter 2770 J(x) = -2.463666\t\n",
       "at iter 2780 J(x) = -2.466325\t\n"
      ]
     },
     "execution_count": 27,
     "metadata": {},
     "output_type": "execute_result"
    },
    {
     "data": {
      "text/plain": [
       "at iter 2790 J(x) = -2.468972\t\n",
       "at iter 2800 J(x) = -2.471607\t\n"
      ]
     },
     "execution_count": 27,
     "metadata": {},
     "output_type": "execute_result"
    },
    {
     "data": {
      "text/plain": [
       "at iter 2810 J(x) = -2.474229\t\n",
       "at iter 2820 J(x) = -2.476840\t\n",
       "at iter 2830 J(x) = -2.479438\t\n",
       "at iter 2840 J(x) = -2.482024\t\n",
       "at iter 2850 J(x) = -2.484599\t\n",
       "at iter 2860 J(x) = -2.487162\t\n",
       "at iter 2870 J(x) = -2.489713\t\n"
      ]
     },
     "execution_count": 27,
     "metadata": {},
     "output_type": "execute_result"
    },
    {
     "data": {
      "text/plain": [
       "at iter 2880 J(x) = -2.492253\t\n",
       "at iter 2890 J(x) = -2.494781\t\n"
      ]
     },
     "execution_count": 27,
     "metadata": {},
     "output_type": "execute_result"
    },
    {
     "data": {
      "text/plain": [
       "at iter 2900 J(x) = -2.497297\t\n",
       "at iter 2910 J(x) = -2.499803\t\n",
       "at iter 2920 J(x) = -2.502297\t\n"
      ]
     },
     "execution_count": 27,
     "metadata": {},
     "output_type": "execute_result"
    },
    {
     "data": {
      "text/plain": [
       "at iter 2930 J(x) = -2.504779\t\n",
       "at iter 2940 J(x) = -2.507251\t\n",
       "at iter 2950 J(x) = -2.509711\t\n",
       "at iter 2960 J(x) = -2.512161\t\n",
       "at iter 2970 J(x) = -2.514599\t\n",
       "at iter 2980 J(x) = -2.517027\t\n",
       "at iter 2990 J(x) = -2.519443\t\n",
       "at iter 3000 J(x) = -2.521849\t\n",
       "at iter 3010 J(x) = -2.524245\t\n",
       "at iter 3020 J(x) = -2.526629\t\n",
       "at iter 3030 J(x) = -2.529003\t\n",
       "at iter 3040 J(x) = -2.531367\t\n",
       "at iter 3050 J(x) = -2.533720\t\n",
       "at iter 3060 J(x) = -2.536063\t\n",
       "at iter 3070 J(x) = -2.538396\t\n",
       "at iter 3080 J(x) = -2.540718\t\n",
       "at iter 3090 J(x) = -2.543030\t\n",
       "at iter 3100 J(x) = -2.545332\t\n",
       "at iter 3110 J(x) = -2.547624\t\n",
       "at iter 3120 J(x) = -2.549906\t\n"
      ]
     },
     "execution_count": 27,
     "metadata": {},
     "output_type": "execute_result"
    },
    {
     "data": {
      "text/plain": [
       "at iter 3130 J(x) = -2.552179\t\n",
       "at iter 3140 J(x) = -2.554441\t\n",
       "at iter 3150 J(x) = -2.556693\t\n",
       "at iter 3160 J(x) = -2.558936\t\n",
       "at iter 3170 J(x) = -2.561169\t\n",
       "at iter 3180 J(x) = -2.563392\t\n",
       "at iter 3190 J(x) = -2.565606\t\n",
       "at iter 3200 J(x) = -2.567810\t\n",
       "at iter 3210 J(x) = -2.570005\t\n",
       "at iter 3220 J(x) = -2.572190\t\n",
       "at iter 3230 J(x) = -2.574366\t\n",
       "at iter 3240 J(x) = -2.576533\t\n",
       "at iter 3250 J(x) = -2.578691\t\n",
       "at iter 3260 J(x) = -2.580839\t\n",
       "at iter 3270 J(x) = -2.582978\t\n",
       "at iter 3280 J(x) = -2.585108\t\n",
       "at iter 3290 J(x) = -2.587229\t\n",
       "at iter 3300 J(x) = -2.589341\t\n",
       "at iter 3310 J(x) = -2.591444\t\n",
       "at iter 3320 J(x) = -2.593538\t\n",
       "at iter 3330 J(x) = -2.595623\t\n",
       "at iter 3340 J(x) = -2.597700\t\n"
      ]
     },
     "execution_count": 27,
     "metadata": {},
     "output_type": "execute_result"
    },
    {
     "data": {
      "text/plain": [
       "at iter 3350 J(x) = -2.599767\t\n",
       "at iter 3360 J(x) = -2.601826\t\n",
       "at iter 3370 J(x) = -2.603877\t\n",
       "at iter 3380 J(x) = -2.605918\t\n",
       "at iter 3390 J(x) = -2.607952\t\n",
       "at iter 3400 J(x) = -2.609976\t\n",
       "at iter 3410 J(x) = -2.611993\t\n",
       "at iter 3420 J(x) = -2.614000\t\n",
       "at iter 3430 J(x) = -2.616000\t\n",
       "at iter 3440 J(x) = -2.617991\t\n",
       "at iter 3450 J(x) = -2.619974\t\n",
       "at iter 3460 J(x) = -2.621948\t\n",
       "at iter 3470 J(x) = -2.623915\t\n",
       "at iter 3480 J(x) = -2.625873\t\n",
       "at iter 3490 J(x) = -2.627823\t\n",
       "at iter 3500 J(x) = -2.629765\t\n",
       "at iter 3510 J(x) = -2.631699\t\n",
       "at iter 3520 J(x) = -2.633625\t\n",
       "at iter 3530 J(x) = -2.635543\t\n",
       "at iter 3540 J(x) = -2.637454\t\n",
       "at iter 3550 J(x) = -2.639356\t\n"
      ]
     },
     "execution_count": 27,
     "metadata": {},
     "output_type": "execute_result"
    },
    {
     "data": {
      "text/plain": [
       "at iter 3560 J(x) = -2.641250\t\n",
       "at iter 3570 J(x) = -2.643137\t\n",
       "at iter 3580 J(x) = -2.645016\t\n",
       "at iter 3590 J(x) = -2.646888\t\n",
       "at iter 3600 J(x) = -2.648751\t\n",
       "at iter 3610 J(x) = -2.650607\t\n",
       "at iter 3620 J(x) = -2.652456\t\n",
       "at iter 3630 J(x) = -2.654297\t\n",
       "at iter 3640 J(x) = -2.656130\t\n",
       "at iter 3650 J(x) = -2.657956\t\n",
       "at iter 3660 J(x) = -2.659775\t\n",
       "at iter 3670 J(x) = -2.661586\t\n",
       "at iter 3680 J(x) = -2.663390\t\n",
       "at iter 3690 J(x) = -2.665186\t\n",
       "at iter 3700 J(x) = -2.666976\t\n",
       "at iter 3710 J(x) = -2.668758\t\n",
       "at iter 3720 J(x) = -2.670533\t\n",
       "at iter 3730 J(x) = -2.672300\t\n",
       "at iter 3740 J(x) = -2.674061\t\n",
       "at iter 3750 J(x) = -2.675814\t\n",
       "at iter 3760 J(x) = -2.677560\t\n"
      ]
     },
     "execution_count": 27,
     "metadata": {},
     "output_type": "execute_result"
    },
    {
     "data": {
      "text/plain": [
       "at iter 3770 J(x) = -2.679300\t\n",
       "at iter 3780 J(x) = -2.681032\t\n",
       "at iter 3790 J(x) = -2.682757\t\n",
       "at iter 3800 J(x) = -2.684476\t\n",
       "at iter 3810 J(x) = -2.686187\t\n",
       "at iter 3820 J(x) = -2.687892\t\n",
       "at iter 3830 J(x) = -2.689590\t\n",
       "at iter 3840 J(x) = -2.691281\t\n",
       "at iter 3850 J(x) = -2.692965\t\n",
       "at iter 3860 J(x) = -2.694643\t\n",
       "at iter 3870 J(x) = -2.696314\t\n",
       "at iter 3880 J(x) = -2.697978\t\n",
       "at iter 3890 J(x) = -2.699636\t\n",
       "at iter 3900 J(x) = -2.701287\t\n",
       "at iter 3910 J(x) = -2.702931\t\n",
       "at iter 3920 J(x) = -2.704569\t\n",
       "at iter 3930 J(x) = -2.706200\t\n",
       "at iter 3940 J(x) = -2.707825\t\n",
       "at iter 3950 J(x) = -2.709444\t\n",
       "at iter 3960 J(x) = -2.711056\t\n",
       "at iter 3970 J(x) = -2.712661\t\n"
      ]
     },
     "execution_count": 27,
     "metadata": {},
     "output_type": "execute_result"
    },
    {
     "data": {
      "text/plain": [
       "at iter 3980 J(x) = -2.714261\t\n",
       "at iter 3990 J(x) = -2.715853\t\n",
       "at iter 4000 J(x) = -2.717440\t\n",
       "at iter 4010 J(x) = -2.719021\t\n",
       "at iter 4020 J(x) = -2.720595\t\n",
       "at iter 4030 J(x) = -2.722163\t\n",
       "at iter 4040 J(x) = -2.723724\t\n",
       "at iter 4050 J(x) = -2.725280\t\n",
       "at iter 4060 J(x) = -2.726830\t\n",
       "at iter 4070 J(x) = -2.728373\t\n",
       "at iter 4080 J(x) = -2.729910\t\n",
       "at iter 4090 J(x) = -2.731442\t\n",
       "at iter 4100 J(x) = -2.732967\t\n",
       "at iter 4110 J(x) = -2.734486\t\n",
       "at iter 4120 J(x) = -2.736000\t\n",
       "at iter 4130 J(x) = -2.737507\t\n",
       "at iter 4140 J(x) = -2.739008\t\n",
       "at iter 4150 J(x) = -2.740504\t\n",
       "at iter 4160 J(x) = -2.741994\t\n",
       "at iter 4170 J(x) = -2.743478\t\n",
       "at iter 4180 J(x) = -2.744956\t\n",
       "at iter 4190 J(x) = -2.746428\t\n"
      ]
     },
     "execution_count": 27,
     "metadata": {},
     "output_type": "execute_result"
    },
    {
     "data": {
      "text/plain": [
       "at iter 4200 J(x) = -2.747895\t\n",
       "at iter 4210 J(x) = -2.749356\t\n",
       "at iter 4220 J(x) = -2.750811\t\n",
       "at iter 4230 J(x) = -2.752261\t\n",
       "at iter 4240 J(x) = -2.753705\t\n",
       "at iter 4250 J(x) = -2.755143\t\n",
       "at iter 4260 J(x) = -2.756575\t\n",
       "at iter 4270 J(x) = -2.758003\t\n",
       "at iter 4280 J(x) = -2.759424\t\n",
       "at iter 4290 J(x) = -2.760840\t\n",
       "at iter 4300 J(x) = -2.762251\t\n",
       "at iter 4310 J(x) = -2.763656\t\n",
       "at iter 4320 J(x) = -2.765055\t\n",
       "at iter 4330 J(x) = -2.766450\t\n",
       "at iter 4340 J(x) = -2.767838\t\n",
       "at iter 4350 J(x) = -2.769222\t\n",
       "at iter 4360 J(x) = -2.770600\t\n",
       "at iter 4370 J(x) = -2.771973\t\n",
       "at iter 4380 J(x) = -2.773340\t\n",
       "at iter 4390 J(x) = -2.774702\t\n",
       "at iter 4400 J(x) = -2.776059\t\n"
      ]
     },
     "execution_count": 27,
     "metadata": {},
     "output_type": "execute_result"
    },
    {
     "data": {
      "text/plain": [
       "at iter 4410 J(x) = -2.777411\t\n",
       "at iter 4420 J(x) = -2.778757\t\n",
       "at iter 4430 J(x) = -2.780098\t\n",
       "at iter 4440 J(x) = -2.781434\t\n",
       "at iter 4450 J(x) = -2.782765\t\n",
       "at iter 4460 J(x) = -2.784091\t\n",
       "at iter 4470 J(x) = -2.785412\t\n",
       "at iter 4480 J(x) = -2.786727\t\n",
       "at iter 4490 J(x) = -2.788038\t\n",
       "at iter 4500 J(x) = -2.789343\t\n",
       "at iter 4510 J(x) = -2.790644\t\n",
       "at iter 4520 J(x) = -2.791939\t\n",
       "at iter 4530 J(x) = -2.793230\t\n",
       "at iter 4540 J(x) = -2.794515\t\n",
       "at iter 4550 J(x) = -2.795796\t\n",
       "at iter 4560 J(x) = -2.797071\t\n",
       "at iter 4570 J(x) = -2.798342\t\n",
       "at iter 4580 J(x) = -2.799608\t\n",
       "at iter 4590 J(x) = -2.800869\t\n",
       "at iter 4600 J(x) = -2.802125\t\n",
       "at iter 4610 J(x) = -2.803377\t\n",
       "at iter 4620 J(x) = -2.804623\t\n"
      ]
     },
     "execution_count": 27,
     "metadata": {},
     "output_type": "execute_result"
    },
    {
     "data": {
      "text/plain": [
       "at iter 4630 J(x) = -2.805865\t\n",
       "at iter 4640 J(x) = -2.807102\t\n",
       "at iter 4650 J(x) = -2.808334\t\n",
       "at iter 4660 J(x) = -2.809562\t\n",
       "at iter 4670 J(x) = -2.810785\t\n",
       "at iter 4680 J(x) = -2.812003\t\n",
       "at iter 4690 J(x) = -2.813217\t\n",
       "at iter 4700 J(x) = -2.814426\t\n",
       "at iter 4710 J(x) = -2.815630\t\n",
       "at iter 4720 J(x) = -2.816830\t\n",
       "at iter 4730 J(x) = -2.818025\t\n",
       "at iter 4740 J(x) = -2.819216\t\n",
       "at iter 4750 J(x) = -2.820402\t\n",
       "at iter 4760 J(x) = -2.821584\t\n",
       "at iter 4770 J(x) = -2.822761\t\n",
       "at iter 4780 J(x) = -2.823933\t\n",
       "at iter 4790 J(x) = -2.825101\t\n",
       "at iter 4800 J(x) = -2.826265\t\n",
       "at iter 4810 J(x) = -2.827424\t\n",
       "at iter 4820 J(x) = -2.828579\t\n",
       "at iter 4830 J(x) = -2.829730\t\n"
      ]
     },
     "execution_count": 27,
     "metadata": {},
     "output_type": "execute_result"
    },
    {
     "data": {
      "text/plain": [
       "at iter 4840 J(x) = -2.830876\t\n",
       "at iter 4850 J(x) = -2.832017\t\n",
       "at iter 4860 J(x) = -2.833155\t\n",
       "at iter 4870 J(x) = -2.834288\t\n",
       "at iter 4880 J(x) = -2.835416\t\n",
       "at iter 4890 J(x) = -2.836541\t\n",
       "at iter 4900 J(x) = -2.837661\t\n",
       "at iter 4910 J(x) = -2.838777\t\n",
       "at iter 4920 J(x) = -2.839889\t\n",
       "at iter 4930 J(x) = -2.840996\t\n",
       "at iter 4940 J(x) = -2.842100\t\n",
       "at iter 4950 J(x) = -2.843199\t\n",
       "at iter 4960 J(x) = -2.844294\t\n",
       "at iter 4970 J(x) = -2.845384\t\n",
       "at iter 4980 J(x) = -2.846471\t\n",
       "at iter 4990 J(x) = -2.847554\t\n",
       "at iter 5000 J(x) = -2.848632\t\n",
       "at iter 5010 J(x) = -2.849706\t\n",
       "at iter 5020 J(x) = -2.850777\t\n",
       "at iter 5030 J(x) = -2.851843\t\n",
       "at iter 5040 J(x) = -2.852905\t\n",
       "at iter 5050 J(x) = -2.853963\t\n"
      ]
     },
     "execution_count": 27,
     "metadata": {},
     "output_type": "execute_result"
    },
    {
     "data": {
      "text/plain": [
       "at iter 5060 J(x) = -2.855018\t\n",
       "at iter 5070 J(x) = -2.856068\t\n",
       "at iter 5080 J(x) = -2.857114\t\n",
       "at iter 5090 J(x) = -2.858156\t\n",
       "at iter 5100 J(x) = -2.859195\t\n",
       "at iter 5110 J(x) = -2.860229\t\n",
       "at iter 5120 J(x) = -2.861259\t\n",
       "at iter 5130 J(x) = -2.862286\t\n",
       "at iter 5140 J(x) = -2.863309\t\n",
       "at iter 5150 J(x) = -2.864328\t\n",
       "at iter 5160 J(x) = -2.865343\t\n",
       "at iter 5170 J(x) = -2.866354\t\n",
       "at iter 5180 J(x) = -2.867361\t\n",
       "at iter 5190 J(x) = -2.868365\t\n",
       "at iter 5200 J(x) = -2.869365\t\n",
       "at iter 5210 J(x) = -2.870361\t\n",
       "at iter 5220 J(x) = -2.871353\t\n",
       "at iter 5230 J(x) = -2.872342\t\n",
       "at iter 5240 J(x) = -2.873326\t\n",
       "at iter 5250 J(x) = -2.874308\t\n",
       "at iter 5260 J(x) = -2.875285\t\n",
       "at iter 5270 J(x) = -2.876259\t\n"
      ]
     },
     "execution_count": 27,
     "metadata": {},
     "output_type": "execute_result"
    },
    {
     "data": {
      "text/plain": [
       "at iter 5280 J(x) = -2.877229\t\n",
       "at iter 5290 J(x) = -2.878195\t\n",
       "at iter 5300 J(x) = -2.879158\t\n",
       "at iter 5310 J(x) = -2.880117\t\n",
       "at iter 5320 J(x) = -2.881073\t\n",
       "at iter 5330 J(x) = -2.882025\t\n",
       "at iter 5340 J(x) = -2.882973\t\n",
       "at iter 5350 J(x) = -2.883918\t\n",
       "at iter 5360 J(x) = -2.884859\t\n",
       "at iter 5370 J(x) = -2.885797\t\n",
       "at iter 5380 J(x) = -2.886731\t\n",
       "at iter 5390 J(x) = -2.887662\t\n",
       "at iter 5400 J(x) = -2.888589\t\n",
       "at iter 5410 J(x) = -2.889512\t\n",
       "at iter 5420 J(x) = -2.890433\t\n",
       "at iter 5430 J(x) = -2.891349\t\n",
       "at iter 5440 J(x) = -2.892263\t\n",
       "at iter 5450 J(x) = -2.893173\t\n",
       "at iter 5460 J(x) = -2.894079\t\n",
       "at iter 5470 J(x) = -2.894982\t\n",
       "at iter 5480 J(x) = -2.895882\t\n"
      ]
     },
     "execution_count": 27,
     "metadata": {},
     "output_type": "execute_result"
    },
    {
     "data": {
      "text/plain": [
       "at iter 5490 J(x) = -2.896778\t\n",
       "at iter 5500 J(x) = -2.897671\t\n",
       "at iter 5510 J(x) = -2.898561\t\n",
       "at iter 5520 J(x) = -2.899447\t\n",
       "at iter 5530 J(x) = -2.900330\t\n",
       "at iter 5540 J(x) = -2.901209\t\n",
       "at iter 5550 J(x) = -2.902086\t\n",
       "at iter 5560 J(x) = -2.902959\t\n",
       "at iter 5570 J(x) = -2.903829\t\n",
       "at iter 5580 J(x) = -2.904695\t\n",
       "at iter 5590 J(x) = -2.905558\t\n",
       "at iter 5600 J(x) = -2.906418\t\n",
       "at iter 5610 J(x) = -2.907275\t\n",
       "at iter 5620 J(x) = -2.908129\t\n",
       "at iter 5630 J(x) = -2.908979\t\n",
       "at iter 5640 J(x) = -2.909826\t\n",
       "at iter 5650 J(x) = -2.910670\t\n",
       "at iter 5660 J(x) = -2.911511\t\n",
       "at iter 5670 J(x) = -2.912349\t\n",
       "at iter 5680 J(x) = -2.913183\t\n",
       "at iter 5690 J(x) = -2.914015\t\n",
       "at iter 5700 J(x) = -2.914843\t\n"
      ]
     },
     "execution_count": 27,
     "metadata": {},
     "output_type": "execute_result"
    },
    {
     "data": {
      "text/plain": [
       "at iter 5710 J(x) = -2.915668\t\n",
       "at iter 5720 J(x) = -2.916491\t\n",
       "at iter 5730 J(x) = -2.917310\t\n",
       "at iter 5740 J(x) = -2.918126\t\n",
       "at iter 5750 J(x) = -2.918939\t\n",
       "at iter 5760 J(x) = -2.919748\t\n",
       "at iter 5770 J(x) = -2.920555\t\n",
       "at iter 5780 J(x) = -2.921359\t\n",
       "at iter 5790 J(x) = -2.922160\t\n",
       "at iter 5800 J(x) = -2.922958\t\n",
       "at iter 5810 J(x) = -2.923753\t\n",
       "at iter 5820 J(x) = -2.924545\t\n",
       "at iter 5830 J(x) = -2.925334\t\n",
       "at iter 5840 J(x) = -2.926120\t\n",
       "at iter 5850 J(x) = -2.926903\t\n",
       "at iter 5860 J(x) = -2.927683\t\n",
       "at iter 5870 J(x) = -2.928460\t\n",
       "at iter 5880 J(x) = -2.929234\t\n",
       "at iter 5890 J(x) = -2.930006\t\n",
       "at iter 5900 J(x) = -2.930774\t\n"
      ]
     },
     "execution_count": 27,
     "metadata": {},
     "output_type": "execute_result"
    },
    {
     "data": {
      "text/plain": [
       "at iter 5910 J(x) = -2.931540\t\n",
       "at iter 5920 J(x) = -2.932303\t\n",
       "at iter 5930 J(x) = -2.933063\t\n",
       "at iter 5940 J(x) = -2.933820\t\n",
       "at iter 5950 J(x) = -2.934574\t\n",
       "at iter 5960 J(x) = -2.935326\t\n",
       "at iter 5970 J(x) = -2.936074\t\n",
       "at iter 5980 J(x) = -2.936820\t\n",
       "at iter 5990 J(x) = -2.937563\t\n",
       "at iter 6000 J(x) = -2.938303\t\n",
       "at iter 6010 J(x) = -2.939041\t\n",
       "at iter 6020 J(x) = -2.939776\t\n",
       "at iter 6030 J(x) = -2.940508\t\n",
       "at iter 6040 J(x) = -2.941237\t\n",
       "at iter 6050 J(x) = -2.941964\t\n",
       "at iter 6060 J(x) = -2.942688\t\n",
       "at iter 6070 J(x) = -2.943409\t\n",
       "at iter 6080 J(x) = -2.944127\t\n",
       "at iter 6090 J(x) = -2.944843\t\n",
       "at iter 6100 J(x) = -2.945556\t\n"
      ]
     },
     "execution_count": 27,
     "metadata": {},
     "output_type": "execute_result"
    },
    {
     "data": {
      "text/plain": [
       "at iter 6110 J(x) = -2.946267\t\n",
       "at iter 6120 J(x) = -2.946974\t\n",
       "at iter 6130 J(x) = -2.947680\t\n",
       "at iter 6140 J(x) = -2.948382\t\n",
       "at iter 6150 J(x) = -2.949082\t\n",
       "at iter 6160 J(x) = -2.949779\t\n",
       "at iter 6170 J(x) = -2.950474\t\n",
       "at iter 6180 J(x) = -2.951166\t\n",
       "at iter 6190 J(x) = -2.951856\t\n",
       "at iter 6200 J(x) = -2.952543\t\n",
       "at iter 6210 J(x) = -2.953227\t\n",
       "at iter 6220 J(x) = -2.953909\t\n",
       "at iter 6230 J(x) = -2.954588\t\n",
       "at iter 6240 J(x) = -2.955265\t\n",
       "at iter 6250 J(x) = -2.955939\t\n",
       "at iter 6260 J(x) = -2.956611\t\n",
       "at iter 6270 J(x) = -2.957280\t\n",
       "at iter 6280 J(x) = -2.957947\t\n",
       "at iter 6290 J(x) = -2.958612\t\n",
       "at iter 6300 J(x) = -2.959273\t\n"
      ]
     },
     "execution_count": 27,
     "metadata": {},
     "output_type": "execute_result"
    },
    {
     "data": {
      "text/plain": [
       "at iter 6310 J(x) = -2.959933\t\n",
       "at iter 6320 J(x) = -2.960590\t\n",
       "at iter 6330 J(x) = -2.961244\t\n",
       "at iter 6340 J(x) = -2.961896\t\n",
       "at iter 6350 J(x) = -2.962545\t\n",
       "at iter 6360 J(x) = -2.963193\t\n",
       "at iter 6370 J(x) = -2.963837\t\n",
       "at iter 6380 J(x) = -2.964480\t\n",
       "at iter 6390 J(x) = -2.965120\t\n",
       "at iter 6400 J(x) = -2.965757\t\n",
       "at iter 6410 J(x) = -2.966392\t\n",
       "at iter 6420 J(x) = -2.967025\t\n",
       "at iter 6430 J(x) = -2.967656\t\n",
       "at iter 6440 J(x) = -2.968284\t\n",
       "at iter 6450 J(x) = -2.968909\t\n",
       "at iter 6460 J(x) = -2.969533\t\n",
       "at iter 6470 J(x) = -2.970154\t\n",
       "at iter 6480 J(x) = -2.970773\t\n",
       "at iter 6490 J(x) = -2.971389\t\n",
       "at iter 6500 J(x) = -2.972004\t\n"
      ]
     },
     "execution_count": 27,
     "metadata": {},
     "output_type": "execute_result"
    },
    {
     "data": {
      "text/plain": [
       "at iter 6510 J(x) = -2.972615\t\n",
       "at iter 6520 J(x) = -2.973225\t\n",
       "at iter 6530 J(x) = -2.973832\t\n",
       "at iter 6540 J(x) = -2.974438\t\n",
       "at iter 6550 J(x) = -2.975040\t\n",
       "at iter 6560 J(x) = -2.975641\t\n",
       "at iter 6570 J(x) = -2.976239\t\n",
       "at iter 6580 J(x) = -2.976836\t\n",
       "at iter 6590 J(x) = -2.977430\t\n",
       "at iter 6600 J(x) = -2.978021\t\n",
       "at iter 6610 J(x) = -2.978611\t\n",
       "at iter 6620 J(x) = -2.979198\t\n",
       "at iter 6630 J(x) = -2.979783\t\n",
       "at iter 6640 J(x) = -2.980366\t\n",
       "at iter 6650 J(x) = -2.980947\t\n",
       "at iter 6660 J(x) = -2.981526\t\n",
       "at iter 6670 J(x) = -2.982102\t\n",
       "at iter 6680 J(x) = -2.982676\t\n",
       "at iter 6690 J(x) = -2.983249\t\n",
       "at iter 6700 J(x) = -2.983819\t\n"
      ]
     },
     "execution_count": 27,
     "metadata": {},
     "output_type": "execute_result"
    },
    {
     "data": {
      "text/plain": [
       "at iter 6710 J(x) = -2.984387\t\n",
       "at iter 6720 J(x) = -2.984953\t\n",
       "at iter 6730 J(x) = -2.985516\t\n",
       "at iter 6740 J(x) = -2.986078\t\n",
       "at iter 6750 J(x) = -2.986637\t\n",
       "at iter 6760 J(x) = -2.987195\t\n",
       "at iter 6770 J(x) = -2.987750\t\n",
       "at iter 6780 J(x) = -2.988304\t\n",
       "at iter 6790 J(x) = -2.988855\t\n",
       "at iter 6800 J(x) = -2.989404\t\n",
       "at iter 6810 J(x) = -2.989951\t\n",
       "at iter 6820 J(x) = -2.990497\t\n",
       "at iter 6830 J(x) = -2.991040\t\n",
       "at iter 6840 J(x) = -2.991581\t\n",
       "at iter 6850 J(x) = -2.992120\t\n",
       "at iter 6860 J(x) = -2.992657\t\n",
       "at iter 6870 J(x) = -2.993192\t\n",
       "at iter 6880 J(x) = -2.993725\t\n",
       "at iter 6890 J(x) = -2.994256\t\n",
       "at iter 6900 J(x) = -2.994785\t\n"
      ]
     },
     "execution_count": 27,
     "metadata": {},
     "output_type": "execute_result"
    },
    {
     "data": {
      "text/plain": [
       "at iter 6910 J(x) = -2.995313\t\n",
       "at iter 6920 J(x) = -2.995838\t\n",
       "at iter 6930 J(x) = -2.996361\t\n",
       "at iter 6940 J(x) = -2.996882\t\n",
       "at iter 6950 J(x) = -2.997402\t\n",
       "at iter 6960 J(x) = -2.997919\t\n",
       "at iter 6970 J(x) = -2.998435\t\n",
       "at iter 6980 J(x) = -2.998948\t\n",
       "at iter 6990 J(x) = -2.999460\t\n",
       "at iter 7000 J(x) = -2.999970\t\n",
       "at iter 7010 J(x) = -3.000478\t\n",
       "at iter 7020 J(x) = -3.000984\t\n",
       "at iter 7030 J(x) = -3.001488\t\n",
       "at iter 7040 J(x) = -3.001990\t\n",
       "at iter 7050 J(x) = -3.002490\t\n",
       "at iter 7060 J(x) = -3.002989\t\n",
       "at iter 7070 J(x) = -3.003486\t\n",
       "at iter 7080 J(x) = -3.003981\t\n",
       "at iter 7090 J(x) = -3.004474\t\n",
       "at iter 7100 J(x) = -3.004965\t\n"
      ]
     },
     "execution_count": 27,
     "metadata": {},
     "output_type": "execute_result"
    },
    {
     "data": {
      "text/plain": [
       "at iter 7110 J(x) = -3.005454\t\n",
       "at iter 7120 J(x) = -3.005942\t\n",
       "at iter 7130 J(x) = -3.006427\t\n",
       "at iter 7140 J(x) = -3.006911\t\n",
       "at iter 7150 J(x) = -3.007393\t\n",
       "at iter 7160 J(x) = -3.007874\t\n",
       "at iter 7170 J(x) = -3.008352\t\n",
       "at iter 7180 J(x) = -3.008829\t\n"
      ]
     },
     "execution_count": 27,
     "metadata": {},
     "output_type": "execute_result"
    },
    {
     "data": {
      "text/plain": [
       "at iter 7190 J(x) = -3.009304\t\n",
       "at iter 7200 J(x) = -3.009777\t\n",
       "at iter 7210 J(x) = -3.010249\t\n",
       "at iter 7220 J(x) = -3.010718\t\n",
       "at iter 7230 J(x) = -3.011186\t\n",
       "at iter 7240 J(x) = -3.011652\t\n",
       "at iter 7250 J(x) = -3.012117\t\n",
       "at iter 7260 J(x) = -3.012580\t\n",
       "at iter 7270 J(x) = -3.013041\t\n",
       "at iter 7280 J(x) = -3.013500\t\n",
       "at iter 7290 J(x) = -3.013958\t\n",
       "at iter 7300 J(x) = -3.014414\t\n",
       "at iter 7310 J(x) = -3.014868\t\n",
       "at iter 7320 J(x) = -3.015320\t\n",
       "at iter 7330 J(x) = -3.015771\t\n"
      ]
     },
     "execution_count": 27,
     "metadata": {},
     "output_type": "execute_result"
    },
    {
     "data": {
      "text/plain": [
       "at iter 7340 J(x) = -3.016221\t\n",
       "at iter 7350 J(x) = -3.016668\t\n",
       "at iter 7360 J(x) = -3.017114\t\n",
       "at iter 7370 J(x) = -3.017558\t\n",
       "at iter 7380 J(x) = -3.018001\t\n",
       "at iter 7390 J(x) = -3.018442\t\n",
       "at iter 7400 J(x) = -3.018881\t\n",
       "at iter 7410 J(x) = -3.019319\t\n",
       "at iter 7420 J(x) = -3.019755\t\n",
       "at iter 7430 J(x) = -3.020189\t\n",
       "at iter 7440 J(x) = -3.020622\t\n",
       "at iter 7450 J(x) = -3.021053\t\n",
       "at iter 7460 J(x) = -3.021483\t\n",
       "at iter 7470 J(x) = -3.021910\t\n",
       "at iter 7480 J(x) = -3.022337\t\n",
       "at iter 7490 J(x) = -3.022762\t\n",
       "at iter 7500 J(x) = -3.023185\t\n"
      ]
     },
     "execution_count": 27,
     "metadata": {},
     "output_type": "execute_result"
    },
    {
     "data": {
      "text/plain": [
       "at iter 7510 J(x) = -3.023607\t\n",
       "at iter 7520 J(x) = -3.024027\t\n",
       "at iter 7530 J(x) = -3.024445\t\n",
       "at iter 7540 J(x) = -3.024862\t\n",
       "at iter 7550 J(x) = -3.025278\t\n",
       "at iter 7560 J(x) = -3.025692\t\n",
       "at iter 7570 J(x) = -3.026104\t\n",
       "at iter 7580 J(x) = -3.026515\t\n",
       "at iter 7590 J(x) = -3.026924\t\n",
       "at iter 7600 J(x) = -3.027332\t\n",
       "at iter 7610 J(x) = -3.027738\t\n",
       "at iter 7620 J(x) = -3.028143\t\n",
       "at iter 7630 J(x) = -3.028546\t\n",
       "at iter 7640 J(x) = -3.028948\t\n",
       "at iter 7650 J(x) = -3.029348\t\n",
       "at iter 7660 J(x) = -3.029747\t\n"
      ]
     },
     "execution_count": 27,
     "metadata": {},
     "output_type": "execute_result"
    },
    {
     "data": {
      "text/plain": [
       "at iter 7670 J(x) = -3.030144\t\n",
       "at iter 7680 J(x) = -3.030540\t\n",
       "at iter 7690 J(x) = -3.030934\t\n",
       "at iter 7700 J(x) = -3.031327\t\n",
       "at iter 7710 J(x) = -3.031719\t\n",
       "at iter 7720 J(x) = -3.032109\t\n",
       "at iter 7730 J(x) = -3.032497\t\n",
       "at iter 7740 J(x) = -3.032884\t\n",
       "at iter 7750 J(x) = -3.033270\t\n",
       "at iter 7760 J(x) = -3.033654\t\n",
       "at iter 7770 J(x) = -3.034037\t\n",
       "at iter 7780 J(x) = -3.034418\t\n",
       "at iter 7790 J(x) = -3.034798\t\n",
       "at iter 7800 J(x) = -3.035177\t\n",
       "at iter 7810 J(x) = -3.035554\t\n",
       "at iter 7820 J(x) = -3.035930\t\n"
      ]
     },
     "execution_count": 27,
     "metadata": {},
     "output_type": "execute_result"
    },
    {
     "data": {
      "text/plain": [
       "at iter 7830 J(x) = -3.036304\t\n",
       "at iter 7840 J(x) = -3.036677\t\n",
       "at iter 7850 J(x) = -3.037049\t\n",
       "at iter 7860 J(x) = -3.037419\t\n",
       "at iter 7870 J(x) = -3.037788\t\n",
       "at iter 7880 J(x) = -3.038155\t\n",
       "at iter 7890 J(x) = -3.038521\t\n",
       "at iter 7900 J(x) = -3.038886\t\n",
       "at iter 7910 J(x) = -3.039249\t\n",
       "at iter 7920 J(x) = -3.039611\t\n",
       "at iter 7930 J(x) = -3.039972\t\n",
       "at iter 7940 J(x) = -3.040331\t\n",
       "at iter 7950 J(x) = -3.040689\t\n",
       "at iter 7960 J(x) = -3.041046\t\n",
       "at iter 7970 J(x) = -3.041401\t\n",
       "at iter 7980 J(x) = -3.041755\t\n"
      ]
     },
     "execution_count": 27,
     "metadata": {},
     "output_type": "execute_result"
    },
    {
     "data": {
      "text/plain": [
       "at iter 7990 J(x) = -3.042108\t\n",
       "at iter 8000 J(x) = -3.042460\t\n",
       "at iter 8010 J(x) = -3.042810\t\n",
       "at iter 8020 J(x) = -3.043159\t\n",
       "at iter 8030 J(x) = -3.043506\t\n",
       "at iter 8040 J(x) = -3.043852\t\n",
       "at iter 8050 J(x) = -3.044197\t\n",
       "at iter 8060 J(x) = -3.044541\t\n",
       "at iter 8070 J(x) = -3.044883\t\n",
       "at iter 8080 J(x) = -3.045224\t\n",
       "at iter 8090 J(x) = -3.045564\t\n",
       "at iter 8100 J(x) = -3.045903\t\n",
       "at iter 8110 J(x) = -3.046240\t\n",
       "at iter 8120 J(x) = -3.046576\t\n",
       "at iter 8130 J(x) = -3.046911\t\n",
       "at iter 8140 J(x) = -3.047245\t\n"
      ]
     },
     "execution_count": 27,
     "metadata": {},
     "output_type": "execute_result"
    },
    {
     "data": {
      "text/plain": [
       "at iter 8150 J(x) = -3.047577\t\n",
       "at iter 8160 J(x) = -3.047908\t\n",
       "at iter 8170 J(x) = -3.048238\t\n",
       "at iter 8180 J(x) = -3.048567\t\n",
       "at iter 8190 J(x) = -3.048894\t\n",
       "at iter 8200 J(x) = -3.049220\t\n",
       "at iter 8210 J(x) = -3.049545\t\n",
       "at iter 8220 J(x) = -3.049869\t\n",
       "at iter 8230 J(x) = -3.050192\t\n",
       "at iter 8240 J(x) = -3.050513\t\n",
       "at iter 8250 J(x) = -3.050833\t\n",
       "at iter 8260 J(x) = -3.051153\t\n",
       "at iter 8270 J(x) = -3.051470\t\n",
       "at iter 8280 J(x) = -3.051787\t\n",
       "at iter 8290 J(x) = -3.052103\t\n",
       "at iter 8300 J(x) = -3.052417\t\n"
      ]
     },
     "execution_count": 27,
     "metadata": {},
     "output_type": "execute_result"
    },
    {
     "data": {
      "text/plain": [
       "at iter 8310 J(x) = -3.052730\t\n",
       "at iter 8320 J(x) = -3.053042\t\n",
       "at iter 8330 J(x) = -3.053353\t\n",
       "at iter 8340 J(x) = -3.053663\t\n",
       "at iter 8350 J(x) = -3.053971\t\n",
       "at iter 8360 J(x) = -3.054278\t\n",
       "at iter 8370 J(x) = -3.054585\t\n",
       "at iter 8380 J(x) = -3.054890\t\n",
       "at iter 8390 J(x) = -3.055194\t\n",
       "at iter 8400 J(x) = -3.055497\t\n",
       "at iter 8410 J(x) = -3.055798\t\n",
       "at iter 8420 J(x) = -3.056099\t\n",
       "at iter 8430 J(x) = -3.056399\t\n",
       "at iter 8440 J(x) = -3.056697\t\n",
       "at iter 8450 J(x) = -3.056994\t\n",
       "at iter 8460 J(x) = -3.057290\t\n"
      ]
     },
     "execution_count": 27,
     "metadata": {},
     "output_type": "execute_result"
    },
    {
     "data": {
      "text/plain": [
       "at iter 8470 J(x) = -3.057585\t\n",
       "at iter 8480 J(x) = -3.057879\t\n",
       "at iter 8490 J(x) = -3.058172\t\n",
       "at iter 8500 J(x) = -3.058464\t\n",
       "at iter 8510 J(x) = -3.058755\t\n",
       "at iter 8520 J(x) = -3.059045\t\n",
       "at iter 8530 J(x) = -3.059333\t\n",
       "at iter 8540 J(x) = -3.059621\t\n",
       "at iter 8550 J(x) = -3.059907\t\n",
       "at iter 8560 J(x) = -3.060192\t\n",
       "at iter 8570 J(x) = -3.060477\t\n",
       "at iter 8580 J(x) = -3.060760\t\n",
       "at iter 8590 J(x) = -3.061042\t\n",
       "at iter 8600 J(x) = -3.061323\t\n",
       "at iter 8610 J(x) = -3.061603\t\n",
       "at iter 8620 J(x) = -3.061883\t\n"
      ]
     },
     "execution_count": 27,
     "metadata": {},
     "output_type": "execute_result"
    },
    {
     "data": {
      "text/plain": [
       "at iter 8630 J(x) = -3.062161\t\n",
       "at iter 8640 J(x) = -3.062438\t\n",
       "at iter 8650 J(x) = -3.062714\t\n",
       "at iter 8660 J(x) = -3.062989\t\n",
       "at iter 8670 J(x) = -3.063262\t\n",
       "at iter 8680 J(x) = -3.063535\t\n",
       "at iter 8690 J(x) = -3.063807\t\n",
       "at iter 8700 J(x) = -3.064078\t\n",
       "at iter 8710 J(x) = -3.064348\t\n",
       "at iter 8720 J(x) = -3.064617\t\n",
       "at iter 8730 J(x) = -3.064885\t\n",
       "at iter 8740 J(x) = -3.065152\t\n",
       "at iter 8750 J(x) = -3.065418\t\n",
       "at iter 8760 J(x) = -3.065683\t\n",
       "at iter 8770 J(x) = -3.065947\t\n",
       "at iter 8780 J(x) = -3.066210\t\n"
      ]
     },
     "execution_count": 27,
     "metadata": {},
     "output_type": "execute_result"
    },
    {
     "data": {
      "text/plain": [
       "at iter 8790 J(x) = -3.066472\t\n",
       "at iter 8800 J(x) = -3.066733\t\n",
       "at iter 8810 J(x) = -3.066993\t\n",
       "at iter 8820 J(x) = -3.067252\t\n",
       "at iter 8830 J(x) = -3.067510\t\n",
       "at iter 8840 J(x) = -3.067767\t\n",
       "at iter 8850 J(x) = -3.068023\t\n",
       "at iter 8860 J(x) = -3.068278\t\n",
       "at iter 8870 J(x) = -3.068533\t\n",
       "at iter 8880 J(x) = -3.068786\t\n",
       "at iter 8890 J(x) = -3.069039\t\n",
       "at iter 8900 J(x) = -3.069290\t\n",
       "at iter 8910 J(x) = -3.069541\t\n",
       "at iter 8920 J(x) = -3.069790\t\n",
       "at iter 8930 J(x) = -3.070039\t\n",
       "at iter 8940 J(x) = -3.070287\t\n"
      ]
     },
     "execution_count": 27,
     "metadata": {},
     "output_type": "execute_result"
    },
    {
     "data": {
      "text/plain": [
       "at iter 8950 J(x) = -3.070534\t\n",
       "at iter 8960 J(x) = -3.070780\t\n",
       "at iter 8970 J(x) = -3.071025\t\n",
       "at iter 8980 J(x) = -3.071269\t\n",
       "at iter 8990 J(x) = -3.071512\t\n",
       "at iter 9000 J(x) = -3.071754\t\n",
       "at iter 9010 J(x) = -3.071996\t\n",
       "at iter 9020 J(x) = -3.072236\t\n",
       "at iter 9030 J(x) = -3.072476\t\n",
       "at iter 9040 J(x) = -3.072715\t\n",
       "at iter 9050 J(x) = -3.072952\t\n",
       "at iter 9060 J(x) = -3.073189\t\n",
       "at iter 9070 J(x) = -3.073425\t\n",
       "at iter 9080 J(x) = -3.073661\t\n",
       "at iter 9090 J(x) = -3.073895\t\n",
       "at iter 9100 J(x) = -3.074128\t\n"
      ]
     },
     "execution_count": 27,
     "metadata": {},
     "output_type": "execute_result"
    },
    {
     "data": {
      "text/plain": [
       "at iter 9110 J(x) = -3.074361\t\n",
       "at iter 9120 J(x) = -3.074593\t\n",
       "at iter 9130 J(x) = -3.074824\t\n",
       "at iter 9140 J(x) = -3.075054\t\n",
       "at iter 9150 J(x) = -3.075283\t\n",
       "at iter 9160 J(x) = -3.075511\t\n",
       "at iter 9170 J(x) = -3.075739\t\n",
       "at iter 9180 J(x) = -3.075965\t\n",
       "at iter 9190 J(x) = -3.076191\t\n",
       "at iter 9200 J(x) = -3.076416\t\n",
       "at iter 9210 J(x) = -3.076640\t\n",
       "at iter 9220 J(x) = -3.076864\t\n",
       "at iter 9230 J(x) = -3.077086\t\n",
       "at iter 9240 J(x) = -3.077308\t\n",
       "at iter 9250 J(x) = -3.077528\t\n",
       "at iter 9260 J(x) = -3.077748\t\n"
      ]
     },
     "execution_count": 27,
     "metadata": {},
     "output_type": "execute_result"
    },
    {
     "data": {
      "text/plain": [
       "at iter 9270 J(x) = -3.077968\t\n",
       "at iter 9280 J(x) = -3.078186\t\n",
       "at iter 9290 J(x) = -3.078404\t\n",
       "at iter 9300 J(x) = -3.078620\t\n",
       "at iter 9310 J(x) = -3.078836\t\n",
       "at iter 9320 J(x) = -3.079051\t\n",
       "at iter 9330 J(x) = -3.079266\t\n",
       "at iter 9340 J(x) = -3.079479\t\n",
       "at iter 9350 J(x) = -3.079692\t\n",
       "at iter 9360 J(x) = -3.079904\t\n",
       "at iter 9370 J(x) = -3.080115\t\n",
       "at iter 9380 J(x) = -3.080326\t\n",
       "at iter 9390 J(x) = -3.080535\t\n",
       "at iter 9400 J(x) = -3.080744\t\n",
       "at iter 9410 J(x) = -3.080952\t\n",
       "at iter 9420 J(x) = -3.081160\t\n"
      ]
     },
     "execution_count": 27,
     "metadata": {},
     "output_type": "execute_result"
    },
    {
     "data": {
      "text/plain": [
       "at iter 9430 J(x) = -3.081366\t\n",
       "at iter 9440 J(x) = -3.081572\t\n",
       "at iter 9450 J(x) = -3.081777\t\n",
       "at iter 9460 J(x) = -3.081981\t\n",
       "at iter 9470 J(x) = -3.082185\t\n",
       "at iter 9480 J(x) = -3.082387\t\n",
       "at iter 9490 J(x) = -3.082589\t\n",
       "at iter 9500 J(x) = -3.082790\t\n",
       "at iter 9510 J(x) = -3.082991\t\n",
       "at iter 9520 J(x) = -3.083191\t\n",
       "at iter 9530 J(x) = -3.083390\t\n",
       "at iter 9540 J(x) = -3.083588\t\n",
       "at iter 9550 J(x) = -3.083785\t\n",
       "at iter 9560 J(x) = -3.083982\t\n",
       "at iter 9570 J(x) = -3.084178\t\n",
       "at iter 9580 J(x) = -3.084374\t\n"
      ]
     },
     "execution_count": 27,
     "metadata": {},
     "output_type": "execute_result"
    },
    {
     "data": {
      "text/plain": [
       "at iter 9590 J(x) = -3.084568\t\n",
       "at iter 9600 J(x) = -3.084762\t\n",
       "at iter 9610 J(x) = -3.084955\t\n",
       "at iter 9620 J(x) = -3.085148\t\n",
       "at iter 9630 J(x) = -3.085339\t\n",
       "at iter 9640 J(x) = -3.085531\t\n",
       "at iter 9650 J(x) = -3.085721\t\n",
       "at iter 9660 J(x) = -3.085910\t\n",
       "at iter 9670 J(x) = -3.086099\t\n",
       "at iter 9680 J(x) = -3.086288\t\n",
       "at iter 9690 J(x) = -3.086475\t\n",
       "at iter 9700 J(x) = -3.086662\t\n",
       "at iter 9710 J(x) = -3.086848\t\n",
       "at iter 9720 J(x) = -3.087033\t\n",
       "at iter 9730 J(x) = -3.087218\t\n",
       "at iter 9740 J(x) = -3.087402\t\n"
      ]
     },
     "execution_count": 27,
     "metadata": {},
     "output_type": "execute_result"
    },
    {
     "data": {
      "text/plain": [
       "at iter 9750 J(x) = -3.087586\t\n",
       "at iter 9760 J(x) = -3.087768\t\n",
       "at iter 9770 J(x) = -3.087950\t\n",
       "at iter 9780 J(x) = -3.088132\t\n",
       "at iter 9790 J(x) = -3.088312\t\n",
       "at iter 9800 J(x) = -3.088492\t\n",
       "at iter 9810 J(x) = -3.088672\t\n",
       "at iter 9820 J(x) = -3.088850\t\n",
       "at iter 9830 J(x) = -3.089028\t\n",
       "at iter 9840 J(x) = -3.089206\t\n",
       "at iter 9850 J(x) = -3.089382\t\n",
       "at iter 9860 J(x) = -3.089558\t\n",
       "at iter 9870 J(x) = -3.089734\t\n",
       "at iter 9880 J(x) = -3.089908\t\n",
       "at iter 9890 J(x) = -3.090083\t\n",
       "at iter 9900 J(x) = -3.090256\t\n"
      ]
     },
     "execution_count": 27,
     "metadata": {},
     "output_type": "execute_result"
    },
    {
     "data": {
      "text/plain": [
       "at iter 9910 J(x) = -3.090429\t\n",
       "at iter 9920 J(x) = -3.090601\t\n",
       "at iter 9930 J(x) = -3.090772\t\n",
       "at iter 9940 J(x) = -3.090943\t\n",
       "at iter 9950 J(x) = -3.091114\t\n",
       "at iter 9960 J(x) = -3.091283\t\n",
       "at iter 9970 J(x) = -3.091452\t\n",
       "at iter 9980 J(x) = -3.091620\t\n",
       "at iter 9990 J(x) = -3.091788\t\n",
       "at iter 10000 J(x) = -3.091955\t\n",
       "at iter 10010 J(x) = -3.092122\t\n",
       "at iter 10020 J(x) = -3.092288\t\n",
       "at iter 10030 J(x) = -3.092453\t\n",
       "at iter 10040 J(x) = -3.092618\t\n",
       "at iter 10050 J(x) = -3.092782\t\n",
       "at iter 10060 J(x) = -3.092945\t\n"
      ]
     },
     "execution_count": 27,
     "metadata": {},
     "output_type": "execute_result"
    },
    {
     "data": {
      "text/plain": [
       "at iter 10070 J(x) = -3.093108\t\n",
       "at iter 10080 J(x) = -3.093270\t\n",
       "at iter 10090 J(x) = -3.093432\t\n",
       "at iter 10100 J(x) = -3.093593\t\n",
       "at iter 10110 J(x) = -3.093753\t\n",
       "at iter 10120 J(x) = -3.093913\t\n",
       "at iter 10130 J(x) = -3.094072\t\n",
       "at iter 10140 J(x) = -3.094231\t\n",
       "at iter 10150 J(x) = -3.094389\t\n",
       "at iter 10160 J(x) = -3.094546\t\n",
       "at iter 10170 J(x) = -3.094703\t\n",
       "at iter 10180 J(x) = -3.094859\t\n",
       "at iter 10190 J(x) = -3.095015\t\n",
       "at iter 10200 J(x) = -3.095170\t\n",
       "at iter 10210 J(x) = -3.095325\t\n",
       "at iter 10220 J(x) = -3.095479\t\n"
      ]
     },
     "execution_count": 27,
     "metadata": {},
     "output_type": "execute_result"
    },
    {
     "data": {
      "text/plain": [
       "at iter 10230 J(x) = -3.095632\t\n",
       "at iter 10240 J(x) = -3.095785\t\n",
       "at iter 10250 J(x) = -3.095937\t\n",
       "at iter 10260 J(x) = -3.096089\t\n",
       "at iter 10270 J(x) = -3.096240\t\n",
       "at iter 10280 J(x) = -3.096391\t\n",
       "at iter 10290 J(x) = -3.096541\t\n",
       "at iter 10300 J(x) = -3.096690\t\n",
       "at iter 10310 J(x) = -3.096839\t\n",
       "at iter 10320 J(x) = -3.096988\t\n",
       "at iter 10330 J(x) = -3.097135\t\n",
       "at iter 10340 J(x) = -3.097283\t\n",
       "at iter 10350 J(x) = -3.097429\t\n",
       "at iter 10360 J(x) = -3.097576\t\n",
       "at iter 10370 J(x) = -3.097721\t\n",
       "at iter 10380 J(x) = -3.097866\t\n"
      ]
     },
     "execution_count": 27,
     "metadata": {},
     "output_type": "execute_result"
    },
    {
     "data": {
      "text/plain": [
       "at iter 10390 J(x) = -3.098011\t\n",
       "at iter 10400 J(x) = -3.098155\t\n",
       "at iter 10410 J(x) = -3.098298\t\n",
       "at iter 10420 J(x) = -3.098441\t\n",
       "at iter 10430 J(x) = -3.098584\t\n",
       "at iter 10440 J(x) = -3.098726\t\n",
       "at iter 10450 J(x) = -3.098867\t\n",
       "at iter 10460 J(x) = -3.099008\t\n",
       "at iter 10470 J(x) = -3.099148\t\n",
       "at iter 10480 J(x) = -3.099288\t\n",
       "at iter 10490 J(x) = -3.099427\t\n",
       "at iter 10500 J(x) = -3.099566\t\n",
       "at iter 10510 J(x) = -3.099704\t\n",
       "at iter 10520 J(x) = -3.099842\t\n",
       "at iter 10530 J(x) = -3.099979\t\n",
       "at iter 10540 J(x) = -3.100116\t\n"
      ]
     },
     "execution_count": 27,
     "metadata": {},
     "output_type": "execute_result"
    },
    {
     "data": {
      "text/plain": [
       "at iter 10550 J(x) = -3.100252\t\n",
       "at iter 10560 J(x) = -3.100388\t\n",
       "at iter 10570 J(x) = -3.100523\t\n",
       "at iter 10580 J(x) = -3.100658\t\n",
       "at iter 10590 J(x) = -3.100792\t\n",
       "at iter 10600 J(x) = -3.100926\t\n",
       "at iter 10610 J(x) = -3.101059\t\n",
       "at iter 10620 J(x) = -3.101192\t\n",
       "at iter 10630 J(x) = -3.101324\t\n",
       "at iter 10640 J(x) = -3.101456\t\n",
       "at iter 10650 J(x) = -3.101587\t\n",
       "at iter 10660 J(x) = -3.101718\t\n",
       "at iter 10670 J(x) = -3.101848\t\n",
       "at iter 10680 J(x) = -3.101978\t\n",
       "at iter 10690 J(x) = -3.102107\t\n",
       "at iter 10700 J(x) = -3.102236\t\n"
      ]
     },
     "execution_count": 27,
     "metadata": {},
     "output_type": "execute_result"
    },
    {
     "data": {
      "text/plain": [
       "at iter 10710 J(x) = -3.102364\t\n",
       "at iter 10720 J(x) = -3.102492\t\n",
       "at iter 10730 J(x) = -3.102620\t\n",
       "at iter 10740 J(x) = -3.102747\t\n",
       "at iter 10750 J(x) = -3.102873\t\n",
       "at iter 10760 J(x) = -3.102999\t\n",
       "at iter 10770 J(x) = -3.103125\t\n",
       "at iter 10780 J(x) = -3.103250\t\n",
       "at iter 10790 J(x) = -3.103374\t\n",
       "at iter 10800 J(x) = -3.103498\t\n",
       "at iter 10810 J(x) = -3.103622\t\n",
       "at iter 10820 J(x) = -3.103745\t\n",
       "at iter 10830 J(x) = -3.103868\t\n",
       "at iter 10840 J(x) = -3.103990\t\n",
       "at iter 10850 J(x) = -3.104112\t\n",
       "at iter 10860 J(x) = -3.104234\t\n"
      ]
     },
     "execution_count": 27,
     "metadata": {},
     "output_type": "execute_result"
    },
    {
     "data": {
      "text/plain": [
       "at iter 10870 J(x) = -3.104354\t\n",
       "at iter 10880 J(x) = -3.104475\t\n",
       "at iter 10890 J(x) = -3.104595\t\n",
       "at iter 10900 J(x) = -3.104715\t\n",
       "at iter 10910 J(x) = -3.104834\t\n",
       "at iter 10920 J(x) = -3.104952\t\n",
       "at iter 10930 J(x) = -3.105071\t\n",
       "at iter 10940 J(x) = -3.105189\t\n",
       "at iter 10950 J(x) = -3.105306\t\n",
       "at iter 10960 J(x) = -3.105423\t\n",
       "at iter 10970 J(x) = -3.105540\t\n",
       "at iter 10980 J(x) = -3.105656\t\n",
       "at iter 10990 J(x) = -3.105771\t\n",
       "at iter 11000 J(x) = -3.105887\t\n",
       "at iter 11010 J(x) = -3.106001\t\n",
       "at iter 11020 J(x) = -3.106116\t\n"
      ]
     },
     "execution_count": 27,
     "metadata": {},
     "output_type": "execute_result"
    },
    {
     "data": {
      "text/plain": [
       "at iter 11030 J(x) = -3.106230\t\n",
       "at iter 11040 J(x) = -3.106343\t\n",
       "at iter 11050 J(x) = -3.106456\t\n",
       "at iter 11060 J(x) = -3.106569\t\n",
       "at iter 11070 J(x) = -3.106681\t\n",
       "at iter 11080 J(x) = -3.106793\t\n",
       "at iter 11090 J(x) = -3.106905\t\n",
       "at iter 11100 J(x) = -3.107016\t\n",
       "at iter 11110 J(x) = -3.107126\t\n",
       "at iter 11120 J(x) = -3.107237\t\n",
       "at iter 11130 J(x) = -3.107346\t\n",
       "at iter 11140 J(x) = -3.107456\t\n",
       "at iter 11150 J(x) = -3.107565\t\n",
       "at iter 11160 J(x) = -3.107673\t\n",
       "at iter 11170 J(x) = -3.107782\t\n"
      ]
     },
     "execution_count": 27,
     "metadata": {},
     "output_type": "execute_result"
    },
    {
     "data": {
      "text/plain": [
       "at iter 11180 J(x) = -3.107889\t\n",
       "at iter 11190 J(x) = -3.107997\t\n",
       "at iter 11200 J(x) = -3.108104\t\n",
       "at iter 11210 J(x) = -3.108210\t\n",
       "at iter 11220 J(x) = -3.108316\t\n",
       "at iter 11230 J(x) = -3.108422\t\n",
       "at iter 11240 J(x) = -3.108528\t\n",
       "at iter 11250 J(x) = -3.108633\t\n",
       "at iter 11260 J(x) = -3.108737\t\n",
       "at iter 11270 J(x) = -3.108842\t\n",
       "at iter 11280 J(x) = -3.108945\t\n",
       "at iter 11290 J(x) = -3.109049\t\n",
       "at iter 11300 J(x) = -3.109152\t\n",
       "at iter 11310 J(x) = -3.109255\t\n",
       "at iter 11320 J(x) = -3.109357\t\n",
       "at iter 11330 J(x) = -3.109459\t\n",
       "at iter 11340 J(x) = -3.109561\t\n",
       "at iter 11350 J(x) = -3.109662\t\n"
      ]
     },
     "execution_count": 27,
     "metadata": {},
     "output_type": "execute_result"
    },
    {
     "data": {
      "text/plain": [
       "at iter 11360 J(x) = -3.109763\t\n",
       "at iter 11370 J(x) = -3.109863\t\n",
       "at iter 11380 J(x) = -3.109963\t\n",
       "at iter 11390 J(x) = -3.110063\t\n",
       "at iter 11400 J(x) = -3.110162\t\n",
       "at iter 11410 J(x) = -3.110261\t\n",
       "at iter 11420 J(x) = -3.110360\t\n",
       "at iter 11430 J(x) = -3.110458\t\n",
       "at iter 11440 J(x) = -3.110556\t\n",
       "at iter 11450 J(x) = -3.110653\t\n",
       "at iter 11460 J(x) = -3.110750\t\n"
      ]
     },
     "execution_count": 27,
     "metadata": {},
     "output_type": "execute_result"
    },
    {
     "data": {
      "text/plain": [
       "at iter 11470 J(x) = -3.110847\t\n",
       "at iter 11480 J(x) = -3.110943\t\n"
      ]
     },
     "execution_count": 27,
     "metadata": {},
     "output_type": "execute_result"
    },
    {
     "data": {
      "text/plain": [
       "at iter 11490 J(x) = -3.111040\t\n",
       "at iter 11500 J(x) = -3.111135\t\n",
       "at iter 11510 J(x) = -3.111231\t\n"
      ]
     },
     "execution_count": 27,
     "metadata": {},
     "output_type": "execute_result"
    },
    {
     "data": {
      "text/plain": [
       "at iter 11520 J(x) = -3.111326\t\n",
       "at iter 11530 J(x) = -3.111420\t\n",
       "at iter 11540 J(x) = -3.111515\t"
      ]
     },
     "execution_count": 27,
     "metadata": {},
     "output_type": "execute_result"
    },
    {
     "data": {
      "text/plain": [
       "\n",
       "at iter 11550 J(x) = -3.111608\t\n",
       "at iter 11560 J(x) = -3.111702\t\n"
      ]
     },
     "execution_count": 27,
     "metadata": {},
     "output_type": "execute_result"
    },
    {
     "data": {
      "text/plain": [
       "at iter 11570 J(x) = -3.111795\t\n",
       "at iter 11580 J(x) = -3.111888\t\n",
       "at iter 11590 J(x) = -3.111981\t\n"
      ]
     },
     "execution_count": 27,
     "metadata": {},
     "output_type": "execute_result"
    },
    {
     "data": {
      "text/plain": [
       "at iter 11600 J(x) = -3.112073\t\n",
       "at iter 11610 J(x) = -3.112165\t\n"
      ]
     },
     "execution_count": 27,
     "metadata": {},
     "output_type": "execute_result"
    },
    {
     "data": {
      "text/plain": [
       "at iter 11620 J(x) = -3.112256\t\n",
       "at iter 11630 J(x) = -3.112348\t\n",
       "at iter 11640 J(x) = -3.112438\t\n"
      ]
     },
     "execution_count": 27,
     "metadata": {},
     "output_type": "execute_result"
    },
    {
     "data": {
      "text/plain": [
       "at iter 11650 J(x) = -3.112529\t\n",
       "at iter 11660 J(x) = -3.112619\t\n"
      ]
     },
     "execution_count": 27,
     "metadata": {},
     "output_type": "execute_result"
    },
    {
     "data": {
      "text/plain": [
       "at iter 11670 J(x) = -3.112709\t\n",
       "at iter 11680 J(x) = -3.112798\t\n",
       "at iter 11690 J(x) = -3.112888\t\n"
      ]
     },
     "execution_count": 27,
     "metadata": {},
     "output_type": "execute_result"
    },
    {
     "data": {
      "text/plain": [
       "at iter 11700 J(x) = -3.112976\t\n",
       "at iter 11710 J(x) = -3.113065\t\n",
       "at iter 11720 J(x) = -3.113153\t\n"
      ]
     },
     "execution_count": 27,
     "metadata": {},
     "output_type": "execute_result"
    },
    {
     "data": {
      "text/plain": [
       "at iter 11730 J(x) = -3.113241\t\n",
       "at iter 11740 J(x) = -3.113329\t\n",
       "at iter 11750 J(x) = -3.113416\t\n",
       "at iter 11760 J(x) = -3.113503\t\n",
       "at iter 11770 J(x) = -3.113589\t\n"
      ]
     },
     "execution_count": 27,
     "metadata": {},
     "output_type": "execute_result"
    },
    {
     "data": {
      "text/plain": [
       "at iter 11780 J(x) = -3.113676\t\n",
       "at iter 11790 J(x) = -3.113761\t\n",
       "at iter 11800 J(x) = -3.113847\t\n"
      ]
     },
     "execution_count": 27,
     "metadata": {},
     "output_type": "execute_result"
    },
    {
     "data": {
      "text/plain": [
       "at iter 11810 J(x) = -3.113932\t\n",
       "at iter 11820 J(x) = -3.114017\t\n",
       "at iter 11830 J(x) = -3.114102\t\n",
       "at iter 11840 J(x) = -3.114186\t\n"
      ]
     },
     "execution_count": 27,
     "metadata": {},
     "output_type": "execute_result"
    },
    {
     "data": {
      "text/plain": [
       "at iter 11850 J(x) = -3.114270\t\n",
       "at iter 11860 J(x) = -3.114354\t\n",
       "at iter 11870 J(x) = -3.114437\t\n",
       "at iter 11880 J(x) = -3.114521\t\n",
       "at iter 11890 J(x) = -3.114603\t\n",
       "at iter 11900 J(x) = -3.114686\t\n",
       "at iter 11910 J(x) = -3.114768\t\n",
       "at iter 11920 J(x) = -3.114850\t\n",
       "at iter 11930 J(x) = -3.114931\t\n",
       "at iter 11940 J(x) = -3.115013\t\n",
       "at iter 11950 J(x) = -3.115094\t\n",
       "at iter 11960 J(x) = -3.115174\t\n",
       "at iter 11970 J(x) = -3.115255\t\n",
       "at iter 11980 J(x) = -3.115335\t\n",
       "at iter 11990 J(x) = -3.115415\t\n",
       "at iter 12000 J(x) = -3.115494\t\n",
       "at iter 12010 J(x) = -3.115573\t\n",
       "at iter 12020 J(x) = -3.115652\t\n",
       "at iter 12030 J(x) = -3.115731\t\n",
       "at iter 12040 J(x) = -3.115809\t\n",
       "at iter 12050 J(x) = -3.115887\t\n"
      ]
     },
     "execution_count": 27,
     "metadata": {},
     "output_type": "execute_result"
    },
    {
     "data": {
      "text/plain": [
       "at iter 12060 J(x) = -3.115965\t\n",
       "at iter 12070 J(x) = -3.116042\t\n",
       "at iter 12080 J(x) = -3.116119\t\n",
       "at iter 12090 J(x) = -3.116196\t\n",
       "at iter 12100 J(x) = -3.116273\t\n",
       "at iter 12110 J(x) = -3.116349\t\n",
       "at iter 12120 J(x) = -3.116425\t\n",
       "at iter 12130 J(x) = -3.116501\t\n",
       "at iter 12140 J(x) = -3.116576\t\n",
       "at iter 12150 J(x) = -3.116651\t\n",
       "at iter 12160 J(x) = -3.116726\t\n",
       "at iter 12170 J(x) = -3.116801\t\n",
       "at iter 12180 J(x) = -3.116875\t\n",
       "at iter 12190 J(x) = -3.116949\t\n",
       "at iter 12200 J(x) = -3.117023\t\n",
       "at iter 12210 J(x) = -3.117097\t\n",
       "at iter 12220 J(x) = -3.117170\t\n",
       "at iter 12230 J(x) = -3.117243\t\n",
       "at iter 12240 J(x) = -3.117315\t\n",
       "at iter 12250 J(x) = -3.117388\t\n",
       "at iter 12260 J(x) = -3.117460\t\n"
      ]
     },
     "execution_count": 27,
     "metadata": {},
     "output_type": "execute_result"
    },
    {
     "data": {
      "text/plain": [
       "at iter 12270 J(x) = -3.117532\t\n",
       "at iter 12280 J(x) = -3.117604\t\n",
       "at iter 12290 J(x) = -3.117675\t\n",
       "at iter 12300 J(x) = -3.117746\t\n",
       "at iter 12310 J(x) = -3.117817\t\n",
       "at iter 12320 J(x) = -3.117887\t\n",
       "at iter 12330 J(x) = -3.117958\t\n",
       "at iter 12340 J(x) = -3.118028\t\n",
       "at iter 12350 J(x) = -3.118098\t\n",
       "at iter 12360 J(x) = -3.118167\t\n",
       "at iter 12370 J(x) = -3.118236\t\n",
       "at iter 12380 J(x) = -3.118305\t\n",
       "at iter 12390 J(x) = -3.118374\t\n",
       "at iter 12400 J(x) = -3.118443\t\n",
       "at iter 12410 J(x) = -3.118511\t\n",
       "at iter 12420 J(x) = -3.118579\t\n",
       "at iter 12430 J(x) = -3.118647\t\n",
       "at iter 12440 J(x) = -3.118714\t\n",
       "at iter 12450 J(x) = -3.118781\t\n",
       "at iter 12460 J(x) = -3.118848\t\n",
       "at iter 12470 J(x) = -3.118915\t\n",
       "at iter 12480 J(x) = -3.118982\t\n"
      ]
     },
     "execution_count": 27,
     "metadata": {},
     "output_type": "execute_result"
    },
    {
     "data": {
      "text/plain": [
       "at iter 12490 J(x) = -3.119048\t\n",
       "at iter 12500 J(x) = -3.119114\t\n",
       "at iter 12510 J(x) = -3.119180\t\n",
       "at iter 12520 J(x) = -3.119245\t\n",
       "at iter 12530 J(x) = -3.119310\t\n",
       "at iter 12540 J(x) = -3.119375\t\n",
       "at iter 12550 J(x) = -3.119440\t\n",
       "at iter 12560 J(x) = -3.119505\t\n",
       "at iter 12570 J(x) = -3.119569\t\n",
       "at iter 12580 J(x) = -3.119633\t\n",
       "at iter 12590 J(x) = -3.119697\t\n",
       "at iter 12600 J(x) = -3.119760\t\n",
       "at iter 12610 J(x) = -3.119824\t\n",
       "at iter 12620 J(x) = -3.119887\t\n",
       "at iter 12630 J(x) = -3.119950\t\n",
       "at iter 12640 J(x) = -3.120013\t\n",
       "at iter 12650 J(x) = -3.120075\t\n",
       "at iter 12660 J(x) = -3.120137\t\n",
       "at iter 12670 J(x) = -3.120199\t\n",
       "at iter 12680 J(x) = -3.120261\t\n",
       "at iter 12690 J(x) = -3.120322\t\n"
      ]
     },
     "execution_count": 27,
     "metadata": {},
     "output_type": "execute_result"
    },
    {
     "data": {
      "text/plain": [
       "at iter 12700 J(x) = -3.120384\t\n",
       "at iter 12710 J(x) = -3.120445\t\n",
       "at iter 12720 J(x) = -3.120505\t\n",
       "at iter 12730 J(x) = -3.120566\t\n",
       "at iter 12740 J(x) = -3.120626\t\n",
       "at iter 12750 J(x) = -3.120687\t\n",
       "at iter 12760 J(x) = -3.120746\t\n",
       "at iter 12770 J(x) = -3.120806\t\n",
       "at iter 12780 J(x) = -3.120866\t\n",
       "at iter 12790 J(x) = -3.120925\t\n",
       "at iter 12800 J(x) = -3.120984\t\n",
       "at iter 12810 J(x) = -3.121043\t\n",
       "at iter 12820 J(x) = -3.121101\t\n",
       "at iter 12830 J(x) = -3.121160\t\n",
       "at iter 12840 J(x) = -3.121218\t\n",
       "at iter 12850 J(x) = -3.121276\t\n",
       "at iter 12860 J(x) = -3.121334\t\n",
       "at iter 12870 J(x) = -3.121391\t\n",
       "at iter 12880 J(x) = -3.121448\t\n",
       "at iter 12890 J(x) = -3.121506\t\n",
       "at iter 12900 J(x) = -3.121562\t\n"
      ]
     },
     "execution_count": 27,
     "metadata": {},
     "output_type": "execute_result"
    },
    {
     "data": {
      "text/plain": [
       "at iter 12910 J(x) = -3.121619\t\n",
       "at iter 12920 J(x) = -3.121676\t\n",
       "at iter 12930 J(x) = -3.121732\t\n",
       "at iter 12940 J(x) = -3.121788\t\n",
       "at iter 12950 J(x) = -3.121844\t\n",
       "at iter 12960 J(x) = -3.121899\t\n",
       "at iter 12970 J(x) = -3.121955\t\n",
       "at iter 12980 J(x) = -3.122010\t\n",
       "at iter 12990 J(x) = -3.122065\t\n",
       "at iter 13000 J(x) = -3.122120\t\n",
       "at iter 13010 J(x) = -3.122174\t\n",
       "at iter 13020 J(x) = -3.122229\t\n",
       "at iter 13030 J(x) = -3.122283\t\n",
       "at iter 13040 J(x) = -3.122337\t\n",
       "at iter 13050 J(x) = -3.122391\t\n",
       "at iter 13060 J(x) = -3.122444\t\n",
       "at iter 13070 J(x) = -3.122498\t\n",
       "at iter 13080 J(x) = -3.122551\t\n",
       "at iter 13090 J(x) = -3.122604\t\n",
       "at iter 13100 J(x) = -3.122657\t\n",
       "at iter 13110 J(x) = -3.122709\t\n",
       "at iter 13120 J(x) = -3.122762\t\n",
       "at iter 13130 J(x) = -3.122814\t\n"
      ]
     },
     "execution_count": 27,
     "metadata": {},
     "output_type": "execute_result"
    },
    {
     "data": {
      "text/plain": [
       "at iter 13140 J(x) = -3.122866\t\n",
       "at iter 13150 J(x) = -3.122918\t\n",
       "at iter 13160 J(x) = -3.122970\t\n",
       "at iter 13170 J(x) = -3.123021\t\n",
       "at iter 13180 J(x) = -3.123072\t\n",
       "at iter 13190 J(x) = -3.123123\t\n",
       "at iter 13200 J(x) = -3.123174\t\n",
       "at iter 13210 J(x) = -3.123225\t\n",
       "at iter 13220 J(x) = -3.123276\t\n",
       "at iter 13230 J(x) = -3.123326\t\n",
       "at iter 13240 J(x) = -3.123376\t\n",
       "at iter 13250 J(x) = -3.123426\t\n",
       "at iter 13260 J(x) = -3.123476\t\n",
       "at iter 13270 J(x) = -3.123525\t\n",
       "at iter 13280 J(x) = -3.123575\t\n",
       "at iter 13290 J(x) = -3.123624\t\n",
       "at iter 13300 J(x) = -3.123673\t\n",
       "at iter 13310 J(x) = -3.123722\t\n",
       "at iter 13320 J(x) = -3.123770\t\n",
       "at iter 13330 J(x) = -3.123819\t\n",
       "at iter 13340 J(x) = -3.123867\t\n"
      ]
     },
     "execution_count": 27,
     "metadata": {},
     "output_type": "execute_result"
    },
    {
     "data": {
      "text/plain": [
       "at iter 13350 J(x) = -3.123915\t\n",
       "at iter 13360 J(x) = -3.123963\t\n",
       "at iter 13370 J(x) = -3.124011\t\n",
       "at iter 13380 J(x) = -3.124059\t\n",
       "at iter 13390 J(x) = -3.124106\t\n",
       "at iter 13400 J(x) = -3.124153\t\n",
       "at iter 13410 J(x) = -3.124200\t\n",
       "at iter 13420 J(x) = -3.124247\t\n",
       "at iter 13430 J(x) = -3.124294\t\n",
       "at iter 13440 J(x) = -3.124340\t\n",
       "at iter 13450 J(x) = -3.124387\t\n",
       "at iter 13460 J(x) = -3.124433\t\n",
       "at iter 13470 J(x) = -3.124479\t\n",
       "at iter 13480 J(x) = -3.124525\t\n",
       "at iter 13490 J(x) = -3.124571\t\n",
       "at iter 13500 J(x) = -3.124616\t\n",
       "at iter 13510 J(x) = -3.124661\t\n",
       "at iter 13520 J(x) = -3.124707\t\n",
       "at iter 13530 J(x) = -3.124752\t\n",
       "at iter 13540 J(x) = -3.124797\t\n",
       "at iter 13550 J(x) = -3.124841\t\n",
       "at iter 13560 J(x) = -3.124886\t\n"
      ]
     },
     "execution_count": 27,
     "metadata": {},
     "output_type": "execute_result"
    },
    {
     "data": {
      "text/plain": [
       "at iter 13570 J(x) = -3.124930\t\n",
       "at iter 13580 J(x) = -3.124974\t\n",
       "at iter 13590 J(x) = -3.125018\t\n",
       "at iter 13600 J(x) = -3.125062\t\n",
       "at iter 13610 J(x) = -3.125106\t\n",
       "at iter 13620 J(x) = -3.125149\t\n",
       "at iter 13630 J(x) = -3.125193\t\n",
       "at iter 13640 J(x) = -3.125236\t\n",
       "at iter 13650 J(x) = -3.125279\t\n",
       "at iter 13660 J(x) = -3.125322\t\n",
       "at iter 13670 J(x) = -3.125365\t\n",
       "at iter 13680 J(x) = -3.125407\t\n",
       "at iter 13690 J(x) = -3.125450\t\n",
       "at iter 13700 J(x) = -3.125492\t\n",
       "at iter 13710 J(x) = -3.125534\t\n",
       "at iter 13720 J(x) = -3.125576\t\n",
       "at iter 13730 J(x) = -3.125618\t\n",
       "at iter 13740 J(x) = -3.125659\t\n",
       "at iter 13750 J(x) = -3.125701\t\n",
       "at iter 13760 J(x) = -3.125742\t\n",
       "at iter 13770 J(x) = -3.125783\t\n",
       "at iter 13780 J(x) = -3.125824\t"
      ]
     },
     "execution_count": 27,
     "metadata": {},
     "output_type": "execute_result"
    },
    {
     "data": {
      "text/plain": [
       "\n",
       "at iter 13790 J(x) = -3.125865\t\n",
       "at iter 13800 J(x) = -3.125906\t\n",
       "at iter 13810 J(x) = -3.125946\t\n",
       "at iter 13820 J(x) = -3.125987\t\n",
       "at iter 13830 J(x) = -3.126027\t\n",
       "at iter 13840 J(x) = -3.126067\t\n",
       "at iter 13850 J(x) = -3.126107\t\n",
       "at iter 13860 J(x) = -3.126147\t\n",
       "at iter 13870 J(x) = -3.126187\t\n",
       "at iter 13880 J(x) = -3.126226\t\n",
       "at iter 13890 J(x) = -3.126266\t\n",
       "at iter 13900 J(x) = -3.126305\t\n",
       "at iter 13910 J(x) = -3.126344\t\n",
       "at iter 13920 J(x) = -3.126383\t\n",
       "at iter 13930 J(x) = -3.126422\t\n",
       "at iter 13940 J(x) = -3.126460\t\n",
       "at iter 13950 J(x) = -3.126499\t\n",
       "at iter 13960 J(x) = -3.126537\t\n",
       "at iter 13970 J(x) = -3.126575\t\n",
       "at iter 13980 J(x) = -3.126613\t\n",
       "at iter 13990 J(x) = -3.126651\t\n"
      ]
     },
     "execution_count": 27,
     "metadata": {},
     "output_type": "execute_result"
    },
    {
     "data": {
      "text/plain": [
       "at iter 14000 J(x) = -3.126689\t\n",
       "at iter 14010 J(x) = -3.126727\t\n",
       "at iter 14020 J(x) = -3.126764\t\n",
       "at iter 14030 J(x) = -3.126802\t\n",
       "at iter 14040 J(x) = -3.126839\t\n",
       "at iter 14050 J(x) = -3.126876\t\n",
       "at iter 14060 J(x) = -3.126913\t\n",
       "at iter 14070 J(x) = -3.126950\t\n",
       "at iter 14080 J(x) = -3.126987\t\n",
       "at iter 14090 J(x) = -3.127023\t\n",
       "at iter 14100 J(x) = -3.127060\t\n",
       "at iter 14110 J(x) = -3.127096\t\n",
       "at iter 14120 J(x) = -3.127132\t\n",
       "at iter 14130 J(x) = -3.127168\t\n",
       "at iter 14140 J(x) = -3.127204\t\n",
       "at iter 14150 J(x) = -3.127240\t\n",
       "at iter 14160 J(x) = -3.127275\t\n",
       "at iter 14170 J(x) = -3.127311\t\n",
       "at iter 14180 J(x) = -3.127346\t\n",
       "at iter 14190 J(x) = -3.127381\t\n",
       "at iter 14200 J(x) = -3.127416\t\n",
       "at iter 14210 J(x) = -3.127451\t\n"
      ]
     },
     "execution_count": 27,
     "metadata": {},
     "output_type": "execute_result"
    },
    {
     "data": {
      "text/plain": [
       "at iter 14220 J(x) = -3.127486\t\n",
       "at iter 14230 J(x) = -3.127521\t\n",
       "at iter 14240 J(x) = -3.127556\t\n",
       "at iter 14250 J(x) = -3.127590\t\n",
       "at iter 14260 J(x) = -3.127624\t\n",
       "at iter 14270 J(x) = -3.127658\t\n",
       "at iter 14280 J(x) = -3.127693\t\n",
       "at iter 14290 J(x) = -3.127726\t\n",
       "at iter 14300 J(x) = -3.127760\t\n",
       "at iter 14310 J(x) = -3.127794\t\n",
       "at iter 14320 J(x) = -3.127828\t\n",
       "at iter 14330 J(x) = -3.127861\t\n",
       "at iter 14340 J(x) = -3.127894\t\n",
       "at iter 14350 J(x) = -3.127927\t\n",
       "at iter 14360 J(x) = -3.127961\t\n",
       "at iter 14370 J(x) = -3.127994\t\n",
       "at iter 14380 J(x) = -3.128026\t\n",
       "at iter 14390 J(x) = -3.128059\t\n",
       "at iter 14400 J(x) = -3.128092\t\n",
       "at iter 14410 J(x) = -3.128124\t\n",
       "at iter 14420 J(x) = -3.128156\t\n"
      ]
     },
     "execution_count": 27,
     "metadata": {},
     "output_type": "execute_result"
    },
    {
     "data": {
      "text/plain": [
       "at iter 14430 J(x) = -3.128189\t\n",
       "at iter 14440 J(x) = -3.128221\t\n",
       "at iter 14450 J(x) = -3.128253\t\n",
       "at iter 14460 J(x) = -3.128285\t\n",
       "at iter 14470 J(x) = -3.128316\t\n",
       "at iter 14480 J(x) = -3.128348\t\n",
       "at iter 14490 J(x) = -3.128379\t\n",
       "at iter 14500 J(x) = -3.128411\t\n",
       "at iter 14510 J(x) = -3.128442\t\n",
       "at iter 14520 J(x) = -3.128473\t\n",
       "at iter 14530 J(x) = -3.128504\t\n",
       "at iter 14540 J(x) = -3.128535\t\n",
       "at iter 14550 J(x) = -3.128566\t\n",
       "at iter 14560 J(x) = -3.128597\t\n",
       "at iter 14570 J(x) = -3.128627\t\n",
       "at iter 14580 J(x) = -3.128658\t\n",
       "at iter 14590 J(x) = -3.128688\t\n",
       "at iter 14600 J(x) = -3.128718\t\n",
       "at iter 14610 J(x) = -3.128749\t\n",
       "at iter 14620 J(x) = -3.128779\t\n",
       "at iter 14630 J(x) = -3.128808\t\n",
       "at iter 14640 J(x) = -3.128838\t\n"
      ]
     },
     "execution_count": 27,
     "metadata": {},
     "output_type": "execute_result"
    },
    {
     "data": {
      "text/plain": [
       "at iter 14650 J(x) = -3.128868\t\n",
       "at iter 14660 J(x) = -3.128898\t\n",
       "at iter 14670 J(x) = -3.128927\t\n",
       "at iter 14680 J(x) = -3.128956\t\n",
       "at iter 14690 J(x) = -3.128986\t\n",
       "at iter 14700 J(x) = -3.129015\t\n",
       "at iter 14710 J(x) = -3.129044\t\n",
       "at iter 14720 J(x) = -3.129073\t\n",
       "at iter 14730 J(x) = -3.129102\t\n",
       "at iter 14740 J(x) = -3.129130\t\n",
       "at iter 14750 J(x) = -3.129159\t\n",
       "at iter 14760 J(x) = -3.129187\t\n",
       "at iter 14770 J(x) = -3.129216\t\n",
       "at iter 14780 J(x) = -3.129244\t\n",
       "at iter 14790 J(x) = -3.129272\t\n",
       "at iter 14800 J(x) = -3.129300\t\n",
       "at iter 14810 J(x) = -3.129328\t\n",
       "at iter 14820 J(x) = -3.129356\t\n",
       "at iter 14830 J(x) = -3.129384\t\n"
      ]
     },
     "execution_count": 27,
     "metadata": {},
     "output_type": "execute_result"
    },
    {
     "data": {
      "text/plain": [
       "at iter 14840 J(x) = -3.129412\t\n",
       "at iter 14850 J(x) = -3.129439\t\n",
       "at iter 14860 J(x) = -3.129467\t\n",
       "at iter 14870 J(x) = -3.129494\t\n",
       "at iter 14880 J(x) = -3.129521\t\n",
       "at iter 14890 J(x) = -3.129548\t\n",
       "at iter 14900 J(x) = -3.129575\t\n",
       "at iter 14910 J(x) = -3.129602\t\n",
       "at iter 14920 J(x) = -3.129629\t\n",
       "at iter 14930 J(x) = -3.129656\t\n",
       "at iter 14940 J(x) = -3.129683\t\n",
       "at iter 14950 J(x) = -3.129709\t\n",
       "at iter 14960 J(x) = -3.129736\t\n",
       "at iter 14970 J(x) = -3.129762\t\n",
       "at iter 14980 J(x) = -3.129788\t\n",
       "at iter 14990 J(x) = -3.129814\t\n",
       "at iter 15000 J(x) = -3.129841\t\n",
       "at iter 15010 J(x) = -3.129866\t\n",
       "at iter 15020 J(x) = -3.129892\t\n",
       "at iter 15030 J(x) = -3.129918\t\n"
      ]
     },
     "execution_count": 27,
     "metadata": {},
     "output_type": "execute_result"
    },
    {
     "data": {
      "text/plain": [
       "at iter 15040 J(x) = -3.129944\t\n",
       "at iter 15050 J(x) = -3.129969\t\n",
       "at iter 15060 J(x) = -3.129995\t\n",
       "at iter 15070 J(x) = -3.130020\t\n",
       "at iter 15080 J(x) = -3.130046\t\n",
       "at iter 15090 J(x) = -3.130071\t\n",
       "at iter 15100 J(x) = -3.130096\t\n",
       "at iter 15110 J(x) = -3.130121\t\n",
       "at iter 15120 J(x) = -3.130146\t\n",
       "at iter 15130 J(x) = -3.130171\t\n",
       "at iter 15140 J(x) = -3.130195\t\n",
       "at iter 15150 J(x) = -3.130220\t\n",
       "at iter 15160 J(x) = -3.130245\t\n",
       "at iter 15170 J(x) = -3.130269\t\n",
       "at iter 15180 J(x) = -3.130294\t\n",
       "at iter 15190 J(x) = -3.130318\t\n",
       "at iter 15200 J(x) = -3.130342\t\n",
       "at iter 15210 J(x) = -3.130366\t\n",
       "at iter 15220 J(x) = -3.130390\t\n",
       "at iter 15230 J(x) = -3.130414\t\n"
      ]
     },
     "execution_count": 27,
     "metadata": {},
     "output_type": "execute_result"
    },
    {
     "data": {
      "text/plain": [
       "at iter 15240 J(x) = -3.130438\t\n",
       "at iter 15250 J(x) = -3.130462\t\n",
       "at iter 15260 J(x) = -3.130485\t\n",
       "at iter 15270 J(x) = -3.130509\t\n",
       "at iter 15280 J(x) = -3.130532\t\n",
       "at iter 15290 J(x) = -3.130556\t\n",
       "at iter 15300 J(x) = -3.130579\t\n",
       "at iter 15310 J(x) = -3.130602\t\n",
       "at iter 15320 J(x) = -3.130626\t\n",
       "at iter 15330 J(x) = -3.130649\t\n",
       "at iter 15340 J(x) = -3.130672\t\n",
       "at iter 15350 J(x) = -3.130694\t\n",
       "at iter 15360 J(x) = -3.130717\t\n",
       "at iter 15370 J(x) = -3.130740\t\n",
       "at iter 15380 J(x) = -3.130763\t\n",
       "at iter 15390 J(x) = -3.130785\t\n",
       "at iter 15400 J(x) = -3.130808\t\n",
       "at iter 15410 J(x) = -3.130830\t\n",
       "at iter 15420 J(x) = -3.130852\t\n",
       "at iter 15430 J(x) = -3.130875\t\n"
      ]
     },
     "execution_count": 27,
     "metadata": {},
     "output_type": "execute_result"
    },
    {
     "data": {
      "text/plain": [
       "at iter 15440 J(x) = -3.130897\t\n",
       "at iter 15450 J(x) = -3.130919\t\n",
       "at iter 15460 J(x) = -3.130941\t\n",
       "at iter 15470 J(x) = -3.130963\t\n",
       "at iter 15480 J(x) = -3.130984\t\n",
       "at iter 15490 J(x) = -3.131006\t\n",
       "at iter 15500 J(x) = -3.131028\t\n",
       "at iter 15510 J(x) = -3.131049\t\n",
       "at iter 15520 J(x) = -3.131071\t\n",
       "at iter 15530 J(x) = -3.131092\t\n",
       "at iter 15540 J(x) = -3.131114\t\n",
       "at iter 15550 J(x) = -3.131135\t\n",
       "at iter 15560 J(x) = -3.131156\t\n",
       "at iter 15570 J(x) = -3.131177\t\n",
       "at iter 15580 J(x) = -3.131198\t\n",
       "at iter 15590 J(x) = -3.131219\t\n",
       "at iter 15600 J(x) = -3.131240\t\n",
       "at iter 15610 J(x) = -3.131261\t\n",
       "at iter 15620 J(x) = -3.131281\t\n",
       "at iter 15630 J(x) = -3.131302\t\n",
       "at iter 15640 J(x) = -3.131323\t\n"
      ]
     },
     "execution_count": 27,
     "metadata": {},
     "output_type": "execute_result"
    },
    {
     "data": {
      "text/plain": [
       "at iter 15650 J(x) = -3.131343\t\n",
       "at iter 15660 J(x) = -3.131363\t\n",
       "at iter 15670 J(x) = -3.131384\t\n",
       "at iter 15680 J(x) = -3.131404\t\n",
       "at iter 15690 J(x) = -3.131424\t\n",
       "at iter 15700 J(x) = -3.131444\t\n",
       "at iter 15710 J(x) = -3.131464\t\n",
       "at iter 15720 J(x) = -3.131484\t\n",
       "at iter 15730 J(x) = -3.131504\t\n",
       "at iter 15740 J(x) = -3.131524\t\n",
       "at iter 15750 J(x) = -3.131544\t\n",
       "at iter 15760 J(x) = -3.131563\t\n",
       "at iter 15770 J(x) = -3.131583\t\n",
       "at iter 15780 J(x) = -3.131602\t\n",
       "at iter 15790 J(x) = -3.131622\t\n",
       "at iter 15800 J(x) = -3.131641\t\n",
       "at iter 15810 J(x) = -3.131661\t\n",
       "at iter 15820 J(x) = -3.131680\t\n",
       "at iter 15830 J(x) = -3.131699\t\n",
       "at iter 15840 J(x) = -3.131718\t\n"
      ]
     },
     "execution_count": 27,
     "metadata": {},
     "output_type": "execute_result"
    },
    {
     "data": {
      "text/plain": [
       "at iter 15850 J(x) = -3.131737\t\n",
       "at iter 15860 J(x) = -3.131756\t\n",
       "at iter 15870 J(x) = -3.131775\t\n",
       "at iter 15880 J(x) = -3.131794\t\n",
       "at iter 15890 J(x) = -3.131812\t\n",
       "at iter 15900 J(x) = -3.131831\t\n",
       "at iter 15910 J(x) = -3.131850\t\n",
       "at iter 15920 J(x) = -3.131868\t\n",
       "at iter 15930 J(x) = -3.131887\t\n",
       "at iter 15940 J(x) = -3.131905\t\n",
       "at iter 15950 J(x) = -3.131923\t\n",
       "at iter 15960 J(x) = -3.131941\t\n",
       "at iter 15970 J(x) = -3.131960\t\n"
      ]
     },
     "execution_count": 27,
     "metadata": {},
     "output_type": "execute_result"
    },
    {
     "data": {
      "text/plain": [
       "at iter 15980 J(x) = -3.131978\t\n",
       "at iter 15990 J(x) = -3.131996\t\n",
       "at iter 16000 J(x) = -3.132014\t\n",
       "at iter 16010 J(x) = -3.132032\t\n",
       "at iter 16020 J(x) = -3.132050\t\n",
       "at iter 16030 J(x) = -3.132067\t\n",
       "at iter 16040 J(x) = -3.132085\t\n",
       "at iter 16050 J(x) = -3.132103\t\n",
       "at iter 16060 J(x) = -3.132120\t\n",
       "at iter 16070 J(x) = -3.132138\t\n",
       "at iter 16080 J(x) = -3.132155\t\n",
       "at iter 16090 J(x) = -3.132173\t\n",
       "at iter 16100 J(x) = -3.132190\t\n",
       "at iter 16110 J(x) = -3.132207\t\n",
       "at iter 16120 J(x) = -3.132224\t\n"
      ]
     },
     "execution_count": 27,
     "metadata": {},
     "output_type": "execute_result"
    },
    {
     "data": {
      "text/plain": [
       "at iter 16130 J(x) = -3.132242\t\n",
       "at iter 16140 J(x) = -3.132259\t\n",
       "at iter 16150 J(x) = -3.132276\t\n",
       "at iter 16160 J(x) = -3.132293\t\n",
       "at iter 16170 J(x) = -3.132309\t\n",
       "at iter 16180 J(x) = -3.132326\t\n",
       "at iter 16190 J(x) = -3.132343\t\n",
       "at iter 16200 J(x) = -3.132360\t\n",
       "at iter 16210 J(x) = -3.132376\t\n",
       "at iter 16220 J(x) = -3.132393\t\n",
       "at iter 16230 J(x) = -3.132409\t\n",
       "at iter 16240 J(x) = -3.132426\t\n",
       "at iter 16250 J(x) = -3.132442\t\n",
       "at iter 16260 J(x) = -3.132459\t\n",
       "at iter 16270 J(x) = -3.132475\t\n",
       "at iter 16280 J(x) = -3.132491\t\n"
      ]
     },
     "execution_count": 27,
     "metadata": {},
     "output_type": "execute_result"
    },
    {
     "data": {
      "text/plain": [
       "at iter 16290 J(x) = -3.132507\t\n",
       "at iter 16300 J(x) = -3.132523\t\n",
       "at iter 16310 J(x) = -3.132539\t\n",
       "at iter 16320 J(x) = -3.132555\t\n",
       "at iter 16330 J(x) = -3.132571\t\n",
       "at iter 16340 J(x) = -3.132587\t\n",
       "at iter 16350 J(x) = -3.132603\t\n",
       "at iter 16360 J(x) = -3.132618\t\n",
       "at iter 16370 J(x) = -3.132634\t\n",
       "at iter 16380 J(x) = -3.132650\t\n",
       "at iter 16390 J(x) = -3.132665\t\n",
       "at iter 16400 J(x) = -3.132681\t\n",
       "at iter 16410 J(x) = -3.132696\t\n",
       "at iter 16420 J(x) = -3.132712\t\n",
       "at iter 16430 J(x) = -3.132727\t\n",
       "at iter 16440 J(x) = -3.132742\t\n"
      ]
     },
     "execution_count": 27,
     "metadata": {},
     "output_type": "execute_result"
    },
    {
     "data": {
      "text/plain": [
       "at iter 16450 J(x) = -3.132757\t\n",
       "at iter 16460 J(x) = -3.132773\t\n",
       "at iter 16470 J(x) = -3.132788\t\n",
       "at iter 16480 J(x) = -3.132803\t\n",
       "at iter 16490 J(x) = -3.132818\t\n",
       "at iter 16500 J(x) = -3.132833\t\n",
       "at iter 16510 J(x) = -3.132847\t\n",
       "at iter 16520 J(x) = -3.132862\t\n",
       "at iter 16530 J(x) = -3.132877\t\n",
       "at iter 16540 J(x) = -3.132892\t\n",
       "at iter 16550 J(x) = -3.132906\t\n",
       "at iter 16560 J(x) = -3.132921\t\n",
       "at iter 16570 J(x) = -3.132936\t\n",
       "at iter 16580 J(x) = -3.132950\t\n",
       "at iter 16590 J(x) = -3.132964\t\n",
       "at iter 16600 J(x) = -3.132979\t\n",
       "at iter 16610 J(x) = -3.132993\t\n"
      ]
     },
     "execution_count": 27,
     "metadata": {},
     "output_type": "execute_result"
    },
    {
     "data": {
      "text/plain": [
       "at iter 16620 J(x) = -3.133007\t\n",
       "at iter 16630 J(x) = -3.133022\t\n",
       "at iter 16640 J(x) = -3.133036\t\n",
       "at iter 16650 J(x) = -3.133050\t\n",
       "at iter 16660 J(x) = -3.133064\t\n",
       "at iter 16670 J(x) = -3.133078\t\n",
       "at iter 16680 J(x) = -3.133092\t\n",
       "at iter 16690 J(x) = -3.133106\t\n",
       "at iter 16700 J(x) = -3.133120\t\n",
       "at iter 16710 J(x) = -3.133134\t\n",
       "at iter 16720 J(x) = -3.133147\t\n",
       "at iter 16730 J(x) = -3.133161\t\n",
       "at iter 16740 J(x) = -3.133175\t\n",
       "at iter 16750 J(x) = -3.133188\t\n",
       "at iter 16760 J(x) = -3.133202\t\n",
       "at iter 16770 J(x) = -3.133215\t\n"
      ]
     },
     "execution_count": 27,
     "metadata": {},
     "output_type": "execute_result"
    },
    {
     "data": {
      "text/plain": [
       "at iter 16780 J(x) = -3.133229\t\n",
       "at iter 16790 J(x) = -3.133242\t\n",
       "at iter 16800 J(x) = -3.133256\t\n",
       "at iter 16810 J(x) = -3.133269\t\n",
       "at iter 16820 J(x) = -3.133282\t\n",
       "at iter 16830 J(x) = -3.133295\t\n",
       "at iter 16840 J(x) = -3.133309\t\n",
       "at iter 16850 J(x) = -3.133322\t\n",
       "at iter 16860 J(x) = -3.133335\t\n",
       "at iter 16870 J(x) = -3.133348\t\n",
       "at iter 16880 J(x) = -3.133361\t\n",
       "at iter 16890 J(x) = -3.133374\t\n",
       "at iter 16900 J(x) = -3.133386\t\n",
       "at iter 16910 J(x) = -3.133399\t\n",
       "at iter 16920 J(x) = -3.133412\t\n",
       "at iter 16930 J(x) = -3.133425\t\n"
      ]
     },
     "execution_count": 27,
     "metadata": {},
     "output_type": "execute_result"
    },
    {
     "data": {
      "text/plain": [
       "at iter 16940 J(x) = -3.133437\t\n",
       "at iter 16950 J(x) = -3.133450\t\n",
       "at iter 16960 J(x) = -3.133463\t\n",
       "at iter 16970 J(x) = -3.133475\t\n",
       "at iter 16980 J(x) = -3.133488\t\n",
       "at iter 16990 J(x) = -3.133500\t\n",
       "at iter 17000 J(x) = -3.133513\t\n",
       "at iter 17010 J(x) = -3.133525\t\n",
       "at iter 17020 J(x) = -3.133537\t\n",
       "at iter 17030 J(x) = -3.133549\t\n",
       "at iter 17040 J(x) = -3.133562\t\n",
       "at iter 17050 J(x) = -3.133574\t\n",
       "at iter 17060 J(x) = -3.133586\t\n",
       "at iter 17070 J(x) = -3.133598\t\n",
       "at iter 17080 J(x) = -3.133610\t\n",
       "at iter 17090 J(x) = -3.133622\t\n",
       "at iter 17100 J(x) = -3.133634\t\n"
      ]
     },
     "execution_count": 27,
     "metadata": {},
     "output_type": "execute_result"
    },
    {
     "data": {
      "text/plain": [
       "at iter 17110 J(x) = -3.133646\t\n"
      ]
     },
     "execution_count": 27,
     "metadata": {},
     "output_type": "execute_result"
    },
    {
     "data": {
      "text/plain": [
       "at iter 17120 J(x) = -3.133658\t\n",
       "at iter 17130 J(x) = -3.133670\t\n",
       "at iter 17140 J(x) = -3.133681\t\n",
       "at iter 17150 J(x) = -3.133693\t\n",
       "at iter 17160 J(x) = -3.133705\t\n",
       "at iter 17170 J(x) = -3.133716\t\n",
       "at iter 17180 J(x) = -3.133728\t\n",
       "at iter 17190 J(x) = -3.133740\t\n",
       "at iter 17200 J(x) = -3.133751\t\n",
       "at iter 17210 J(x) = -3.133763\t\n",
       "at iter 17220 J(x) = -3.133774\t\n",
       "at iter 17230 J(x) = -3.133785\t\n",
       "at iter 17240 J(x) = -3.133797\t\n",
       "at iter 17250 J(x) = -3.133808\t\n",
       "at iter 17260 J(x) = -3.133819\t\n",
       "at iter 17270 J(x) = -3.133830\t\n"
      ]
     },
     "execution_count": 27,
     "metadata": {},
     "output_type": "execute_result"
    },
    {
     "data": {
      "text/plain": [
       "at iter 17280 J(x) = -3.133842\t\n",
       "at iter 17290 J(x) = -3.133853\t\n",
       "at iter 17300 J(x) = -3.133864\t\n",
       "at iter 17310 J(x) = -3.133875\t\n",
       "at iter 17320 J(x) = -3.133886\t\n",
       "at iter 17330 J(x) = -3.133897\t\n",
       "at iter 17340 J(x) = -3.133908\t\n",
       "at iter 17350 J(x) = -3.133919\t\n",
       "at iter 17360 J(x) = -3.133930\t\n",
       "at iter 17370 J(x) = -3.133940\t\n",
       "at iter 17380 J(x) = -3.133951\t\n",
       "at iter 17390 J(x) = -3.133962\t\n",
       "at iter 17400 J(x) = -3.133973\t\n",
       "at iter 17410 J(x) = -3.133983\t\n",
       "at iter 17420 J(x) = -3.133994\t\n",
       "at iter 17430 J(x) = -3.134004\t\n"
      ]
     },
     "execution_count": 27,
     "metadata": {},
     "output_type": "execute_result"
    },
    {
     "data": {
      "text/plain": [
       "at iter 17440 J(x) = -3.134015\t\n",
       "at iter 17450 J(x) = -3.134025\t\n",
       "at iter 17460 J(x) = -3.134036\t\n",
       "at iter 17470 J(x) = -3.134046\t\n",
       "at iter 17480 J(x) = -3.134057\t\n",
       "at iter 17490 J(x) = -3.134067\t\n",
       "at iter 17500 J(x) = -3.134077\t\n",
       "at iter 17510 J(x) = -3.134088\t\n",
       "at iter 17520 J(x) = -3.134098\t\n",
       "at iter 17530 J(x) = -3.134108\t\n",
       "at iter 17540 J(x) = -3.134118\t\n",
       "at iter 17550 J(x) = -3.134128\t\n",
       "at iter 17560 J(x) = -3.134138\t\n",
       "at iter 17570 J(x) = -3.134148\t\n",
       "at iter 17580 J(x) = -3.134158\t\n",
       "at iter 17590 J(x) = -3.134168\t\n"
      ]
     },
     "execution_count": 27,
     "metadata": {},
     "output_type": "execute_result"
    },
    {
     "data": {
      "text/plain": [
       "at iter 17600 J(x) = -3.134178\t\n",
       "at iter 17610 J(x) = -3.134188\t\n",
       "at iter 17620 J(x) = -3.134198\t\n",
       "at iter 17630 J(x) = -3.134208\t\n",
       "at iter 17640 J(x) = -3.134217\t\n",
       "at iter 17650 J(x) = -3.134227\t\n",
       "at iter 17660 J(x) = -3.134237\t\n",
       "at iter 17670 J(x) = -3.134247\t\n",
       "at iter 17680 J(x) = -3.134256\t\n",
       "at iter 17690 J(x) = -3.134266\t\n",
       "at iter 17700 J(x) = -3.134275\t\n",
       "at iter 17710 J(x) = -3.134285\t\n",
       "at iter 17720 J(x) = -3.134294\t\n",
       "at iter 17730 J(x) = -3.134304\t\n",
       "at iter 17740 J(x) = -3.134313\t\n",
       "at iter 17750 J(x) = -3.134323\t\n",
       "at iter 17760 J(x) = -3.134332\t\n"
      ]
     },
     "execution_count": 27,
     "metadata": {},
     "output_type": "execute_result"
    },
    {
     "data": {
      "text/plain": [
       "at iter 17770 J(x) = -3.134341\t\n",
       "at iter 17780 J(x) = -3.134351\t\n",
       "at iter 17790 J(x) = -3.134360\t\n",
       "at iter 17800 J(x) = -3.134369\t\n",
       "at iter 17810 J(x) = -3.134378\t\n",
       "at iter 17820 J(x) = -3.134387\t\n",
       "at iter 17830 J(x) = -3.134396\t\n",
       "at iter 17840 J(x) = -3.134406\t\n",
       "at iter 17850 J(x) = -3.134415\t\n",
       "at iter 17860 J(x) = -3.134424\t\n",
       "at iter 17870 J(x) = -3.134433\t\n",
       "at iter 17880 J(x) = -3.134441\t\n",
       "at iter 17890 J(x) = -3.134450\t\n",
       "at iter 17900 J(x) = -3.134459\t\n",
       "at iter 17910 J(x) = -3.134468\t\n",
       "at iter 17920 J(x) = -3.134477\t\n"
      ]
     },
     "execution_count": 27,
     "metadata": {},
     "output_type": "execute_result"
    },
    {
     "data": {
      "text/plain": [
       "at iter 17930 J(x) = -3.134486\t\n",
       "at iter 17940 J(x) = -3.134494\t\n",
       "at iter 17950 J(x) = -3.134503\t\n",
       "at iter 17960 J(x) = -3.134512\t\n",
       "at iter 17970 J(x) = -3.134520\t\n",
       "at iter 17980 J(x) = -3.134529\t\n",
       "at iter 17990 J(x) = -3.134538\t\n",
       "at iter 18000 J(x) = -3.134546\t\n",
       "at iter 18010 J(x) = -3.134555\t\n",
       "at iter 18020 J(x) = -3.134563\t\n",
       "at iter 18030 J(x) = -3.134572\t\n",
       "at iter 18040 J(x) = -3.134580\t\n",
       "at iter 18050 J(x) = -3.134588\t\n",
       "at iter 18060 J(x) = -3.134597\t\n",
       "at iter 18070 J(x) = -3.134605\t\n",
       "at iter 18080 J(x) = -3.134613\t\n"
      ]
     },
     "execution_count": 27,
     "metadata": {},
     "output_type": "execute_result"
    },
    {
     "data": {
      "text/plain": [
       "at iter 18090 J(x) = -3.134622\t\n",
       "at iter 18100 J(x) = -3.134630\t\n",
       "at iter 18110 J(x) = -3.134638\t\n",
       "at iter 18120 J(x) = -3.134646\t\n",
       "at iter 18130 J(x) = -3.134655\t\n",
       "at iter 18140 J(x) = -3.134663\t\n",
       "at iter 18150 J(x) = -3.134671\t\n",
       "at iter 18160 J(x) = -3.134679\t\n",
       "at iter 18170 J(x) = -3.134687\t\n",
       "at iter 18180 J(x) = -3.134695\t\n",
       "at iter 18190 J(x) = -3.134703\t\n",
       "at iter 18200 J(x) = -3.134711\t\n",
       "at iter 18210 J(x) = -3.134719\t\n",
       "at iter 18220 J(x) = -3.134726\t\n",
       "at iter 18230 J(x) = -3.134734\t\n",
       "at iter 18240 J(x) = -3.134742\t\n",
       "at iter 18250 J(x) = -3.134750\t\n"
      ]
     },
     "execution_count": 27,
     "metadata": {},
     "output_type": "execute_result"
    },
    {
     "data": {
      "text/plain": [
       "at iter 18260 J(x) = -3.134758\t\n",
       "at iter 18270 J(x) = -3.134765\t\n",
       "at iter 18280 J(x) = -3.134773\t\n",
       "at iter 18290 J(x) = -3.134781\t\n",
       "at iter 18300 J(x) = -3.134788\t\n",
       "at iter 18310 J(x) = -3.134796\t\n",
       "at iter 18320 J(x) = -3.134804\t\n",
       "at iter 18330 J(x) = -3.134811\t\n",
       "at iter 18340 J(x) = -3.134819\t\n",
       "at iter 18350 J(x) = -3.134826\t\n",
       "at iter 18360 J(x) = -3.134834\t\n",
       "at iter 18370 J(x) = -3.134841\t\n",
       "at iter 18380 J(x) = -3.134849\t\n",
       "at iter 18390 J(x) = -3.134856\t\n",
       "at iter 18400 J(x) = -3.134863\t\n",
       "at iter 18410 J(x) = -3.134871\t\n",
       "at iter 18420 J(x) = -3.134878\t\n"
      ]
     },
     "execution_count": 27,
     "metadata": {},
     "output_type": "execute_result"
    },
    {
     "data": {
      "text/plain": [
       "at iter 18430 J(x) = -3.134885\t\n",
       "at iter 18440 J(x) = -3.134893\t\n",
       "at iter 18450 J(x) = -3.134900\t\n",
       "at iter 18460 J(x) = -3.134907\t\n",
       "at iter 18470 J(x) = -3.134914\t\n",
       "at iter 18480 J(x) = -3.134921\t\n",
       "at iter 18490 J(x) = -3.134929\t\n",
       "at iter 18500 J(x) = -3.134936\t\n",
       "at iter 18510 J(x) = -3.134943\t\n",
       "at iter 18520 J(x) = -3.134950\t\n",
       "at iter 18530 J(x) = -3.134957\t\n",
       "at iter 18540 J(x) = -3.134964\t\n",
       "at iter 18550 J(x) = -3.134971\t\n",
       "at iter 18560 J(x) = -3.134978\t\n",
       "at iter 18570 J(x) = -3.134985\t\n",
       "at iter 18580 J(x) = -3.134991\t\n",
       "at iter 18590 J(x) = -3.134998\t\n"
      ]
     },
     "execution_count": 27,
     "metadata": {},
     "output_type": "execute_result"
    },
    {
     "data": {
      "text/plain": [
       "at iter 18600 J(x) = -3.135005\t\n",
       "at iter 18610 J(x) = -3.135012\t\n",
       "at iter 18620 J(x) = -3.135019\t\n",
       "at iter 18630 J(x) = -3.135026\t\n",
       "at iter 18640 J(x) = -3.135032\t\n",
       "at iter 18650 J(x) = -3.135039\t\n",
       "at iter 18660 J(x) = -3.135046\t\n",
       "at iter 18670 J(x) = -3.135052\t\n",
       "at iter 18680 J(x) = -3.135059\t\n",
       "at iter 18690 J(x) = -3.135066\t\n",
       "at iter 18700 J(x) = -3.135072\t\n",
       "at iter 18710 J(x) = -3.135079\t\n",
       "at iter 18720 J(x) = -3.135085\t\n",
       "at iter 18730 J(x) = -3.135092\t\n",
       "at iter 18740 J(x) = -3.135098\t\n",
       "at iter 18750 J(x) = -3.135105\t\n"
      ]
     },
     "execution_count": 27,
     "metadata": {},
     "output_type": "execute_result"
    },
    {
     "data": {
      "text/plain": [
       "at iter 18760 J(x) = -3.135111\t\n",
       "at iter 18770 J(x) = -3.135118\t\n",
       "at iter 18780 J(x) = -3.135124\t\n",
       "at iter 18790 J(x) = -3.135130\t\n",
       "at iter 18800 J(x) = -3.135137\t\n",
       "at iter 18810 J(x) = -3.135143\t\n",
       "at iter 18820 J(x) = -3.135149\t\n",
       "at iter 18830 J(x) = -3.135156\t\n",
       "at iter 18840 J(x) = -3.135162\t\n",
       "at iter 18850 J(x) = -3.135168\t\n",
       "at iter 18860 J(x) = -3.135174\t\n",
       "at iter 18870 J(x) = -3.135181\t\n",
       "at iter 18880 J(x) = -3.135187\t\n",
       "at iter 18890 J(x) = -3.135193\t\n",
       "at iter 18900 J(x) = -3.135199\t\n",
       "at iter 18910 J(x) = -3.135205\t\n",
       "at iter 18920 J(x) = -3.135211\t\n"
      ]
     },
     "execution_count": 27,
     "metadata": {},
     "output_type": "execute_result"
    },
    {
     "data": {
      "text/plain": [
       "at iter 18930 J(x) = -3.135217\t\n",
       "at iter 18940 J(x) = -3.135223\t\n",
       "at iter 18950 J(x) = -3.135229\t\n",
       "at iter 18960 J(x) = -3.135235\t\n",
       "at iter 18970 J(x) = -3.135241\t\n",
       "at iter 18980 J(x) = -3.135247\t\n",
       "at iter 18990 J(x) = -3.135253\t\n",
       "at iter 19000 J(x) = -3.135259\t\n",
       "at iter 19010 J(x) = -3.135265\t\n",
       "at iter 19020 J(x) = -3.135271\t\n",
       "at iter 19030 J(x) = -3.135277\t\n",
       "at iter 19040 J(x) = -3.135282\t\n",
       "at iter 19050 J(x) = -3.135288\t\n",
       "at iter 19060 J(x) = -3.135294\t\n",
       "at iter 19070 J(x) = -3.135300\t\n",
       "at iter 19080 J(x) = -3.135305\t\n"
      ]
     },
     "execution_count": 27,
     "metadata": {},
     "output_type": "execute_result"
    },
    {
     "data": {
      "text/plain": [
       "at iter 19090 J(x) = -3.135311\t\n",
       "at iter 19100 J(x) = -3.135317\t\n",
       "at iter 19110 J(x) = -3.135322\t\n",
       "at iter 19120 J(x) = -3.135328\t\n",
       "at iter 19130 J(x) = -3.135334\t\n",
       "at iter 19140 J(x) = -3.135339\t\n",
       "at iter 19150 J(x) = -3.135345\t\n",
       "at iter 19160 J(x) = -3.135350\t\n",
       "at iter 19170 J(x) = -3.135356\t\n",
       "at iter 19180 J(x) = -3.135362\t\n",
       "at iter 19190 J(x) = -3.135367\t\n",
       "at iter 19200 J(x) = -3.135372\t\n",
       "at iter 19210 J(x) = -3.135378\t\n",
       "at iter 19220 J(x) = -3.135383\t\n",
       "at iter 19230 J(x) = -3.135389\t\n",
       "at iter 19240 J(x) = -3.135394\t\n"
      ]
     },
     "execution_count": 27,
     "metadata": {},
     "output_type": "execute_result"
    },
    {
     "data": {
      "text/plain": [
       "at iter 19250 J(x) = -3.135400\t\n",
       "at iter 19260 J(x) = -3.135405\t\n",
       "at iter 19270 J(x) = -3.135410\t\n",
       "at iter 19280 J(x) = -3.135416\t\n",
       "at iter 19290 J(x) = -3.135421\t\n",
       "at iter 19300 J(x) = -3.135426\t\n",
       "at iter 19310 J(x) = -3.135431\t\n",
       "at iter 19320 J(x) = -3.135437\t\n",
       "at iter 19330 J(x) = -3.135442\t\n",
       "at iter 19340 J(x) = -3.135447\t\n",
       "at iter 19350 J(x) = -3.135452\t\n",
       "at iter 19360 J(x) = -3.135457\t\n",
       "at iter 19370 J(x) = -3.135463\t\n",
       "at iter 19380 J(x) = -3.135468\t\n",
       "at iter 19390 J(x) = -3.135473\t\n",
       "at iter 19400 J(x) = -3.135478\t\n"
      ]
     },
     "execution_count": 27,
     "metadata": {},
     "output_type": "execute_result"
    },
    {
     "data": {
      "text/plain": [
       "at iter 19410 J(x) = -3.135483\t\n",
       "at iter 19420 J(x) = -3.135488\t\n",
       "at iter 19430 J(x) = -3.135493\t\n",
       "at iter 19440 J(x) = -3.135498\t\n",
       "at iter 19450 J(x) = -3.135503\t\n",
       "at iter 19460 J(x) = -3.135508\t\n",
       "at iter 19470 J(x) = -3.135513\t\n",
       "at iter 19480 J(x) = -3.135518\t\n",
       "at iter 19490 J(x) = -3.135523\t\n",
       "at iter 19500 J(x) = -3.135528\t\n",
       "at iter 19510 J(x) = -3.135532\t\n",
       "at iter 19520 J(x) = -3.135537\t\n",
       "at iter 19530 J(x) = -3.135542\t\n",
       "at iter 19540 J(x) = -3.135547\t\n",
       "at iter 19550 J(x) = -3.135552\t\n",
       "at iter 19560 J(x) = -3.135557\t\n"
      ]
     },
     "execution_count": 27,
     "metadata": {},
     "output_type": "execute_result"
    },
    {
     "data": {
      "text/plain": [
       "at iter 19570 J(x) = -3.135561\t\n",
       "at iter 19580 J(x) = -3.135566\t\n",
       "at iter 19590 J(x) = -3.135571\t\n",
       "at iter 19600 J(x) = -3.135576\t\n",
       "at iter 19610 J(x) = -3.135580\t\n",
       "at iter 19620 J(x) = -3.135585\t\n",
       "at iter 19630 J(x) = -3.135590\t\n",
       "at iter 19640 J(x) = -3.135594\t\n",
       "at iter 19650 J(x) = -3.135599\t\n",
       "at iter 19660 J(x) = -3.135604\t\n",
       "at iter 19670 J(x) = -3.135608\t\n",
       "at iter 19680 J(x) = -3.135613\t\n",
       "at iter 19690 J(x) = -3.135617\t\n",
       "at iter 19700 J(x) = -3.135622\t\n",
       "at iter 19710 J(x) = -3.135626\t\n",
       "at iter 19720 J(x) = -3.135631\t"
      ]
     },
     "execution_count": 27,
     "metadata": {},
     "output_type": "execute_result"
    },
    {
     "data": {
      "text/plain": [
       "\n",
       "at iter 19730 J(x) = -3.135635\t\n",
       "at iter 19740 J(x) = -3.135640\t\n",
       "at iter 19750 J(x) = -3.135644\t\n",
       "at iter 19760 J(x) = -3.135649\t\n",
       "at iter 19770 J(x) = -3.135653\t\n",
       "at iter 19780 J(x) = -3.135658\t\n",
       "at iter 19790 J(x) = -3.135662\t\n",
       "at iter 19800 J(x) = -3.135666\t\n",
       "at iter 19810 J(x) = -3.135671\t\n",
       "at iter 19820 J(x) = -3.135675\t\n",
       "at iter 19830 J(x) = -3.135679\t\n",
       "at iter 19840 J(x) = -3.135684\t\n",
       "at iter 19850 J(x) = -3.135688\t\n",
       "at iter 19860 J(x) = -3.135692\t\n",
       "at iter 19870 J(x) = -3.135697\t\n"
      ]
     },
     "execution_count": 27,
     "metadata": {},
     "output_type": "execute_result"
    },
    {
     "data": {
      "text/plain": [
       "at iter 19880 J(x) = -3.135701\t\n",
       "at iter 19890 J(x) = -3.135705\t\n",
       "at iter 19900 J(x) = -3.135709\t\n",
       "at iter 19910 J(x) = -3.135713\t\n",
       "at iter 19920 J(x) = -3.135718\t\n",
       "at iter 19930 J(x) = -3.135722\t\n",
       "at iter 19940 J(x) = -3.135726\t\n",
       "at iter 19950 J(x) = -3.135730\t\n",
       "at iter 19960 J(x) = -3.135734\t\n",
       "at iter 19970 J(x) = -3.135738\t\n",
       "at iter 19980 J(x) = -3.135742\t\n",
       "at iter 19990 J(x) = -3.135747\t\n",
       "at iter 20000 J(x) = -3.135751\t\n"
      ]
     },
     "execution_count": 27,
     "metadata": {},
     "output_type": "execute_result"
    }
   ],
   "source": [
    "lr = 0.01\n",
    "for i=1,20000 do\n",
    "    x = x - dJ(x)*lr\n",
    "    -- we print the value of the objective function at each iteration    \n",
    "    if i%10==0 then\n",
    "        print(string.format('at iter %d J(x) = %f', i, J(x)))\n",
    "    end\n",
    "end"
   ]
  },
  {
   "cell_type": "markdown",
   "metadata": {},
   "source": [
    "## 4. Using the optim package"
   ]
  },
  {
   "cell_type": "markdown",
   "metadata": {},
   "source": [
    "be sure that optim package is installed\n",
    "\n",
    "    luarocks install optim"
   ]
  },
  {
   "cell_type": "markdown",
   "metadata": {},
   "source": [
    "#### A word on local variables"
   ]
  },
  {
   "cell_type": "code",
   "execution_count": 29,
   "metadata": {
    "collapsed": true
   },
   "outputs": [],
   "source": [
    "local A = torch.rand(N, N)"
   ]
  },
  {
   "cell_type": "code",
   "execution_count": 30,
   "metadata": {
    "collapsed": false
   },
   "outputs": [
    {
     "data": {
      "text/plain": [
       " 0.8135  0.4421  0.6466  0.9093  0.0474\n",
       " 0.0598  0.9950  0.1843  0.6892  0.0474\n",
       " 0.9295  0.6749  0.9181  0.5946  0.9753\n",
       " 0.5333  0.3970  0.0433  0.2626  0.5614\n",
       " 0.4302  0.3297  0.7645  0.5030  0.5997\n",
       "[torch.DoubleTensor of size 5x5]\n",
       "\n",
       " 1.5328  2.0026  0.8125  1.4990  1.0839\n",
       " 2.0026  2.9366  1.3434  2.1571  1.5836\n",
       " 0.8125  1.3434  0.8568  0.6775  0.8827\n",
       " 1.4990  2.1571  0.6775  2.3895  0.8894\n",
       " 1.0839  1.5836  0.8827  0.8894  1.0843\n",
       "[torch.DoubleTensor of size 5x5]\n",
       "\n"
      ]
     },
     "execution_count": 30,
     "metadata": {},
     "output_type": "execute_result"
    }
   ],
   "source": [
    "do\n",
    "    local A = torch.rand(N, N)\n",
    "    print (A)\n",
    "end\n",
    "print(A)"
   ]
  },
  {
   "cell_type": "markdown",
   "metadata": {},
   "source": [
    "#### Defining a closure with an upvalue"
   ]
  },
  {
   "cell_type": "code",
   "execution_count": 31,
   "metadata": {
    "collapsed": true
   },
   "outputs": [],
   "source": [
    "do\n",
    "    local neval = 0\n",
    "    function JdJ(x)\n",
    "        local Jx = J(x)\n",
    "        neval = neval + 1\n",
    "        print(string.format('after %d evaluations J(x) = %f', neval, Jx))\n",
    "        return Jx, dJ(x)\n",
    "    end\n",
    "end"
   ]
  },
  {
   "cell_type": "markdown",
   "metadata": {},
   "source": [
    "#### Training with optim"
   ]
  },
  {
   "cell_type": "code",
   "execution_count": 32,
   "metadata": {
    "collapsed": false
   },
   "outputs": [
    {
     "data": {
      "text/plain": [
       "{\n",
       "  rmsprop : function: 0x40373558\n",
       "  ConfusionMatrix : table: 0x41e64d38\n",
       "  lbfgs : function: 0x40d4a8e0\n",
       "  adadelta : function: 0x40cb1fb0\n",
       "  FistaLS : function: 0x408d03f0\n",
       "  polyinterp : function: 0x41e633f8\n",
       "  adamax : function: 0x4036ea78\n",
       "  adagrad : function: 0x41eb77b8\n",
       "  sgd : function: 0x41929ef0\n",
       "  checkgrad : function: 0x408eb480\n",
       "  Logger : table: 0x41e65898\n",
       "  lswolfe : function: 0x40d36da8\n",
       "  rprop : function: 0x40d44298\n",
       "  cg : function: 0x40d31fe8\n",
       "  adam : function: 0x4037e398\n",
       "  nag : function: 0x41924338\n",
       "  asgd : function: 0x40f13fc8\n",
       "}\n"
      ]
     },
     "execution_count": 32,
     "metadata": {},
     "output_type": "execute_result"
    }
   ],
   "source": [
    "require 'optim'"
   ]
  },
  {
   "cell_type": "code",
   "execution_count": 34,
   "metadata": {
    "collapsed": true
   },
   "outputs": [],
   "source": [
    "state = {\n",
    "    verbose = true,\n",
    "    maxiter = 100\n",
    "}"
   ]
  },
  {
   "cell_type": "code",
   "execution_count": 35,
   "metadata": {
    "collapsed": false
   },
   "outputs": [
    {
     "data": {
      "text/plain": [
       "after 1 evaluations J(x) = 1.514851\t\n"
      ]
     },
     "execution_count": 35,
     "metadata": {},
     "output_type": "execute_result"
    },
    {
     "data": {
      "text/plain": [
       "after 2 evaluations J(x) = 0.691511\t\n",
       "after 3 evaluations J(x) = -0.128707\t\n",
       "after 4 evaluations J(x) = 1.056248\t\n",
       "after 5 evaluations J(x) = -0.639566\t\n",
       "after 6 evaluations J(x) = -0.776123\t\n",
       "after 7 evaluations J(x) = -0.934381\t\n",
       "after 8 evaluations J(x) = -1.430838\t\n",
       "after 9 evaluations J(x) = -1.894505\t\n",
       "after 10 evaluations J(x) = -0.986421\t\n",
       "after 11 evaluations J(x) = -2.183425\t\n",
       "after 12 evaluations J(x) = -2.131715\t\n",
       "after 13 evaluations J(x) = -2.316019\t\n",
       "after 14 evaluations J(x) = -2.497882\t\n",
       "after 15 evaluations J(x) = -0.854842\t\n",
       "after 16 evaluations J(x) = -2.505319\t\n",
       "after 17 evaluations J(x) = -2.527402\t\n",
       "after 18 evaluations J(x) = -2.544953\t\n",
       "after 19 evaluations J(x) = -2.594452\t\n",
       "after 20 evaluations J(x) = -2.612037\t\n",
       "after 21 evaluations J(x) = -2.619919\t\n",
       "after 22 evaluations J(x) = -2.587068\t\n",
       "after 23 evaluations J(x) = -2.627662\t\n",
       "after 24 evaluations J(x) = -2.642780\t\n",
       "after 25 evaluations J(x) = -2.670806\t\n"
      ]
     },
     "execution_count": 35,
     "metadata": {},
     "output_type": "execute_result"
    }
   ],
   "source": [
    "x = torch.rand(N)\n",
    "optim.cg(JdJ, x, state)"
   ]
  },
  {
   "cell_type": "markdown",
   "metadata": {},
   "source": [
    "## 5. Plot"
   ]
  },
  {
   "cell_type": "markdown",
   "metadata": {},
   "source": [
    "be sure that gnuplot is installed\n",
    "\n",
    "    luarocks install gnuplot"
   ]
  },
  {
   "cell_type": "code",
   "execution_count": 36,
   "metadata": {
    "collapsed": true
   },
   "outputs": [],
   "source": [
    "evaluations = {}\n",
    "time = {}\n",
    "timer = torch.Timer()\n",
    "neval = 0\n",
    "function JdJ(x)\n",
    "    local Jx = J(x)\n",
    "    neval = neval + 1\n",
    "    print(string.format('after %d evaluations, J(x) = %f', neval, Jx))\n",
    "    table.insert(evaluations, Jx)\n",
    "    table.insert(time, timer:time().real)\n",
    "    return Jx, dJ(x)\n",
    "end"
   ]
  },
  {
   "cell_type": "code",
   "execution_count": 37,
   "metadata": {
    "collapsed": false
   },
   "outputs": [
    {
     "data": {
      "text/plain": [
       "after 1 evaluations, J(x) = 0.621663\t\n",
       "after 2 evaluations, J(x) = 0.085373\t\n",
       "after 3 evaluations, J(x) = -0.423993\t\n",
       "after 4 evaluations, J(x) = 0.254748\t\n",
       "after 5 evaluations, J(x) = -0.549376\t\n",
       "after 6 evaluations, J(x) = -0.784146\t\n",
       "after 7 evaluations, J(x) = -1.157721\t\n",
       "after 8 evaluations, J(x) = -1.532271\t\n",
       "after 9 evaluations, J(x) = 1.369647\t\n",
       "after 10 evaluations, J(x) = -1.730738\t\n",
       "after 11 evaluations, J(x) = -2.032329\t\n",
       "after 12 evaluations, J(x) = -2.143864\t\n",
       "after 13 evaluations, J(x) = -2.381235\t\n"
      ]
     },
     "execution_count": 37,
     "metadata": {},
     "output_type": "execute_result"
    },
    {
     "data": {
      "text/plain": [
       "after 14 evaluations, J(x) = 10.453152\t\n",
       "after 15 evaluations, J(x) = -2.327253\t\n",
       "after 16 evaluations, J(x) = -2.393728\t\n",
       "after 17 evaluations, J(x) = -2.416543\t\n",
       "after 18 evaluations, J(x) = -2.449136\t\n",
       "after 19 evaluations, J(x) = -2.499651\t\n",
       "after 20 evaluations, J(x) = -2.551847\t\n",
       "after 21 evaluations, J(x) = -2.608930\t\n",
       "after 22 evaluations, J(x) = -2.630421\t\n",
       "after 23 evaluations, J(x) = -2.678178\t\n",
       "after 24 evaluations, J(x) = -2.626122\t\n",
       "after 25 evaluations, J(x) = -2.707689\t\n"
      ]
     },
     "execution_count": 37,
     "metadata": {},
     "output_type": "execute_result"
    }
   ],
   "source": [
    "state = {\n",
    "    verbose = true,\n",
    "    maxiter = 100\n",
    "}\n",
    "\n",
    "x0 = torch.rand(N)\n",
    "cgx = x0:clone() -- make a copy of x0\n",
    "timer:reset()\n",
    "optim.cg(JdJ, cgx, state)\n",
    "\n",
    "-- we convert the evaluations and time tables to tensors for plotting:\n",
    "cgtime = torch.Tensor(time)\n",
    "cgevaluations = torch.Tensor(evaluations)"
   ]
  },
  {
   "cell_type": "markdown",
   "metadata": {},
   "source": [
    "#### Add support for stochastic gradient descent"
   ]
  },
  {
   "cell_type": "code",
   "execution_count": 38,
   "metadata": {
    "collapsed": false
   },
   "outputs": [
    {
     "data": {
      "text/plain": [
       "after 1 evaluations, J(x) = 0.621663\t\n",
       "after 2 evaluations, J(x) = 0.613932\t\n",
       "after 3 evaluations, J(x) = 0.606308\t\n",
       "after 4 evaluations, J(x) = 0.598788\t\n",
       "after 5 evaluations, J(x) = 0.591371\t\n",
       "after 6 evaluations, J(x) = 0.584057\t\n",
       "after 7 evaluations, J(x) = 0.576842\t\n",
       "after 8 evaluations, J(x) = 0.569727\t\n",
       "after 9 evaluations, J(x) = 0.562708\t\n",
       "after 10 evaluations, J(x) = 0.555786\t\n",
       "after 11 evaluations, J(x) = 0.548958\t\n",
       "after 12 evaluations, J(x) = 0.542223\t\n",
       "after 13 evaluations, J(x) = 0.535580\t\n",
       "after 14 evaluations, J(x) = 0.529027\t\n",
       "after 15 evaluations, J(x) = 0.522564\t\n",
       "after 16 evaluations, J(x) = 0.516188\t\n"
      ]
     },
     "execution_count": 38,
     "metadata": {},
     "output_type": "execute_result"
    },
    {
     "data": {
      "text/plain": [
       "after 17 evaluations, J(x) = 0.509898\t\n",
       "after 18 evaluations, J(x) = 0.503694\t\n",
       "after 19 evaluations, J(x) = 0.497573\t\n",
       "after 20 evaluations, J(x) = 0.491536\t\n",
       "after 21 evaluations, J(x) = 0.485579\t\n",
       "after 22 evaluations, J(x) = 0.479703\t\n",
       "after 23 evaluations, J(x) = 0.473906\t\n",
       "after 24 evaluations, J(x) = 0.468187\t\n",
       "after 25 evaluations, J(x) = 0.462544\t\n",
       "after 26 evaluations, J(x) = 0.456977\t\n",
       "after 27 evaluations, J(x) = 0.451484\t\n",
       "after 28 evaluations, J(x) = 0.446065\t\n",
       "after 29 evaluations, J(x) = 0.440719\t\n",
       "after 30 evaluations, J(x) = 0.435443\t\n",
       "after 31 evaluations, J(x) = 0.430238\t\n",
       "after 32 evaluations, J(x) = 0.425101\t\n",
       "after 33 evaluations, J(x) = 0.420033\t\n",
       "after 34 evaluations, J(x) = 0.415032\t\n",
       "after 35 evaluations, J(x) = 0.410097\t\n",
       "after 36 evaluations, J(x) = 0.405227\t\n",
       "after 37 evaluations, J(x) = 0.400422\t\n",
       "after 38 evaluations, J(x) = 0.395680\t\n",
       "after 39 evaluations, J(x) = 0.391000\t\n",
       "after 40 evaluations, J(x) = 0.386381\t\n",
       "after 41 evaluations, J(x) = 0.381823\t\n",
       "after 42 evaluations, J(x) = 0.377325\t\n",
       "after 43 evaluations, J(x) = 0.372885\t\n"
      ]
     },
     "execution_count": 38,
     "metadata": {},
     "output_type": "execute_result"
    },
    {
     "data": {
      "text/plain": [
       "after 44 evaluations, J(x) = 0.368503\t\n",
       "after 45 evaluations, J(x) = 0.364178\t\n",
       "after 46 evaluations, J(x) = 0.359909\t\n",
       "after 47 evaluations, J(x) = 0.355696\t\n",
       "after 48 evaluations, J(x) = 0.351537\t\n",
       "after 49 evaluations, J(x) = 0.347432\t\n",
       "after 50 evaluations, J(x) = 0.343380\t\n",
       "after 51 evaluations, J(x) = 0.339380\t\n",
       "after 52 evaluations, J(x) = 0.335431\t\n",
       "after 53 evaluations, J(x) = 0.331533\t\n",
       "after 54 evaluations, J(x) = 0.327685\t\n",
       "after 55 evaluations, J(x) = 0.323886\t\n",
       "after 56 evaluations, J(x) = 0.320136\t\n",
       "after 57 evaluations, J(x) = 0.316433\t\n",
       "after 58 evaluations, J(x) = 0.312777\t\n",
       "after 59 evaluations, J(x) = 0.309168\t\n",
       "after 60 evaluations, J(x) = 0.305604\t\n",
       "after 61 evaluations, J(x) = 0.302085\t\n",
       "after 62 evaluations, J(x) = 0.298610\t\n",
       "after 63 evaluations, J(x) = 0.295180\t\n",
       "after 64 evaluations, J(x) = 0.291792\t\n",
       "after 65 evaluations, J(x) = 0.288446\t\n",
       "after 66 evaluations, J(x) = 0.285143\t\n",
       "after 67 evaluations, J(x) = 0.281880\t\n"
      ]
     },
     "execution_count": 38,
     "metadata": {},
     "output_type": "execute_result"
    },
    {
     "data": {
      "text/plain": [
       "after 68 evaluations, J(x) = 0.278658\t\n",
       "after 69 evaluations, J(x) = 0.275476\t\n",
       "after 70 evaluations, J(x) = 0.272334\t\n",
       "after 71 evaluations, J(x) = 0.269230\t\n",
       "after 72 evaluations, J(x) = 0.266164\t\n",
       "after 73 evaluations, J(x) = 0.263136\t\n",
       "after 74 evaluations, J(x) = 0.260145\t\n",
       "after 75 evaluations, J(x) = 0.257191\t\n",
       "after 76 evaluations, J(x) = 0.254273\t\n",
       "after 77 evaluations, J(x) = 0.251390\t\n",
       "after 78 evaluations, J(x) = 0.248542\t\n",
       "after 79 evaluations, J(x) = 0.245729\t\n",
       "after 80 evaluations, J(x) = 0.242950\t\n",
       "after 81 evaluations, J(x) = 0.240204\t\n",
       "after 82 evaluations, J(x) = 0.237491\t\n",
       "after 83 evaluations, J(x) = 0.234811\t\n",
       "after 84 evaluations, J(x) = 0.232162\t\n",
       "after 85 evaluations, J(x) = 0.229545\t\n",
       "after 86 evaluations, J(x) = 0.226960\t\n",
       "after 87 evaluations, J(x) = 0.224405\t\n",
       "after 88 evaluations, J(x) = 0.221880\t\n",
       "after 89 evaluations, J(x) = 0.219385\t\n",
       "after 90 evaluations, J(x) = 0.216919\t\n",
       "after 91 evaluations, J(x) = 0.214482\t\n",
       "after 92 evaluations, J(x) = 0.212073\t\n",
       "after 93 evaluations, J(x) = 0.209693\t\n",
       "after 94 evaluations, J(x) = 0.207340\t\n",
       "after 95 evaluations, J(x) = 0.205015\t\n"
      ]
     },
     "execution_count": 38,
     "metadata": {},
     "output_type": "execute_result"
    },
    {
     "data": {
      "text/plain": [
       "after 96 evaluations, J(x) = 0.202716\t\n",
       "after 97 evaluations, J(x) = 0.200444\t\n",
       "after 98 evaluations, J(x) = 0.198197\t\n",
       "after 99 evaluations, J(x) = 0.195977\t\n",
       "after 100 evaluations, J(x) = 0.193782\t\n",
       "after 101 evaluations, J(x) = 0.191611\t\n",
       "after 102 evaluations, J(x) = 0.189466\t\n",
       "after 103 evaluations, J(x) = 0.187344\t\n",
       "after 104 evaluations, J(x) = 0.185246\t\n",
       "after 105 evaluations, J(x) = 0.183172\t\n",
       "after 106 evaluations, J(x) = 0.181121\t\n",
       "after 107 evaluations, J(x) = 0.179093\t\n",
       "after 108 evaluations, J(x) = 0.177088\t\n",
       "after 109 evaluations, J(x) = 0.175104\t\n",
       "after 110 evaluations, J(x) = 0.173143\t\n",
       "after 111 evaluations, J(x) = 0.171202\t\n",
       "after 112 evaluations, J(x) = 0.169284\t\n",
       "after 113 evaluations, J(x) = 0.167386\t\n",
       "after 114 evaluations, J(x) = 0.165508\t\n",
       "after 115 evaluations, J(x) = 0.163651\t\n",
       "after 116 evaluations, J(x) = 0.161814\t\n",
       "after 117 evaluations, J(x) = 0.159997\t\n",
       "after 118 evaluations, J(x) = 0.158199\t\n",
       "after 119 evaluations, J(x) = 0.156421\t\n",
       "after 120 evaluations, J(x) = 0.154661\t\n",
       "after 121 evaluations, J(x) = 0.152920\t\n",
       "after 122 evaluations, J(x) = 0.151197\t\n",
       "after 123 evaluations, J(x) = 0.149492\t\n"
      ]
     },
     "execution_count": 38,
     "metadata": {},
     "output_type": "execute_result"
    },
    {
     "data": {
      "text/plain": [
       "after 124 evaluations, J(x) = 0.147805\t\n",
       "after 125 evaluations, J(x) = 0.146136\t\n",
       "after 126 evaluations, J(x) = 0.144484\t\n",
       "after 127 evaluations, J(x) = 0.142849\t\n",
       "after 128 evaluations, J(x) = 0.141230\t\n",
       "after 129 evaluations, J(x) = 0.139629\t\n",
       "after 130 evaluations, J(x) = 0.138043\t\n",
       "after 131 evaluations, J(x) = 0.136474\t\n",
       "after 132 evaluations, J(x) = 0.134920\t\n",
       "after 133 evaluations, J(x) = 0.133383\t\n",
       "after 134 evaluations, J(x) = 0.131860\t\n",
       "after 135 evaluations, J(x) = 0.130353\t\n",
       "after 136 evaluations, J(x) = 0.128861\t\n",
       "after 137 evaluations, J(x) = 0.127383\t\n",
       "after 138 evaluations, J(x) = 0.125920\t\n",
       "after 139 evaluations, J(x) = 0.124471\t\n",
       "after 140 evaluations, J(x) = 0.123037\t\n",
       "after 141 evaluations, J(x) = 0.121616\t\n",
       "after 142 evaluations, J(x) = 0.120209\t\n",
       "after 143 evaluations, J(x) = 0.118816\t\n",
       "after 144 evaluations, J(x) = 0.117436\t\n",
       "after 145 evaluations, J(x) = 0.116069\t\n",
       "after 146 evaluations, J(x) = 0.114715\t\n",
       "after 147 evaluations, J(x) = 0.113373\t\n",
       "after 148 evaluations, J(x) = 0.112045\t\n",
       "after 149 evaluations, J(x) = 0.110728\t\n",
       "after 150 evaluations, J(x) = 0.109424\t\n",
       "after 151 evaluations, J(x) = 0.108132\t\n"
      ]
     },
     "execution_count": 38,
     "metadata": {},
     "output_type": "execute_result"
    },
    {
     "data": {
      "text/plain": [
       "after 152 evaluations, J(x) = 0.106852\t\n",
       "after 153 evaluations, J(x) = 0.105583\t\n",
       "after 154 evaluations, J(x) = 0.104326\t\n",
       "after 155 evaluations, J(x) = 0.103081\t\n",
       "after 156 evaluations, J(x) = 0.101846\t\n",
       "after 157 evaluations, J(x) = 0.100623\t\n",
       "after 158 evaluations, J(x) = 0.099410\t\n",
       "after 159 evaluations, J(x) = 0.098209\t\n",
       "after 160 evaluations, J(x) = 0.097017\t\n",
       "after 161 evaluations, J(x) = 0.095837\t\n",
       "after 162 evaluations, J(x) = 0.094666\t\n",
       "after 163 evaluations, J(x) = 0.093506\t\n",
       "after 164 evaluations, J(x) = 0.092356\t\n",
       "after 165 evaluations, J(x) = 0.091215\t\n",
       "after 166 evaluations, J(x) = 0.090084\t\n",
       "after 167 evaluations, J(x) = 0.088963\t\n",
       "after 168 evaluations, J(x) = 0.087851\t\n",
       "after 169 evaluations, J(x) = 0.086749\t\n",
       "after 170 evaluations, J(x) = 0.085655\t\n",
       "after 171 evaluations, J(x) = 0.084571\t\n",
       "after 172 evaluations, J(x) = 0.083496\t\n",
       "after 173 evaluations, J(x) = 0.082429\t\n",
       "after 174 evaluations, J(x) = 0.081371\t\n",
       "after 175 evaluations, J(x) = 0.080322\t\n",
       "after 176 evaluations, J(x) = 0.079281\t\n",
       "after 177 evaluations, J(x) = 0.078248\t\n",
       "after 178 evaluations, J(x) = 0.077224\t\n",
       "after 179 evaluations, J(x) = 0.076207\t\n"
      ]
     },
     "execution_count": 38,
     "metadata": {},
     "output_type": "execute_result"
    },
    {
     "data": {
      "text/plain": [
       "after 180 evaluations, J(x) = 0.075199\t\n",
       "after 181 evaluations, J(x) = 0.074198\t\n",
       "after 182 evaluations, J(x) = 0.073205\t\n",
       "after 183 evaluations, J(x) = 0.072220\t\n",
       "after 184 evaluations, J(x) = 0.071242\t\n",
       "after 185 evaluations, J(x) = 0.070272\t\n",
       "after 186 evaluations, J(x) = 0.069309\t\n",
       "after 187 evaluations, J(x) = 0.068353\t\n",
       "after 188 evaluations, J(x) = 0.067404\t\n",
       "after 189 evaluations, J(x) = 0.066462\t\n",
       "after 190 evaluations, J(x) = 0.065527\t\n",
       "after 191 evaluations, J(x) = 0.064599\t\n",
       "after 192 evaluations, J(x) = 0.063678\t\n",
       "after 193 evaluations, J(x) = 0.062763\t\n",
       "after 194 evaluations, J(x) = 0.061855\t\n",
       "after 195 evaluations, J(x) = 0.060953\t\n",
       "after 196 evaluations, J(x) = 0.060058\t\n",
       "after 197 evaluations, J(x) = 0.059169\t\n",
       "after 198 evaluations, J(x) = 0.058286\t\n",
       "after 199 evaluations, J(x) = 0.057409\t\n",
       "after 200 evaluations, J(x) = 0.056538\t\n",
       "after 201 evaluations, J(x) = 0.055673\t\n",
       "after 202 evaluations, J(x) = 0.054814\t\n",
       "after 203 evaluations, J(x) = 0.053961\t\n",
       "after 204 evaluations, J(x) = 0.053113\t\n",
       "after 205 evaluations, J(x) = 0.052271\t\n",
       "after 206 evaluations, J(x) = 0.051434\t\n",
       "after 207 evaluations, J(x) = 0.050603\t\n",
       "after 208 evaluations, J(x) = 0.049778\t\n"
      ]
     },
     "execution_count": 38,
     "metadata": {},
     "output_type": "execute_result"
    },
    {
     "data": {
      "text/plain": [
       "after 209 evaluations, J(x) = 0.048957\t\n",
       "after 210 evaluations, J(x) = 0.048142\t\n",
       "after 211 evaluations, J(x) = 0.047332\t\n",
       "after 212 evaluations, J(x) = 0.046527\t\n",
       "after 213 evaluations, J(x) = 0.045727\t\n",
       "after 214 evaluations, J(x) = 0.044932\t\n",
       "after 215 evaluations, J(x) = 0.044142\t\n",
       "after 216 evaluations, J(x) = 0.043356\t\n",
       "after 217 evaluations, J(x) = 0.042576\t\n",
       "after 218 evaluations, J(x) = 0.041800\t\n",
       "after 219 evaluations, J(x) = 0.041029\t\n",
       "after 220 evaluations, J(x) = 0.040262\t\n",
       "after 221 evaluations, J(x) = 0.039500\t\n",
       "after 222 evaluations, J(x) = 0.038742\t\n",
       "after 223 evaluations, J(x) = 0.037988\t\n",
       "after 224 evaluations, J(x) = 0.037239\t\n",
       "after 225 evaluations, J(x) = 0.036494\t\n",
       "after 226 evaluations, J(x) = 0.035754\t\n",
       "after 227 evaluations, J(x) = 0.035017\t\n",
       "after 228 evaluations, J(x) = 0.034285\t\n",
       "after 229 evaluations, J(x) = 0.033556\t\n",
       "after 230 evaluations, J(x) = 0.032832\t\n",
       "after 231 evaluations, J(x) = 0.032111\t\n",
       "after 232 evaluations, J(x) = 0.031395\t\n",
       "after 233 evaluations, J(x) = 0.030682\t\n",
       "after 234 evaluations, J(x) = 0.029973\t\n",
       "after 235 evaluations, J(x) = 0.029267\t\n",
       "after 236 evaluations, J(x) = 0.028566\t\n",
       "after 237 evaluations, J(x) = 0.027867\t\n",
       "after 238 evaluations, J(x) = 0.027173\t\n",
       "after 239 evaluations, J(x) = 0.026482\t\n",
       "after 240 evaluations, J(x) = 0.025794\t\n"
      ]
     },
     "execution_count": 38,
     "metadata": {},
     "output_type": "execute_result"
    },
    {
     "data": {
      "text/plain": [
       "after 241 evaluations, J(x) = 0.025110\t\n",
       "after 242 evaluations, J(x) = 0.024430\t\n",
       "after 243 evaluations, J(x) = 0.023752\t\n",
       "after 244 evaluations, J(x) = 0.023078\t\n",
       "after 245 evaluations, J(x) = 0.022408\t\n",
       "after 246 evaluations, J(x) = 0.021740\t\n",
       "after 247 evaluations, J(x) = 0.021076\t\n",
       "after 248 evaluations, J(x) = 0.020414\t\n",
       "after 249 evaluations, J(x) = 0.019756\t\n",
       "after 250 evaluations, J(x) = 0.019101\t\n",
       "after 251 evaluations, J(x) = 0.018449\t\n",
       "after 252 evaluations, J(x) = 0.017799\t\n",
       "after 253 evaluations, J(x) = 0.017153\t\n",
       "after 254 evaluations, J(x) = 0.016510\t\n",
       "after 255 evaluations, J(x) = 0.015869\t\n",
       "after 256 evaluations, J(x) = 0.015232\t\n",
       "after 257 evaluations, J(x) = 0.014597\t\n",
       "after 258 evaluations, J(x) = 0.013965\t\n",
       "after 259 evaluations, J(x) = 0.013335\t\n",
       "after 260 evaluations, J(x) = 0.012708\t\n",
       "after 261 evaluations, J(x) = 0.012084\t\n",
       "after 262 evaluations, J(x) = 0.011463\t\n",
       "after 263 evaluations, J(x) = 0.010844\t\n",
       "after 264 evaluations, J(x) = 0.010227\t\n",
       "after 265 evaluations, J(x) = 0.009613\t\n",
       "after 266 evaluations, J(x) = 0.009002\t\n",
       "after 267 evaluations, J(x) = 0.008393\t\n",
       "after 268 evaluations, J(x) = 0.007786\t\n",
       "after 269 evaluations, J(x) = 0.007182\t\n",
       "after 270 evaluations, J(x) = 0.006580\t\n",
       "after 271 evaluations, J(x) = 0.005981\t\n"
      ]
     },
     "execution_count": 38,
     "metadata": {},
     "output_type": "execute_result"
    },
    {
     "data": {
      "text/plain": [
       "after 272 evaluations, J(x) = 0.005383\t\n",
       "after 273 evaluations, J(x) = 0.004788\t\n",
       "after 274 evaluations, J(x) = 0.004196\t\n",
       "after 275 evaluations, J(x) = 0.003605\t\n",
       "after 276 evaluations, J(x) = 0.003017\t\n",
       "after 277 evaluations, J(x) = 0.002431\t\n",
       "after 278 evaluations, J(x) = 0.001847\t\n",
       "after 279 evaluations, J(x) = 0.001265\t\n",
       "after 280 evaluations, J(x) = 0.000685\t\n",
       "after 281 evaluations, J(x) = 0.000107\t\n",
       "after 282 evaluations, J(x) = -0.000469\t\n",
       "after 283 evaluations, J(x) = -0.001043\t\n",
       "after 284 evaluations, J(x) = -0.001614\t\n",
       "after 285 evaluations, J(x) = -0.002184\t\n",
       "after 286 evaluations, J(x) = -0.002752\t\n",
       "after 287 evaluations, J(x) = -0.003318\t\n",
       "after 288 evaluations, J(x) = -0.003882\t\n",
       "after 289 evaluations, J(x) = -0.004445\t\n",
       "after 290 evaluations, J(x) = -0.005005\t\n",
       "after 291 evaluations, J(x) = -0.005564\t\n",
       "after 292 evaluations, J(x) = -0.006121\t\n",
       "after 293 evaluations, J(x) = -0.006676\t\n",
       "after 294 evaluations, J(x) = -0.007229\t\n",
       "after 295 evaluations, J(x) = -0.007781\t\n",
       "after 296 evaluations, J(x) = -0.008331\t\n",
       "after 297 evaluations, J(x) = -0.008879\t\n",
       "after 298 evaluations, J(x) = -0.009425\t\n",
       "after 299 evaluations, J(x) = -0.009970\t\n",
       "after 300 evaluations, J(x) = -0.010514\t\n",
       "after 301 evaluations, J(x) = -0.011055\t\n"
      ]
     },
     "execution_count": 38,
     "metadata": {},
     "output_type": "execute_result"
    },
    {
     "data": {
      "text/plain": [
       "after 302 evaluations, J(x) = -0.011595\t\n",
       "after 303 evaluations, J(x) = -0.012134\t\n",
       "after 304 evaluations, J(x) = -0.012671\t\n",
       "after 305 evaluations, J(x) = -0.013206\t\n",
       "after 306 evaluations, J(x) = -0.013740\t\n",
       "after 307 evaluations, J(x) = -0.014272\t\n",
       "after 308 evaluations, J(x) = -0.014803\t\n",
       "after 309 evaluations, J(x) = -0.015332\t\n",
       "after 310 evaluations, J(x) = -0.015860\t\n",
       "after 311 evaluations, J(x) = -0.016387\t\n",
       "after 312 evaluations, J(x) = -0.016912\t\n",
       "after 313 evaluations, J(x) = -0.017436\t\n",
       "after 314 evaluations, J(x) = -0.017958\t\n",
       "after 315 evaluations, J(x) = -0.018479\t\n",
       "after 316 evaluations, J(x) = -0.018999\t\n",
       "after 317 evaluations, J(x) = -0.019517\t\n",
       "after 318 evaluations, J(x) = -0.020034\t\n",
       "after 319 evaluations, J(x) = -0.020549\t\n",
       "after 320 evaluations, J(x) = -0.021064\t\n",
       "after 321 evaluations, J(x) = -0.021577\t\n",
       "after 322 evaluations, J(x) = -0.022089\t\n",
       "after 323 evaluations, J(x) = -0.022599\t\n",
       "after 324 evaluations, J(x) = -0.023108\t\n",
       "after 325 evaluations, J(x) = -0.023616\t\n",
       "after 326 evaluations, J(x) = -0.024123\t\n",
       "after 327 evaluations, J(x) = -0.024629\t\n",
       "after 328 evaluations, J(x) = -0.025133\t\n",
       "after 329 evaluations, J(x) = -0.025637\t\n",
       "after 330 evaluations, J(x) = -0.026139\t\n",
       "after 331 evaluations, J(x) = -0.026640\t\n",
       "after 332 evaluations, J(x) = -0.027139\t\n",
       "after 333 evaluations, J(x) = -0.027638\t\n"
      ]
     },
     "execution_count": 38,
     "metadata": {},
     "output_type": "execute_result"
    },
    {
     "data": {
      "text/plain": [
       "after 334 evaluations, J(x) = -0.028136\t\n",
       "after 335 evaluations, J(x) = -0.028632\t\n",
       "after 336 evaluations, J(x) = -0.029128\t\n",
       "after 337 evaluations, J(x) = -0.029622\t\n",
       "after 338 evaluations, J(x) = -0.030115\t\n",
       "after 339 evaluations, J(x) = -0.030607\t\n",
       "after 340 evaluations, J(x) = -0.031099\t\n",
       "after 341 evaluations, J(x) = -0.031589\t\n",
       "after 342 evaluations, J(x) = -0.032078\t\n",
       "after 343 evaluations, J(x) = -0.032566\t\n",
       "after 344 evaluations, J(x) = -0.033053\t\n",
       "after 345 evaluations, J(x) = -0.033539\t\n",
       "after 346 evaluations, J(x) = -0.034024\t\n",
       "after 347 evaluations, J(x) = -0.034508\t\n",
       "after 348 evaluations, J(x) = -0.034991\t\n",
       "after 349 evaluations, J(x) = -0.035474\t\n",
       "after 350 evaluations, J(x) = -0.035955\t\n",
       "after 351 evaluations, J(x) = -0.036435\t\n",
       "after 352 evaluations, J(x) = -0.036915\t\n",
       "after 353 evaluations, J(x) = -0.037393\t\n",
       "after 354 evaluations, J(x) = -0.037871\t\n",
       "after 355 evaluations, J(x) = -0.038347\t\n",
       "after 356 evaluations, J(x) = -0.038823\t\n",
       "after 357 evaluations, J(x) = -0.039298\t\n",
       "after 358 evaluations, J(x) = -0.039772\t\n",
       "after 359 evaluations, J(x) = -0.040245\t\n",
       "after 360 evaluations, J(x) = -0.040717\t\n",
       "after 361 evaluations, J(x) = -0.041189\t\n",
       "after 362 evaluations, J(x) = -0.041660\t\n",
       "after 363 evaluations, J(x) = -0.042129\t\n",
       "after 364 evaluations, J(x) = -0.042598\t\n"
      ]
     },
     "execution_count": 38,
     "metadata": {},
     "output_type": "execute_result"
    },
    {
     "data": {
      "text/plain": [
       "after 365 evaluations, J(x) = -0.043066\t\n",
       "after 366 evaluations, J(x) = -0.043534\t\n",
       "after 367 evaluations, J(x) = -0.044000\t\n",
       "after 368 evaluations, J(x) = -0.044466\t\n",
       "after 369 evaluations, J(x) = -0.044931\t\n",
       "after 370 evaluations, J(x) = -0.045395\t\n",
       "after 371 evaluations, J(x) = -0.045859\t\n",
       "after 372 evaluations, J(x) = -0.046321\t\n",
       "after 373 evaluations, J(x) = -0.046783\t\n",
       "after 374 evaluations, J(x) = -0.047244\t\n",
       "after 375 evaluations, J(x) = -0.047705\t\n",
       "after 376 evaluations, J(x) = -0.048164\t\n",
       "after 377 evaluations, J(x) = -0.048623\t\n",
       "after 378 evaluations, J(x) = -0.049081\t\n",
       "after 379 evaluations, J(x) = -0.049539\t\n",
       "after 380 evaluations, J(x) = -0.049995\t\n",
       "after 381 evaluations, J(x) = -0.050451\t\n",
       "after 382 evaluations, J(x) = -0.050907\t\n",
       "after 383 evaluations, J(x) = -0.051361\t\n",
       "after 384 evaluations, J(x) = -0.051815\t\n",
       "after 385 evaluations, J(x) = -0.052269\t\n",
       "after 386 evaluations, J(x) = -0.052721\t\n",
       "after 387 evaluations, J(x) = -0.053173\t\n",
       "after 388 evaluations, J(x) = -0.053624\t\n",
       "after 389 evaluations, J(x) = -0.054075\t\n",
       "after 390 evaluations, J(x) = -0.054525\t\n",
       "after 391 evaluations, J(x) = -0.054974\t\n",
       "after 392 evaluations, J(x) = -0.055423\t\n",
       "after 393 evaluations, J(x) = -0.055871\t\n",
       "after 394 evaluations, J(x) = -0.056318\t\n",
       "after 395 evaluations, J(x) = -0.056765\t\n"
      ]
     },
     "execution_count": 38,
     "metadata": {},
     "output_type": "execute_result"
    },
    {
     "data": {
      "text/plain": [
       "after 396 evaluations, J(x) = -0.057211\t\n",
       "after 397 evaluations, J(x) = -0.057656\t\n",
       "after 398 evaluations, J(x) = -0.058101\t\n",
       "after 399 evaluations, J(x) = -0.058545\t\n",
       "after 400 evaluations, J(x) = -0.058989\t\n",
       "after 401 evaluations, J(x) = -0.059432\t\n",
       "after 402 evaluations, J(x) = -0.059874\t\n",
       "after 403 evaluations, J(x) = -0.060316\t\n",
       "after 404 evaluations, J(x) = -0.060757\t\n",
       "after 405 evaluations, J(x) = -0.061198\t\n",
       "after 406 evaluations, J(x) = -0.061638\t\n",
       "after 407 evaluations, J(x) = -0.062078\t\n",
       "after 408 evaluations, J(x) = -0.062517\t\n",
       "after 409 evaluations, J(x) = -0.062955\t\n",
       "after 410 evaluations, J(x) = -0.063393\t\n",
       "after 411 evaluations, J(x) = -0.063830\t\n",
       "after 412 evaluations, J(x) = -0.064267\t\n",
       "after 413 evaluations, J(x) = -0.064703\t\n",
       "after 414 evaluations, J(x) = -0.065139\t\n",
       "after 415 evaluations, J(x) = -0.065574\t\n",
       "after 416 evaluations, J(x) = -0.066008\t\n",
       "after 417 evaluations, J(x) = -0.066442\t\n",
       "after 418 evaluations, J(x) = -0.066876\t\n",
       "after 419 evaluations, J(x) = -0.067309\t\n",
       "after 420 evaluations, J(x) = -0.067741\t\n",
       "after 421 evaluations, J(x) = -0.068173\t\n",
       "after 422 evaluations, J(x) = -0.068604\t\n",
       "after 423 evaluations, J(x) = -0.069035\t"
      ]
     },
     "execution_count": 38,
     "metadata": {},
     "output_type": "execute_result"
    },
    {
     "data": {
      "text/plain": [
       "\n",
       "after 424 evaluations, J(x) = -0.069465\t\n",
       "after 425 evaluations, J(x) = -0.069895\t\n",
       "after 426 evaluations, J(x) = -0.070325\t\n",
       "after 427 evaluations, J(x) = -0.070753\t\n",
       "after 428 evaluations, J(x) = -0.071182\t\n",
       "after 429 evaluations, J(x) = -0.071610\t\n",
       "after 430 evaluations, J(x) = -0.072037\t\n",
       "after 431 evaluations, J(x) = -0.072464\t\n",
       "after 432 evaluations, J(x) = -0.072890\t\n",
       "after 433 evaluations, J(x) = -0.073316\t\n",
       "after 434 evaluations, J(x) = -0.073742\t\n",
       "after 435 evaluations, J(x) = -0.074167\t\n",
       "after 436 evaluations, J(x) = -0.074591\t\n",
       "after 437 evaluations, J(x) = -0.075015\t\n",
       "after 438 evaluations, J(x) = -0.075439\t\n",
       "after 439 evaluations, J(x) = -0.075862\t\n",
       "after 440 evaluations, J(x) = -0.076285\t\n",
       "after 441 evaluations, J(x) = -0.076707\t\n",
       "after 442 evaluations, J(x) = -0.077128\t\n",
       "after 443 evaluations, J(x) = -0.077550\t\n",
       "after 444 evaluations, J(x) = -0.077971\t\n",
       "after 445 evaluations, J(x) = -0.078391\t\n",
       "after 446 evaluations, J(x) = -0.078811\t\n",
       "after 447 evaluations, J(x) = -0.079230\t\n",
       "after 448 evaluations, J(x) = -0.079650\t\n",
       "after 449 evaluations, J(x) = -0.080068\t\n"
      ]
     },
     "execution_count": 38,
     "metadata": {},
     "output_type": "execute_result"
    },
    {
     "data": {
      "text/plain": [
       "after 450 evaluations, J(x) = -0.080486\t\n",
       "after 451 evaluations, J(x) = -0.080904\t\n",
       "after 452 evaluations, J(x) = -0.081321\t\n",
       "after 453 evaluations, J(x) = -0.081738\t\n",
       "after 454 evaluations, J(x) = -0.082155\t\n",
       "after 455 evaluations, J(x) = -0.082571\t\n",
       "after 456 evaluations, J(x) = -0.082987\t\n",
       "after 457 evaluations, J(x) = -0.083402\t\n",
       "after 458 evaluations, J(x) = -0.083817\t\n",
       "after 459 evaluations, J(x) = -0.084231\t\n",
       "after 460 evaluations, J(x) = -0.084645\t\n",
       "after 461 evaluations, J(x) = -0.085059\t\n",
       "after 462 evaluations, J(x) = -0.085472\t\n",
       "after 463 evaluations, J(x) = -0.085885\t\n",
       "after 464 evaluations, J(x) = -0.086297\t\n",
       "after 465 evaluations, J(x) = -0.086709\t\n",
       "after 466 evaluations, J(x) = -0.087121\t\n",
       "after 467 evaluations, J(x) = -0.087532\t\n",
       "after 468 evaluations, J(x) = -0.087943\t\n",
       "after 469 evaluations, J(x) = -0.088353\t\n",
       "after 470 evaluations, J(x) = -0.088763\t\n",
       "after 471 evaluations, J(x) = -0.089173\t\n",
       "after 472 evaluations, J(x) = -0.089582\t\n",
       "after 473 evaluations, J(x) = -0.089991\t\n",
       "after 474 evaluations, J(x) = -0.090399\t\n",
       "after 475 evaluations, J(x) = -0.090807\t\n",
       "after 476 evaluations, J(x) = -0.091215\t\n"
      ]
     },
     "execution_count": 38,
     "metadata": {},
     "output_type": "execute_result"
    },
    {
     "data": {
      "text/plain": [
       "after 477 evaluations, J(x) = -0.091622\t\n",
       "after 478 evaluations, J(x) = -0.092029\t\n",
       "after 479 evaluations, J(x) = -0.092436\t\n",
       "after 480 evaluations, J(x) = -0.092842\t\n",
       "after 481 evaluations, J(x) = -0.093248\t\n",
       "after 482 evaluations, J(x) = -0.093654\t\n",
       "after 483 evaluations, J(x) = -0.094059\t\n",
       "after 484 evaluations, J(x) = -0.094464\t\n",
       "after 485 evaluations, J(x) = -0.094868\t\n",
       "after 486 evaluations, J(x) = -0.095272\t\n",
       "after 487 evaluations, J(x) = -0.095676\t\n",
       "after 488 evaluations, J(x) = -0.096079\t\n",
       "after 489 evaluations, J(x) = -0.096482\t\n",
       "after 490 evaluations, J(x) = -0.096885\t\n",
       "after 491 evaluations, J(x) = -0.097287\t\n",
       "after 492 evaluations, J(x) = -0.097689\t\n",
       "after 493 evaluations, J(x) = -0.098090\t\n",
       "after 494 evaluations, J(x) = -0.098492\t\n",
       "after 495 evaluations, J(x) = -0.098892\t\n",
       "after 496 evaluations, J(x) = -0.099293\t\n",
       "after 497 evaluations, J(x) = -0.099693\t\n",
       "after 498 evaluations, J(x) = -0.100093\t\n",
       "after 499 evaluations, J(x) = -0.100492\t\n",
       "after 500 evaluations, J(x) = -0.100892\t\n",
       "after 501 evaluations, J(x) = -0.101290\t\n",
       "after 502 evaluations, J(x) = -0.101689\t\n",
       "after 503 evaluations, J(x) = -0.102087\t\n",
       "after 504 evaluations, J(x) = -0.102485\t\n"
      ]
     },
     "execution_count": 38,
     "metadata": {},
     "output_type": "execute_result"
    },
    {
     "data": {
      "text/plain": [
       "after 505 evaluations, J(x) = -0.102882\t\n",
       "after 506 evaluations, J(x) = -0.103280\t\n",
       "after 507 evaluations, J(x) = -0.103676\t\n",
       "after 508 evaluations, J(x) = -0.104073\t\n",
       "after 509 evaluations, J(x) = -0.104469\t\n",
       "after 510 evaluations, J(x) = -0.104865\t\n",
       "after 511 evaluations, J(x) = -0.105260\t\n",
       "after 512 evaluations, J(x) = -0.105656\t\n",
       "after 513 evaluations, J(x) = -0.106050\t\n",
       "after 514 evaluations, J(x) = -0.106445\t\n",
       "after 515 evaluations, J(x) = -0.106839\t\n",
       "after 516 evaluations, J(x) = -0.107233\t\n",
       "after 517 evaluations, J(x) = -0.107627\t\n",
       "after 518 evaluations, J(x) = -0.108020\t\n",
       "after 519 evaluations, J(x) = -0.108413\t\n",
       "after 520 evaluations, J(x) = -0.108806\t\n",
       "after 521 evaluations, J(x) = -0.109198\t\n",
       "after 522 evaluations, J(x) = -0.109590\t\n",
       "after 523 evaluations, J(x) = -0.109982\t\n",
       "after 524 evaluations, J(x) = -0.110373\t\n",
       "after 525 evaluations, J(x) = -0.110764\t\n",
       "after 526 evaluations, J(x) = -0.111155\t\n",
       "after 527 evaluations, J(x) = -0.111546\t\n",
       "after 528 evaluations, J(x) = -0.111936\t\n",
       "after 529 evaluations, J(x) = -0.112326\t\n",
       "after 530 evaluations, J(x) = -0.112715\t\n"
      ]
     },
     "execution_count": 38,
     "metadata": {},
     "output_type": "execute_result"
    },
    {
     "data": {
      "text/plain": [
       "after 531 evaluations, J(x) = -0.113104\t\n",
       "after 532 evaluations, J(x) = -0.113493\t\n",
       "after 533 evaluations, J(x) = -0.113882\t\n",
       "after 534 evaluations, J(x) = -0.114270\t\n",
       "after 535 evaluations, J(x) = -0.114658\t\n",
       "after 536 evaluations, J(x) = -0.115046\t\n",
       "after 537 evaluations, J(x) = -0.115434\t\n",
       "after 538 evaluations, J(x) = -0.115821\t\n",
       "after 539 evaluations, J(x) = -0.116208\t\n",
       "after 540 evaluations, J(x) = -0.116594\t\n",
       "after 541 evaluations, J(x) = -0.116981\t\n",
       "after 542 evaluations, J(x) = -0.117367\t\n",
       "after 543 evaluations, J(x) = -0.117752\t\n",
       "after 544 evaluations, J(x) = -0.118138\t\n",
       "after 545 evaluations, J(x) = -0.118523\t\n",
       "after 546 evaluations, J(x) = -0.118908\t\n",
       "after 547 evaluations, J(x) = -0.119292\t\n",
       "after 548 evaluations, J(x) = -0.119677\t\n",
       "after 549 evaluations, J(x) = -0.120061\t\n",
       "after 550 evaluations, J(x) = -0.120444\t\n",
       "after 551 evaluations, J(x) = -0.120828\t\n",
       "after 552 evaluations, J(x) = -0.121211\t\n",
       "after 553 evaluations, J(x) = -0.121594\t\n",
       "after 554 evaluations, J(x) = -0.121976\t\n",
       "after 555 evaluations, J(x) = -0.122359\t\n",
       "after 556 evaluations, J(x) = -0.122741\t\n",
       "after 557 evaluations, J(x) = -0.123122\t\n",
       "after 558 evaluations, J(x) = -0.123504\t\n",
       "after 559 evaluations, J(x) = -0.123885\t\n"
      ]
     },
     "execution_count": 38,
     "metadata": {},
     "output_type": "execute_result"
    },
    {
     "data": {
      "text/plain": [
       "after 560 evaluations, J(x) = -0.124266\t\n",
       "after 561 evaluations, J(x) = -0.124646\t\n",
       "after 562 evaluations, J(x) = -0.125027\t\n",
       "after 563 evaluations, J(x) = -0.125407\t\n",
       "after 564 evaluations, J(x) = -0.125787\t\n",
       "after 565 evaluations, J(x) = -0.126166\t\n",
       "after 566 evaluations, J(x) = -0.126546\t\n",
       "after 567 evaluations, J(x) = -0.126925\t\n",
       "after 568 evaluations, J(x) = -0.127303\t\n",
       "after 569 evaluations, J(x) = -0.127682\t\n",
       "after 570 evaluations, J(x) = -0.128060\t\n",
       "after 571 evaluations, J(x) = -0.128438\t\n",
       "after 572 evaluations, J(x) = -0.128815\t\n",
       "after 573 evaluations, J(x) = -0.129193\t\n",
       "after 574 evaluations, J(x) = -0.129570\t\n",
       "after 575 evaluations, J(x) = -0.129947\t\n",
       "after 576 evaluations, J(x) = -0.130323\t\n",
       "after 577 evaluations, J(x) = -0.130700\t\n",
       "after 578 evaluations, J(x) = -0.131076\t\n",
       "after 579 evaluations, J(x) = -0.131452\t\n",
       "after 580 evaluations, J(x) = -0.131827\t\n",
       "after 581 evaluations, J(x) = -0.132202\t\n",
       "after 582 evaluations, J(x) = -0.132577\t\n",
       "after 583 evaluations, J(x) = -0.132952\t\n",
       "after 584 evaluations, J(x) = -0.133327\t\n",
       "after 585 evaluations, J(x) = -0.133701\t\n",
       "after 586 evaluations, J(x) = -0.134075\t\n",
       "after 587 evaluations, J(x) = -0.134449\t\n",
       "after 588 evaluations, J(x) = -0.134822\t\n",
       "after 589 evaluations, J(x) = -0.135195\t\n"
      ]
     },
     "execution_count": 38,
     "metadata": {},
     "output_type": "execute_result"
    },
    {
     "data": {
      "text/plain": [
       "after 590 evaluations, J(x) = -0.135568\t\n",
       "after 591 evaluations, J(x) = -0.135941\t\n",
       "after 592 evaluations, J(x) = -0.136313\t\n",
       "after 593 evaluations, J(x) = -0.136686\t\n",
       "after 594 evaluations, J(x) = -0.137058\t\n",
       "after 595 evaluations, J(x) = -0.137429\t\n",
       "after 596 evaluations, J(x) = -0.137801\t\n",
       "after 597 evaluations, J(x) = -0.138172\t\n",
       "after 598 evaluations, J(x) = -0.138543\t\n",
       "after 599 evaluations, J(x) = -0.138914\t\n",
       "after 600 evaluations, J(x) = -0.139284\t\n",
       "after 601 evaluations, J(x) = -0.139654\t\n",
       "after 602 evaluations, J(x) = -0.140024\t\n",
       "after 603 evaluations, J(x) = -0.140394\t\n",
       "after 604 evaluations, J(x) = -0.140763\t\n",
       "after 605 evaluations, J(x) = -0.141133\t\n",
       "after 606 evaluations, J(x) = -0.141502\t\n",
       "after 607 evaluations, J(x) = -0.141870\t\n",
       "after 608 evaluations, J(x) = -0.142239\t\n",
       "after 609 evaluations, J(x) = -0.142607\t\n",
       "after 610 evaluations, J(x) = -0.142975\t\n",
       "after 611 evaluations, J(x) = -0.143343\t\n",
       "after 612 evaluations, J(x) = -0.143710\t\n",
       "after 613 evaluations, J(x) = -0.144078\t\n",
       "after 614 evaluations, J(x) = -0.144445\t\n",
       "after 615 evaluations, J(x) = -0.144811\t\n",
       "after 616 evaluations, J(x) = -0.145178\t\n",
       "after 617 evaluations, J(x) = -0.145544\t\n",
       "after 618 evaluations, J(x) = -0.145910\t\n",
       "after 619 evaluations, J(x) = -0.146276\t\n"
      ]
     },
     "execution_count": 38,
     "metadata": {},
     "output_type": "execute_result"
    },
    {
     "data": {
      "text/plain": [
       "after 620 evaluations, J(x) = -0.146642\t\n",
       "after 621 evaluations, J(x) = -0.147007\t\n",
       "after 622 evaluations, J(x) = -0.147372\t\n",
       "after 623 evaluations, J(x) = -0.147737\t\n",
       "after 624 evaluations, J(x) = -0.148102\t\n",
       "after 625 evaluations, J(x) = -0.148466\t\n",
       "after 626 evaluations, J(x) = -0.148830\t\n",
       "after 627 evaluations, J(x) = -0.149194\t\n",
       "after 628 evaluations, J(x) = -0.149558\t\n",
       "after 629 evaluations, J(x) = -0.149921\t\n",
       "after 630 evaluations, J(x) = -0.150285\t\n",
       "after 631 evaluations, J(x) = -0.150648\t\n",
       "after 632 evaluations, J(x) = -0.151010\t\n",
       "after 633 evaluations, J(x) = -0.151373\t\n",
       "after 634 evaluations, J(x) = -0.151735\t\n",
       "after 635 evaluations, J(x) = -0.152097\t\n",
       "after 636 evaluations, J(x) = -0.152459\t\n",
       "after 637 evaluations, J(x) = -0.152821\t\n",
       "after 638 evaluations, J(x) = -0.153182\t\n",
       "after 639 evaluations, J(x) = -0.153543\t\n",
       "after 640 evaluations, J(x) = -0.153904\t\n",
       "after 641 evaluations, J(x) = -0.154265\t\n",
       "after 642 evaluations, J(x) = -0.154626\t\n",
       "after 643 evaluations, J(x) = -0.154986\t\n",
       "after 644 evaluations, J(x) = -0.155346\t\n",
       "after 645 evaluations, J(x) = -0.155706\t\n",
       "after 646 evaluations, J(x) = -0.156065\t\n",
       "after 647 evaluations, J(x) = -0.156425\t\n",
       "after 648 evaluations, J(x) = -0.156784\t\n",
       "after 649 evaluations, J(x) = -0.157143\t\n"
      ]
     },
     "execution_count": 38,
     "metadata": {},
     "output_type": "execute_result"
    },
    {
     "data": {
      "text/plain": [
       "after 650 evaluations, J(x) = -0.157501\t\n",
       "after 651 evaluations, J(x) = -0.157860\t\n",
       "after 652 evaluations, J(x) = -0.158218\t\n",
       "after 653 evaluations, J(x) = -0.158576\t\n",
       "after 654 evaluations, J(x) = -0.158934\t\n",
       "after 655 evaluations, J(x) = -0.159291\t\n",
       "after 656 evaluations, J(x) = -0.159649\t\n",
       "after 657 evaluations, J(x) = -0.160006\t\n",
       "after 658 evaluations, J(x) = -0.160363\t\n",
       "after 659 evaluations, J(x) = -0.160720\t\n",
       "after 660 evaluations, J(x) = -0.161076\t\n",
       "after 661 evaluations, J(x) = -0.161432\t\n",
       "after 662 evaluations, J(x) = -0.161788\t\n",
       "after 663 evaluations, J(x) = -0.162144\t\n",
       "after 664 evaluations, J(x) = -0.162500\t\n"
      ]
     },
     "execution_count": 38,
     "metadata": {},
     "output_type": "execute_result"
    },
    {
     "data": {
      "text/plain": [
       "after 665 evaluations, J(x) = -0.162855\t\n",
       "after 666 evaluations, J(x) = -0.163210\t\n",
       "after 667 evaluations, J(x) = -0.163565\t\n",
       "after 668 evaluations, J(x) = -0.163920\t\n",
       "after 669 evaluations, J(x) = -0.164275\t\n",
       "after 670 evaluations, J(x) = -0.164629\t\n",
       "after 671 evaluations, J(x) = -0.164983\t\n",
       "after 672 evaluations, J(x) = -0.165337\t\n",
       "after 673 evaluations, J(x) = -0.165691\t\n",
       "after 674 evaluations, J(x) = -0.166044\t\n",
       "after 675 evaluations, J(x) = -0.166397\t\n",
       "after 676 evaluations, J(x) = -0.166750\t\n",
       "after 677 evaluations, J(x) = -0.167103\t\n",
       "after 678 evaluations, J(x) = -0.167456\t\n",
       "after 679 evaluations, J(x) = -0.167808\t\n",
       "after 680 evaluations, J(x) = -0.168160\t\n",
       "after 681 evaluations, J(x) = -0.168512\t\n",
       "after 682 evaluations, J(x) = -0.168864\t\n"
      ]
     },
     "execution_count": 38,
     "metadata": {},
     "output_type": "execute_result"
    },
    {
     "data": {
      "text/plain": [
       "after 683 evaluations, J(x) = -0.169216\t\n",
       "after 684 evaluations, J(x) = -0.169567\t\n",
       "after 685 evaluations, J(x) = -0.169918\t\n",
       "after 686 evaluations, J(x) = -0.170269\t\n",
       "after 687 evaluations, J(x) = -0.170620\t\n",
       "after 688 evaluations, J(x) = -0.170970\t\n",
       "after 689 evaluations, J(x) = -0.171321\t\n",
       "after 690 evaluations, J(x) = -0.171671\t\n",
       "after 691 evaluations, J(x) = -0.172021\t\n",
       "after 692 evaluations, J(x) = -0.172370\t\n",
       "after 693 evaluations, J(x) = -0.172720\t\n",
       "after 694 evaluations, J(x) = -0.173069\t\n",
       "after 695 evaluations, J(x) = -0.173418\t\n",
       "after 696 evaluations, J(x) = -0.173767\t\n",
       "after 697 evaluations, J(x) = -0.174116\t\n",
       "after 698 evaluations, J(x) = -0.174464\t\n",
       "after 699 evaluations, J(x) = -0.174812\t\n",
       "after 700 evaluations, J(x) = -0.175161\t\n"
      ]
     },
     "execution_count": 38,
     "metadata": {},
     "output_type": "execute_result"
    },
    {
     "data": {
      "text/plain": [
       "after 701 evaluations, J(x) = -0.175508\t\n",
       "after 702 evaluations, J(x) = -0.175856\t\n",
       "after 703 evaluations, J(x) = -0.176204\t\n",
       "after 704 evaluations, J(x) = -0.176551\t\n",
       "after 705 evaluations, J(x) = -0.176898\t\n",
       "after 706 evaluations, J(x) = -0.177245\t\n",
       "after 707 evaluations, J(x) = -0.177591\t\n",
       "after 708 evaluations, J(x) = -0.177938\t\n",
       "after 709 evaluations, J(x) = -0.178284\t\n",
       "after 710 evaluations, J(x) = -0.178630\t\n",
       "after 711 evaluations, J(x) = -0.178976\t\n",
       "after 712 evaluations, J(x) = -0.179322\t\n",
       "after 713 evaluations, J(x) = -0.179667\t\n",
       "after 714 evaluations, J(x) = -0.180012\t\n",
       "after 715 evaluations, J(x) = -0.180357\t\n",
       "after 716 evaluations, J(x) = -0.180702\t\n",
       "after 717 evaluations, J(x) = -0.181047\t\n",
       "after 718 evaluations, J(x) = -0.181391\t\n",
       "after 719 evaluations, J(x) = -0.181736\t\n",
       "after 720 evaluations, J(x) = -0.182080\t\n",
       "after 721 evaluations, J(x) = -0.182423\t\n",
       "after 722 evaluations, J(x) = -0.182767\t\n",
       "after 723 evaluations, J(x) = -0.183111\t\n"
      ]
     },
     "execution_count": 38,
     "metadata": {},
     "output_type": "execute_result"
    },
    {
     "data": {
      "text/plain": [
       "after 724 evaluations, J(x) = -0.183454\t\n",
       "after 725 evaluations, J(x) = -0.183797\t\n",
       "after 726 evaluations, J(x) = -0.184140\t\n"
      ]
     },
     "execution_count": 38,
     "metadata": {},
     "output_type": "execute_result"
    },
    {
     "data": {
      "text/plain": [
       "after 727 evaluations, J(x) = -0.184483\t\n",
       "after 728 evaluations, J(x) = -0.184825\t\n",
       "after 729 evaluations, J(x) = -0.185167\t\n",
       "after 730 evaluations, J(x) = -0.185510\t\n",
       "after 731 evaluations, J(x) = -0.185852\t\n",
       "after 732 evaluations, J(x) = -0.186193\t\n",
       "after 733 evaluations, J(x) = -0.186535\t\n",
       "after 734 evaluations, J(x) = -0.186876\t\n",
       "after 735 evaluations, J(x) = -0.187217\t\n",
       "after 736 evaluations, J(x) = -0.187558\t\n",
       "after 737 evaluations, J(x) = -0.187899\t\n",
       "after 738 evaluations, J(x) = -0.188240\t\n",
       "after 739 evaluations, J(x) = -0.188580\t\n",
       "after 740 evaluations, J(x) = -0.188920\t\n",
       "after 741 evaluations, J(x) = -0.189260\t\n",
       "after 742 evaluations, J(x) = -0.189600\t\n",
       "after 743 evaluations, J(x) = -0.189940\t\n",
       "after 744 evaluations, J(x) = -0.190279\t\n",
       "after 745 evaluations, J(x) = -0.190619\t\n",
       "after 746 evaluations, J(x) = -0.190958\t\n",
       "after 747 evaluations, J(x) = -0.191297\t\n"
      ]
     },
     "execution_count": 38,
     "metadata": {},
     "output_type": "execute_result"
    },
    {
     "data": {
      "text/plain": [
       "after 748 evaluations, J(x) = -0.191635\t\n",
       "after 749 evaluations, J(x) = -0.191974\t\n",
       "after 750 evaluations, J(x) = -0.192312\t\n",
       "after 751 evaluations, J(x) = -0.192650\t\n",
       "after 752 evaluations, J(x) = -0.192988\t\n",
       "after 753 evaluations, J(x) = -0.193326\t\n",
       "after 754 evaluations, J(x) = -0.193664\t\n",
       "after 755 evaluations, J(x) = -0.194001\t\n",
       "after 756 evaluations, J(x) = -0.194338\t\n",
       "after 757 evaluations, J(x) = -0.194675\t\n",
       "after 758 evaluations, J(x) = -0.195012\t\n",
       "after 759 evaluations, J(x) = -0.195349\t\n",
       "after 760 evaluations, J(x) = -0.195685\t\n",
       "after 761 evaluations, J(x) = -0.196022\t\n",
       "after 762 evaluations, J(x) = -0.196358\t\n",
       "after 763 evaluations, J(x) = -0.196694\t\n",
       "after 764 evaluations, J(x) = -0.197029\t\n",
       "after 765 evaluations, J(x) = -0.197365\t\n",
       "after 766 evaluations, J(x) = -0.197700\t\n",
       "after 767 evaluations, J(x) = -0.198036\t\n",
       "after 768 evaluations, J(x) = -0.198371\t\n",
       "after 769 evaluations, J(x) = -0.198706\t\n",
       "after 770 evaluations, J(x) = -0.199040\t\n",
       "after 771 evaluations, J(x) = -0.199375\t\n",
       "after 772 evaluations, J(x) = -0.199709\t\n",
       "after 773 evaluations, J(x) = -0.200043\t\n",
       "after 774 evaluations, J(x) = -0.200377\t\n"
      ]
     },
     "execution_count": 38,
     "metadata": {},
     "output_type": "execute_result"
    },
    {
     "data": {
      "text/plain": [
       "after 775 evaluations, J(x) = -0.200711\t\n",
       "after 776 evaluations, J(x) = -0.201044\t\n",
       "after 777 evaluations, J(x) = -0.201378\t\n",
       "after 778 evaluations, J(x) = -0.201711\t\n",
       "after 779 evaluations, J(x) = -0.202044\t\n",
       "after 780 evaluations, J(x) = -0.202377\t\n",
       "after 781 evaluations, J(x) = -0.202710\t\n",
       "after 782 evaluations, J(x) = -0.203042\t\n",
       "after 783 evaluations, J(x) = -0.203375\t\n",
       "after 784 evaluations, J(x) = -0.203707\t\n",
       "after 785 evaluations, J(x) = -0.204039\t\n",
       "after 786 evaluations, J(x) = -0.204371\t\n",
       "after 787 evaluations, J(x) = -0.204702\t\n",
       "after 788 evaluations, J(x) = -0.205034\t\n",
       "after 789 evaluations, J(x) = -0.205365\t\n",
       "after 790 evaluations, J(x) = -0.205696\t\n",
       "after 791 evaluations, J(x) = -0.206027\t\n",
       "after 792 evaluations, J(x) = -0.206358\t\n",
       "after 793 evaluations, J(x) = -0.206688\t\n",
       "after 794 evaluations, J(x) = -0.207019\t\n",
       "after 795 evaluations, J(x) = -0.207349\t\n",
       "after 796 evaluations, J(x) = -0.207679\t\n",
       "after 797 evaluations, J(x) = -0.208009\t\n",
       "after 798 evaluations, J(x) = -0.208339\t\n",
       "after 799 evaluations, J(x) = -0.208668\t\n",
       "after 800 evaluations, J(x) = -0.208998\t\n"
      ]
     },
     "execution_count": 38,
     "metadata": {},
     "output_type": "execute_result"
    },
    {
     "data": {
      "text/plain": [
       "after 801 evaluations, J(x) = -0.209327\t\n",
       "after 802 evaluations, J(x) = -0.209656\t\n",
       "after 803 evaluations, J(x) = -0.209985\t\n",
       "after 804 evaluations, J(x) = -0.210314\t\n",
       "after 805 evaluations, J(x) = -0.210642\t\n",
       "after 806 evaluations, J(x) = -0.210971\t\n",
       "after 807 evaluations, J(x) = -0.211299\t\n",
       "after 808 evaluations, J(x) = -0.211627\t\n",
       "after 809 evaluations, J(x) = -0.211955\t\n",
       "after 810 evaluations, J(x) = -0.212282\t\n",
       "after 811 evaluations, J(x) = -0.212610\t\n",
       "after 812 evaluations, J(x) = -0.212937\t\n",
       "after 813 evaluations, J(x) = -0.213264\t\n",
       "after 814 evaluations, J(x) = -0.213591\t\n",
       "after 815 evaluations, J(x) = -0.213918\t\n",
       "after 816 evaluations, J(x) = -0.214245\t\n",
       "after 817 evaluations, J(x) = -0.214571\t\n",
       "after 818 evaluations, J(x) = -0.214898\t\n",
       "after 819 evaluations, J(x) = -0.215224\t\n",
       "after 820 evaluations, J(x) = -0.215550\t\n",
       "after 821 evaluations, J(x) = -0.215876\t\n",
       "after 822 evaluations, J(x) = -0.216201\t\n",
       "after 823 evaluations, J(x) = -0.216527\t\n",
       "after 824 evaluations, J(x) = -0.216852\t\n",
       "after 825 evaluations, J(x) = -0.217177\t\n",
       "after 826 evaluations, J(x) = -0.217502\t\n",
       "after 827 evaluations, J(x) = -0.217827\t\n",
       "after 828 evaluations, J(x) = -0.218152\t\n",
       "after 829 evaluations, J(x) = -0.218476\t\n",
       "after 830 evaluations, J(x) = -0.218801\t\n",
       "after 831 evaluations, J(x) = -0.219125\t\n"
      ]
     },
     "execution_count": 38,
     "metadata": {},
     "output_type": "execute_result"
    },
    {
     "data": {
      "text/plain": [
       "after 832 evaluations, J(x) = -0.219449\t\n",
       "after 833 evaluations, J(x) = -0.219773\t\n",
       "after 834 evaluations, J(x) = -0.220097\t\n",
       "after 835 evaluations, J(x) = -0.220420\t\n",
       "after 836 evaluations, J(x) = -0.220743\t\n",
       "after 837 evaluations, J(x) = -0.221067\t\n",
       "after 838 evaluations, J(x) = -0.221390\t\n",
       "after 839 evaluations, J(x) = -0.221713\t\n",
       "after 840 evaluations, J(x) = -0.222035\t\n",
       "after 841 evaluations, J(x) = -0.222358\t\n",
       "after 842 evaluations, J(x) = -0.222680\t\n",
       "after 843 evaluations, J(x) = -0.223003\t\n",
       "after 844 evaluations, J(x) = -0.223325\t\n",
       "after 845 evaluations, J(x) = -0.223647\t\n",
       "after 846 evaluations, J(x) = -0.223968\t\n",
       "after 847 evaluations, J(x) = -0.224290\t\n",
       "after 848 evaluations, J(x) = -0.224611\t\n",
       "after 849 evaluations, J(x) = -0.224933\t\n",
       "after 850 evaluations, J(x) = -0.225254\t\n",
       "after 851 evaluations, J(x) = -0.225575\t\n",
       "after 852 evaluations, J(x) = -0.225895\t\n",
       "after 853 evaluations, J(x) = -0.226216\t\n",
       "after 854 evaluations, J(x) = -0.226537\t\n",
       "after 855 evaluations, J(x) = -0.226857\t\n",
       "after 856 evaluations, J(x) = -0.227177\t\n",
       "after 857 evaluations, J(x) = -0.227497\t\n",
       "after 858 evaluations, J(x) = -0.227817\t\n",
       "after 859 evaluations, J(x) = -0.228137\t\n",
       "after 860 evaluations, J(x) = -0.228456\t\n",
       "after 861 evaluations, J(x) = -0.228776\t\n",
       "after 862 evaluations, J(x) = -0.229095\t\n",
       "after 863 evaluations, J(x) = -0.229414\t\n",
       "after 864 evaluations, J(x) = -0.229733\t\n",
       "after 865 evaluations, J(x) = -0.230052\t\n",
       "after 866 evaluations, J(x) = -0.230370\t\n",
       "after 867 evaluations, J(x) = -0.230689\t\n",
       "after 868 evaluations, J(x) = -0.231007\t\n",
       "after 869 evaluations, J(x) = -0.231325\t\n",
       "after 870 evaluations, J(x) = -0.231643\t\n",
       "after 871 evaluations, J(x) = -0.231961\t\n",
       "after 872 evaluations, J(x) = -0.232278\t\n",
       "after 873 evaluations, J(x) = -0.232596\t\n"
      ]
     },
     "execution_count": 38,
     "metadata": {},
     "output_type": "execute_result"
    },
    {
     "data": {
      "text/plain": [
       "after 874 evaluations, J(x) = -0.232913\t\n",
       "after 875 evaluations, J(x) = -0.233231\t\n",
       "after 876 evaluations, J(x) = -0.233548\t\n",
       "after 877 evaluations, J(x) = -0.233865\t\n",
       "after 878 evaluations, J(x) = -0.234181\t\n",
       "after 879 evaluations, J(x) = -0.234498\t\n",
       "after 880 evaluations, J(x) = -0.234814\t\n",
       "after 881 evaluations, J(x) = -0.235131\t\n",
       "after 882 evaluations, J(x) = -0.235447\t\n",
       "after 883 evaluations, J(x) = -0.235763\t\n",
       "after 884 evaluations, J(x) = -0.236079\t\n",
       "after 885 evaluations, J(x) = -0.236394\t\n",
       "after 886 evaluations, J(x) = -0.236710\t\n",
       "after 887 evaluations, J(x) = -0.237025\t\n",
       "after 888 evaluations, J(x) = -0.237340\t\n",
       "after 889 evaluations, J(x) = -0.237656\t\n",
       "after 890 evaluations, J(x) = -0.237970\t\n",
       "after 891 evaluations, J(x) = -0.238285\t\n",
       "after 892 evaluations, J(x) = -0.238600\t\n",
       "after 893 evaluations, J(x) = -0.238914\t\n",
       "after 894 evaluations, J(x) = -0.239229\t\n",
       "after 895 evaluations, J(x) = -0.239543\t\n",
       "after 896 evaluations, J(x) = -0.239857\t\n",
       "after 897 evaluations, J(x) = -0.240171\t\n",
       "after 898 evaluations, J(x) = -0.240485\t\n",
       "after 899 evaluations, J(x) = -0.240798\t\n",
       "after 900 evaluations, J(x) = -0.241112\t\n",
       "after 901 evaluations, J(x) = -0.241425\t\n",
       "after 902 evaluations, J(x) = -0.241738\t\n",
       "after 903 evaluations, J(x) = -0.242051\t\n",
       "after 904 evaluations, J(x) = -0.242364\t\n",
       "after 905 evaluations, J(x) = -0.242677\t\n",
       "after 906 evaluations, J(x) = -0.242989\t\n",
       "after 907 evaluations, J(x) = -0.243302\t\n",
       "after 908 evaluations, J(x) = -0.243614\t\n",
       "after 909 evaluations, J(x) = -0.243926\t\n",
       "after 910 evaluations, J(x) = -0.244238\t\n",
       "after 911 evaluations, J(x) = -0.244550\t\n",
       "after 912 evaluations, J(x) = -0.244862\t\n",
       "after 913 evaluations, J(x) = -0.245173\t\n",
       "after 914 evaluations, J(x) = -0.245484\t\n",
       "after 915 evaluations, J(x) = -0.245796\t\n",
       "after 916 evaluations, J(x) = -0.246107\t\n"
      ]
     },
     "execution_count": 38,
     "metadata": {},
     "output_type": "execute_result"
    },
    {
     "data": {
      "text/plain": [
       "after 917 evaluations, J(x) = -0.246418\t\n",
       "after 918 evaluations, J(x) = -0.246729\t\n",
       "after 919 evaluations, J(x) = -0.247039\t\n",
       "after 920 evaluations, J(x) = -0.247350\t\n",
       "after 921 evaluations, J(x) = -0.247660\t\n",
       "after 922 evaluations, J(x) = -0.247970\t\n",
       "after 923 evaluations, J(x) = -0.248281\t\n",
       "after 924 evaluations, J(x) = -0.248591\t\n",
       "after 925 evaluations, J(x) = -0.248900\t\n",
       "after 926 evaluations, J(x) = -0.249210\t\n",
       "after 927 evaluations, J(x) = -0.249520\t\n",
       "after 928 evaluations, J(x) = -0.249829\t\n",
       "after 929 evaluations, J(x) = -0.250138\t\n",
       "after 930 evaluations, J(x) = -0.250447\t\n",
       "after 931 evaluations, J(x) = -0.250756\t\n",
       "after 932 evaluations, J(x) = -0.251065\t\n",
       "after 933 evaluations, J(x) = -0.251374\t\n",
       "after 934 evaluations, J(x) = -0.251682\t\n",
       "after 935 evaluations, J(x) = -0.251991\t\n",
       "after 936 evaluations, J(x) = -0.252299\t\n",
       "after 937 evaluations, J(x) = -0.252607\t\n",
       "after 938 evaluations, J(x) = -0.252915\t\n",
       "after 939 evaluations, J(x) = -0.253223\t\n",
       "after 940 evaluations, J(x) = -0.253531\t\n",
       "after 941 evaluations, J(x) = -0.253838\t\n",
       "after 942 evaluations, J(x) = -0.254146\t\n",
       "after 943 evaluations, J(x) = -0.254453\t\n",
       "after 944 evaluations, J(x) = -0.254760\t\n",
       "after 945 evaluations, J(x) = -0.255067\t\n",
       "after 946 evaluations, J(x) = -0.255374\t\n",
       "after 947 evaluations, J(x) = -0.255681\t\n",
       "after 948 evaluations, J(x) = -0.255987\t\n",
       "after 949 evaluations, J(x) = -0.256294\t\n",
       "after 950 evaluations, J(x) = -0.256600\t\n",
       "after 951 evaluations, J(x) = -0.256906\t\n",
       "after 952 evaluations, J(x) = -0.257212\t\n",
       "after 953 evaluations, J(x) = -0.257518\t\n",
       "after 954 evaluations, J(x) = -0.257824\t\n",
       "after 955 evaluations, J(x) = -0.258130\t\n",
       "after 956 evaluations, J(x) = -0.258435\t\n",
       "after 957 evaluations, J(x) = -0.258740\t\n",
       "after 958 evaluations, J(x) = -0.259046\t\n",
       "after 959 evaluations, J(x) = -0.259351\t\n"
      ]
     },
     "execution_count": 38,
     "metadata": {},
     "output_type": "execute_result"
    },
    {
     "data": {
      "text/plain": [
       "after 960 evaluations, J(x) = -0.259656\t\n",
       "after 961 evaluations, J(x) = -0.259961\t\n",
       "after 962 evaluations, J(x) = -0.260265\t\n",
       "after 963 evaluations, J(x) = -0.260570\t\n",
       "after 964 evaluations, J(x) = -0.260874\t\n",
       "after 965 evaluations, J(x) = -0.261178\t\n",
       "after 966 evaluations, J(x) = -0.261483\t\n",
       "after 967 evaluations, J(x) = -0.261787\t\n",
       "after 968 evaluations, J(x) = -0.262090\t\n",
       "after 969 evaluations, J(x) = -0.262394\t\n",
       "after 970 evaluations, J(x) = -0.262698\t\n",
       "after 971 evaluations, J(x) = -0.263001\t\n",
       "after 972 evaluations, J(x) = -0.263305\t\n",
       "after 973 evaluations, J(x) = -0.263608\t\n",
       "after 974 evaluations, J(x) = -0.263911\t\n",
       "after 975 evaluations, J(x) = -0.264214\t\n",
       "after 976 evaluations, J(x) = -0.264517\t\n",
       "after 977 evaluations, J(x) = -0.264819\t\n",
       "after 978 evaluations, J(x) = -0.265122\t\n",
       "after 979 evaluations, J(x) = -0.265424\t\n",
       "after 980 evaluations, J(x) = -0.265727\t\n",
       "after 981 evaluations, J(x) = -0.266029\t\n",
       "after 982 evaluations, J(x) = -0.266331\t\n",
       "after 983 evaluations, J(x) = -0.266633\t\n",
       "after 984 evaluations, J(x) = -0.266934\t\n",
       "after 985 evaluations, J(x) = -0.267236\t\n",
       "after 986 evaluations, J(x) = -0.267537\t\n",
       "after 987 evaluations, J(x) = -0.267839\t\n",
       "after 988 evaluations, J(x) = -0.268140\t\n",
       "after 989 evaluations, J(x) = -0.268441\t\n",
       "after 990 evaluations, J(x) = -0.268742\t\n",
       "after 991 evaluations, J(x) = -0.269043\t\n",
       "after 992 evaluations, J(x) = -0.269344\t\n",
       "after 993 evaluations, J(x) = -0.269644\t\n",
       "after 994 evaluations, J(x) = -0.269945\t\n",
       "after 995 evaluations, J(x) = -0.270245\t\n",
       "after 996 evaluations, J(x) = -0.270545\t\n",
       "after 997 evaluations, J(x) = -0.270845\t\n",
       "after 998 evaluations, J(x) = -0.271145\t\n",
       "after 999 evaluations, J(x) = -0.271445\t\n",
       "after 1000 evaluations, J(x) = -0.271745\t\n"
      ]
     },
     "execution_count": 38,
     "metadata": {},
     "output_type": "execute_result"
    }
   ],
   "source": [
    "evaluations = {}\n",
    "time = {}\n",
    "neval = 0\n",
    "state = {\n",
    "    lr = 0.1\n",
    "}\n",
    "\n",
    "-- we start from the same starting point than for CG\n",
    "x = x0:clone()\n",
    "\n",
    "-- reset the timer!\n",
    "timer:reset()\n",
    "\n",
    "-- note that SGD optimizer requires us to do the loop\n",
    "for i=1,1000 do\n",
    "    optim.sgd(JdJ, x, state)\n",
    "    table.insert(evaluations, Jx)\n",
    "end\n",
    "\n",
    "sgdtime = torch.Tensor(time)\n",
    "sgdevaluations = torch.Tensor(evaluations)"
   ]
  },
  {
   "cell_type": "markdown",
   "metadata": {},
   "source": [
    "#### Final plot"
   ]
  },
  {
   "cell_type": "code",
   "execution_count": 39,
   "metadata": {
    "collapsed": false
   },
   "outputs": [
    {
     "data": {
      "text/plain": [
       "{\n",
       "  close : function: 0x40f0d8c0\n",
       "  raw : function: 0x40f0b640\n",
       "  axis : function: 0x40f0b618\n",
       "  figure : function: 0x40f0b0b0\n",
       "  setgnuplotexe : function: 0x40f0d620\n",
       "  plot : function: 0x40f0b660\n",
       "  zlabel : function: 0x40f0b270\n",
       "  svgfigure : function: 0x40f0ae90\n",
       "  histc : function: 0x41eb6bd0\n",
       "  setterm : function: 0x40f0d688\n",
       "  figprint : function: 0x40f0d650\n",
       "  xlabel : function: 0x40f0b220\n",
       "  hist : function: 0x40f0b820\n",
       "  imagesc : function: 0x40f0b798\n",
       "  grid : function: 0x40f0b2c0\n",
       "  epsfigure : function: 0x40f0ad80\n",
       "  pngfigure : function: 0x40f0aeb8\n",
       "  pdffigure : function: 0x40f0aee0\n",
       "  bar : function: 0x40f0b800\n",
       "  movelegend : function: 0x40f0b2e8\n",
       "  splot : function: 0x40f0b6c8\n",
       "  scatter3 : function: 0x40f0b730\n",
       "  ylabel : function: 0x40f0b248\n",
       "  closeall : function: 0x40f0d8e8\n",
       "  plotflush : function: 0x40f0b0d8\n",
       "  title : function: 0x40f0b298\n",
       "}\n"
      ]
     },
     "execution_count": 39,
     "metadata": {},
     "output_type": "execute_result"
    }
   ],
   "source": [
    "require 'gnuplot'"
   ]
  },
  {
   "cell_type": "code",
   "execution_count": 40,
   "metadata": {
    "collapsed": true
   },
   "outputs": [],
   "source": [
    "gnuplot.figure(1)\n",
    "gnuplot.title('CG loss miinimisation over time')\n",
    "gnuplot.plot(cgtime, sgevaluations)\n",
    "\n",
    "gnuplot.figure(2)\n",
    "gnuplot.title('SGD loss minimisation over time')\n",
    "gnuplot.plot(sgdtime, sgdevaluations)"
   ]
  },
  {
   "cell_type": "code",
   "execution_count": null,
   "metadata": {
    "collapsed": true
   },
   "outputs": [],
   "source": [
    "gnuplot.pngfigure('plot.png')\n",
    "gnuplot.plot(\n",
    "    {'CG', cgtime, cgevaluations, '-'},\n",
    "    {'SGD', sgdtime, sgdevaluations, '-'}\n",
    ")\n",
    "gnuplot.xlabel('time (s)')\n",
    "gnuplot.ylabel('J(x)')\n",
    "gnuplot.plotflush()"
   ]
  },
  {
   "cell_type": "code",
   "execution_count": null,
   "metadata": {
    "collapsed": true
   },
   "outputs": [],
   "source": []
  }
 ],
 "metadata": {
  "kernelspec": {
   "display_name": "iTorch",
   "language": "lua",
   "name": "itorch"
  },
  "language_info": {
   "name": "lua",
   "version": "20100"
  }
 },
 "nbformat": 4,
 "nbformat_minor": 0
}
